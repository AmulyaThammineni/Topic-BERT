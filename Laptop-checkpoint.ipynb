{
 "cells": [
  {
   "cell_type": "code",
   "execution_count": 1,
   "metadata": {},
   "outputs": [],
   "source": [
    "import warnings\n",
    "warnings.filterwarnings('ignore')"
   ]
  },
  {
   "cell_type": "code",
   "execution_count": 2,
   "metadata": {},
   "outputs": [],
   "source": [
    "import pandas as pd\n",
    "import numpy as np"
   ]
  },
  {
   "cell_type": "code",
   "execution_count": 31,
   "metadata": {},
   "outputs": [],
   "source": [
    "df = pd.read_csv('archive/Laptop_Train_v2.csv')"
   ]
  },
  {
   "cell_type": "code",
   "execution_count": 32,
   "metadata": {},
   "outputs": [
    {
     "data": {
      "text/html": [
       "<div>\n",
       "<style scoped>\n",
       "    .dataframe tbody tr th:only-of-type {\n",
       "        vertical-align: middle;\n",
       "    }\n",
       "\n",
       "    .dataframe tbody tr th {\n",
       "        vertical-align: top;\n",
       "    }\n",
       "\n",
       "    .dataframe thead th {\n",
       "        text-align: right;\n",
       "    }\n",
       "</style>\n",
       "<table border=\"1\" class=\"dataframe\">\n",
       "  <thead>\n",
       "    <tr style=\"text-align: right;\">\n",
       "      <th></th>\n",
       "      <th>id</th>\n",
       "      <th>Sentence</th>\n",
       "      <th>Aspect Term</th>\n",
       "      <th>polarity</th>\n",
       "      <th>from</th>\n",
       "      <th>to</th>\n",
       "    </tr>\n",
       "  </thead>\n",
       "  <tbody>\n",
       "    <tr>\n",
       "      <th>0</th>\n",
       "      <td>2339</td>\n",
       "      <td>I charge it at night and skip taking the cord ...</td>\n",
       "      <td>cord</td>\n",
       "      <td>neutral</td>\n",
       "      <td>41</td>\n",
       "      <td>45</td>\n",
       "    </tr>\n",
       "    <tr>\n",
       "      <th>1</th>\n",
       "      <td>2339</td>\n",
       "      <td>I charge it at night and skip taking the cord ...</td>\n",
       "      <td>battery life</td>\n",
       "      <td>positive</td>\n",
       "      <td>74</td>\n",
       "      <td>86</td>\n",
       "    </tr>\n",
       "    <tr>\n",
       "      <th>2</th>\n",
       "      <td>1316</td>\n",
       "      <td>The tech guy then said the service center does...</td>\n",
       "      <td>service center</td>\n",
       "      <td>negative</td>\n",
       "      <td>27</td>\n",
       "      <td>41</td>\n",
       "    </tr>\n",
       "    <tr>\n",
       "      <th>3</th>\n",
       "      <td>1316</td>\n",
       "      <td>The tech guy then said the service center does...</td>\n",
       "      <td>\"sales\" team</td>\n",
       "      <td>negative</td>\n",
       "      <td>109</td>\n",
       "      <td>121</td>\n",
       "    </tr>\n",
       "    <tr>\n",
       "      <th>4</th>\n",
       "      <td>1316</td>\n",
       "      <td>The tech guy then said the service center does...</td>\n",
       "      <td>tech guy</td>\n",
       "      <td>neutral</td>\n",
       "      <td>4</td>\n",
       "      <td>12</td>\n",
       "    </tr>\n",
       "  </tbody>\n",
       "</table>\n",
       "</div>"
      ],
      "text/plain": [
       "     id                                           Sentence     Aspect Term  \\\n",
       "0  2339  I charge it at night and skip taking the cord ...            cord   \n",
       "1  2339  I charge it at night and skip taking the cord ...    battery life   \n",
       "2  1316  The tech guy then said the service center does...  service center   \n",
       "3  1316  The tech guy then said the service center does...    \"sales\" team   \n",
       "4  1316  The tech guy then said the service center does...        tech guy   \n",
       "\n",
       "   polarity  from   to  \n",
       "0   neutral    41   45  \n",
       "1  positive    74   86  \n",
       "2  negative    27   41  \n",
       "3  negative   109  121  \n",
       "4   neutral     4   12  "
      ]
     },
     "execution_count": 32,
     "metadata": {},
     "output_type": "execute_result"
    }
   ],
   "source": [
    "df.head()"
   ]
  },
  {
   "cell_type": "code",
   "execution_count": 33,
   "metadata": {},
   "outputs": [],
   "source": [
    "df = df[['Sentence','polarity']]"
   ]
  },
  {
   "cell_type": "code",
   "execution_count": 34,
   "metadata": {},
   "outputs": [
    {
     "name": "stdout",
     "output_type": "stream",
     "text": [
      "<class 'pandas.core.frame.DataFrame'>\n",
      "RangeIndex: 2358 entries, 0 to 2357\n",
      "Data columns (total 2 columns):\n",
      "Sentence    2358 non-null object\n",
      "polarity    2358 non-null object\n",
      "dtypes: object(2)\n",
      "memory usage: 37.0+ KB\n"
     ]
    }
   ],
   "source": [
    "df.info()"
   ]
  },
  {
   "cell_type": "code",
   "execution_count": 35,
   "metadata": {},
   "outputs": [],
   "source": [
    "# changing attack labels to their respective attack class\n",
    "def change_label(df):\n",
    "  df.polarity.replace(['conflict'],'negative',inplace=True)\n",
    "  df.polarity.replace(['neutral'],'positive',inplace=True)  "
   ]
  },
  {
   "cell_type": "code",
   "execution_count": 36,
   "metadata": {},
   "outputs": [],
   "source": [
    "change_label(df)"
   ]
  },
  {
   "cell_type": "code",
   "execution_count": 37,
   "metadata": {},
   "outputs": [
    {
     "data": {
      "text/plain": [
       "<AxesSubplot:xlabel='polarity', ylabel='count'>"
      ]
     },
     "execution_count": 37,
     "metadata": {},
     "output_type": "execute_result"
    },
    {
     "data": {
      "image/png": "[encoded data removed]",
      "text/plain": [
       "<Figure size 432x288 with 1 Axes>"
      ]
     },
     "metadata": {
      "needs_background": "light"
     },
     "output_type": "display_data"
    }
   ],
   "source": [
    "import seaborn as sns\n",
    "sns.countplot(x=\"polarity\", data = df)"
   ]
  },
  {
   "cell_type": "code",
   "execution_count": 38,
   "metadata": {},
   "outputs": [
    {
     "data": {
      "text/plain": [
       "array([1, 0], dtype=int64)"
      ]
     },
     "execution_count": 38,
     "metadata": {},
     "output_type": "execute_result"
    }
   ],
   "source": [
    "# Import label encoder \n",
    "from sklearn import preprocessing \n",
    "\n",
    "# label_encoder object knows \n",
    "# how to understand word labels. \n",
    "label_encoder = preprocessing.LabelEncoder() \n",
    "\n",
    "# Encode labels in column 'species'. \n",
    "df['polarity']= label_encoder.fit_transform(df['polarity']) \n",
    "\n",
    "df['polarity'].unique() "
   ]
  },
  {
   "cell_type": "code",
   "execution_count": 39,
   "metadata": {},
   "outputs": [],
   "source": [
    "import numpy as np\n",
    "import pandas as pd\n",
    "import seaborn as sns\n",
    "import matplotlib.pyplot as plt\n",
    "\n",
    "from sklearn.model_selection import train_test_split\n",
    "from sklearn.preprocessing import LabelEncoder\n",
    "\n",
    "import tensorflow as tf\n",
    "from tensorflow.keras.preprocessing.text import Tokenizer\n",
    "from tensorflow.keras.preprocessing.sequence import pad_sequences\n",
    "from tensorflow.keras import layers, callbacks\n",
    "from tensorflow.keras import Model, Sequential\n",
    "\n",
    "from nltk.stem import SnowballStemmer\n",
    "from nltk.corpus import stopwords\n",
    "import re\n",
    "import string"
   ]
  },
  {
   "cell_type": "code",
   "execution_count": 40,
   "metadata": {},
   "outputs": [],
   "source": [
    "from tensorflow.keras.callbacks import ReduceLROnPlateau\n",
    "from tensorflow.keras.optimizers import Adam,SGD,Adagrad,Adadelta,RMSprop\n",
    "import os\n",
    "from tensorflow.keras.models import Model\n",
    "from tensorflow.keras.regularizers import l2\n",
    "#from tensorflow.keras.layers import LSTM\n",
    "\n",
    "\n",
    "from kerastuner import RandomSearch\n",
    "from kerastuner.engine.hyperparameters import HyperParameters"
   ]
  },
  {
   "cell_type": "code",
   "execution_count": 41,
   "metadata": {},
   "outputs": [],
   "source": [
    "from keras import backend as K\n",
    "\n",
    "def recall_m(y_true, y_pred):\n",
    "    true_positives = K.sum(K.round(K.clip(y_true * y_pred, 0, 1)))\n",
    "    possible_positives = K.sum(K.round(K.clip(y_true, 0, 1)))\n",
    "    recall = true_positives / (possible_positives + K.epsilon())\n",
    "    return recall\n",
    "\n",
    "def precision_m(y_true, y_pred):\n",
    "    true_positives = K.sum(K.round(K.clip(y_true * y_pred, 0, 1)))\n",
    "    predicted_positives = K.sum(K.round(K.clip(y_pred, 0, 1)))\n",
    "    precision = true_positives / (predicted_positives + K.epsilon())\n",
    "    return precision\n",
    "\n",
    "def f1_m(y_true, y_pred):\n",
    "    precision = precision_m(y_true, y_pred)\n",
    "    recall = recall_m(y_true, y_pred)\n",
    "    return 2*((precision*recall)/(precision+recall+K.epsilon()))"
   ]
  },
  {
   "cell_type": "code",
   "execution_count": 42,
   "metadata": {},
   "outputs": [],
   "source": [
    "ML_Model = []\n",
    "accuracy = []\n",
    "precision = []\n",
    "recall = []\n",
    "f1score = []\n",
    "\n",
    "#function to call for storing the results\n",
    "def storeResults(model, a,b,c,d):\n",
    "    ML_Model.append(model)\n",
    "    accuracy.append(round(a, 3))\n",
    "    precision.append(round(d, 3))\n",
    "    recall.append(round(c, 3))\n",
    "    f1score.append(round(b, 3))"
   ]
  },
  {
   "cell_type": "code",
   "execution_count": 43,
   "metadata": {},
   "outputs": [],
   "source": [
    "import collections\n",
    "import nltk\n",
    "from sklearn import preprocessing\n",
    "from nltk.tokenize import sent_tokenize, word_tokenize\n",
    "from tensorflow.keras import regularizers"
   ]
  },
  {
   "cell_type": "code",
   "execution_count": 44,
   "metadata": {},
   "outputs": [],
   "source": [
    "#Setting parameters which will be used throughout\n",
    "num_words = 15000  # Parameter indicating the number of words we'll put in the dictionary\n",
    "val_size = 1000  # Size of the validation set\n",
    "epochs = 20  # Number of epochs we usually start to train with\n",
    "batch_size = 16  # Size of the batches used in the mini-batch gradient descent\n",
    "#Taking only two columns since it's a sentiment analysis"
   ]
  },
  {
   "cell_type": "code",
   "execution_count": 45,
   "metadata": {},
   "outputs": [],
   "source": [
    "#tweets conssits of every document as an array of tokenized words which are later appended to docs \n",
    "tweets=[word_tokenize(tweet) for tweet in df['Sentence']]\n",
    "docs=[]\n",
    "for j in range(0,len(tweets)):\n",
    "    docs.append(tweets[j])"
   ]
  },
  {
   "cell_type": "code",
   "execution_count": 46,
   "metadata": {},
   "outputs": [],
   "source": [
    "#stops included both the stopwords and punctuations\n",
    "from nltk.corpus import stopwords\n",
    "import string\n",
    "stops = set(stopwords.words('english'))\n",
    "punctuations = list(string.punctuation)\n",
    "not_list = [\"n't\", \"not\", \"no\"]\n",
    "stops.update(punctuations)\n",
    "stops.update(not_list)"
   ]
  },
  {
   "cell_type": "code",
   "execution_count": 47,
   "metadata": {},
   "outputs": [],
   "source": [
    "#to get the simple pos(part of speech) tag\n",
    "from nltk.corpus import wordnet\n",
    "def get_simple_pos(tag):\n",
    "    if tag.startswith('J'):\n",
    "        return wordnet.ADJ\n",
    "    elif tag.startswith('V'):\n",
    "        return wordnet.VERB\n",
    "    elif tag.startswith('N'):\n",
    "        return wordnet.NOUN\n",
    "    elif tag.startswith('R'):\n",
    "        return wordnet.ADV\n",
    "    else:\n",
    "        return wordnet.NOUN"
   ]
  },
  {
   "cell_type": "code",
   "execution_count": 48,
   "metadata": {},
   "outputs": [],
   "source": [
    "#to get the pos tag for a word\n",
    "from nltk import pos_tag\n",
    "# now we are going to clean our data \n",
    "# we will remove stopwords and punctuations and lemmatize each document\n",
    "from nltk.stem import WordNetLemmatizer\n",
    "lemmatizer=WordNetLemmatizer()\n",
    "def clean(words):\n",
    "    output=[]\n",
    "    for word in words:\n",
    "        if word.lower() not in stops or word.lower() in not_list:\n",
    "            pos=pos_tag(word)\n",
    "            clean_word=lemmatizer.lemmatize(word,pos=get_simple_pos(pos[0][1]))\n",
    "            output.append(clean_word.lower())\n",
    "    str1=\" \".join(output).encode('utf-8')        \n",
    "    return str1\n",
    "#docs=[ clean(doc) for doc in docs]      "
   ]
  },
  {
   "cell_type": "code",
   "execution_count": 49,
   "metadata": {},
   "outputs": [
    {
     "data": {
      "text/html": [
       "<div>\n",
       "<style scoped>\n",
       "    .dataframe tbody tr th:only-of-type {\n",
       "        vertical-align: middle;\n",
       "    }\n",
       "\n",
       "    .dataframe tbody tr th {\n",
       "        vertical-align: top;\n",
       "    }\n",
       "\n",
       "    .dataframe thead th {\n",
       "        text-align: right;\n",
       "    }\n",
       "</style>\n",
       "<table border=\"1\" class=\"dataframe\">\n",
       "  <thead>\n",
       "    <tr style=\"text-align: right;\">\n",
       "      <th></th>\n",
       "      <th>Sentence</th>\n",
       "      <th>polarity</th>\n",
       "    </tr>\n",
       "  </thead>\n",
       "  <tbody>\n",
       "    <tr>\n",
       "      <th>0</th>\n",
       "      <td>I charge it at night and skip taking the cord ...</td>\n",
       "      <td>1</td>\n",
       "    </tr>\n",
       "    <tr>\n",
       "      <th>1</th>\n",
       "      <td>I charge it at night and skip taking the cord ...</td>\n",
       "      <td>1</td>\n",
       "    </tr>\n",
       "    <tr>\n",
       "      <th>2</th>\n",
       "      <td>The tech guy then said the service center does...</td>\n",
       "      <td>0</td>\n",
       "    </tr>\n",
       "    <tr>\n",
       "      <th>3</th>\n",
       "      <td>The tech guy then said the service center does...</td>\n",
       "      <td>0</td>\n",
       "    </tr>\n",
       "    <tr>\n",
       "      <th>4</th>\n",
       "      <td>The tech guy then said the service center does...</td>\n",
       "      <td>1</td>\n",
       "    </tr>\n",
       "  </tbody>\n",
       "</table>\n",
       "</div>"
      ],
      "text/plain": [
       "                                            Sentence  polarity\n",
       "0  I charge it at night and skip taking the cord ...         1\n",
       "1  I charge it at night and skip taking the cord ...         1\n",
       "2  The tech guy then said the service center does...         0\n",
       "3  The tech guy then said the service center does...         0\n",
       "4  The tech guy then said the service center does...         1"
      ]
     },
     "execution_count": 49,
     "metadata": {},
     "output_type": "execute_result"
    }
   ],
   "source": [
    "#taking only two columns in the dataframe\n",
    "df=df[['Sentence','polarity']]\n",
    "df.head()"
   ]
  },
  {
   "cell_type": "code",
   "execution_count": 50,
   "metadata": {},
   "outputs": [],
   "source": [
    "#taking variables to be used for train test split as X,y\n",
    "X,Y=df['Sentence'].values,pd.get_dummies(df['polarity'].values)"
   ]
  },
  {
   "cell_type": "code",
   "execution_count": 51,
   "metadata": {},
   "outputs": [
    {
     "name": "stdout",
     "output_type": "stream",
     "text": [
      "Fitted tokenizer on 2358 documents\n",
      "15000 words in dictionary\n",
      "Top 5 most common words are: [('the', 2809), ('and', 1611), ('to', 1235), ('i', 1157), ('it', 1031)]\n"
     ]
    }
   ],
   "source": [
    "#using tokenizers to create the tokens having no of words=15000(num_words)\n",
    "tk = Tokenizer(num_words=num_words,\n",
    "               filters='!\"#$%&()*+,-./:;<=>?@[\\\\]^_`{|}~\\t\\n',\n",
    "               lower=True,\n",
    "               split=\" \")\n",
    "#Complete data is tokenized to vectors and padding is done using zeros to match its length to the largest text in the dataset.\n",
    "tk.fit_on_texts(X)\n",
    "X = tk.texts_to_sequences(X)\n",
    "X = pad_sequences(X)\n",
    "#print(X[:2])\n",
    "print('Fitted tokenizer on {} documents'.format(tk.document_count))\n",
    "print('{} words in dictionary'.format(tk.num_words))\n",
    "print('Top 5 most common words are:', collections.Counter(tk.word_counts).most_common(5))"
   ]
  },
  {
   "cell_type": "code",
   "execution_count": 52,
   "metadata": {},
   "outputs": [],
   "source": [
    "import pickle\n",
    "pickle.dump(tk,open('transform2.pkl','wb'))\n",
    "#files.download('transform2.pkl')"
   ]
  },
  {
   "cell_type": "code",
   "execution_count": 53,
   "metadata": {},
   "outputs": [
    {
     "name": "stdout",
     "output_type": "stream",
     "text": [
      "# Train data samples: (1886, 77)\n",
      "# Test data samples: (472, 77)\n"
     ]
    }
   ],
   "source": [
    "#train test split\n",
    "X_train, X_test, Y_train, Y_test = train_test_split(X,Y, test_size=0.2, random_state=42)\n",
    "print('# Train data samples:', X_train.shape)\n",
    "print('# Test data samples:', X_test.shape)"
   ]
  },
  {
   "cell_type": "markdown",
   "metadata": {},
   "source": [
    "# LSTM "
   ]
  },
  {
   "cell_type": "code",
   "execution_count": 54,
   "metadata": {},
   "outputs": [],
   "source": [
    "from tensorflow.keras.models import Sequential\n",
    "from tensorflow.keras.layers import SimpleRNN, Dense, Dropout, LSTM, GRU\n",
    "from tensorflow.keras.layers import SpatialDropout1D\n",
    "from tensorflow.keras.layers import Embedding"
   ]
  },
  {
   "cell_type": "code",
   "execution_count": 55,
   "metadata": {},
   "outputs": [
    {
     "name": "stdout",
     "output_type": "stream",
     "text": [
      "WARNING:tensorflow:Layer lstm_1 will not use cuDNN kernels since it doesn't meet the criteria. It will use a generic GPU kernel as fallback when running on GPU.\n"
     ]
    }
   ],
   "source": [
    "embed_dim = 128 #dimension of the word embedding vector for each word in a sequence \n",
    "lstm_out = 196  #no of lstm layers\n",
    "lstm_model = Sequential()\n",
    "lstm_model.add(Embedding(num_words, embed_dim,input_length = X_train.shape[1]))\n",
    "#Adding dropout\n",
    "lstm_model.add(LSTM(lstm_out, dropout=0.2, recurrent_dropout=0.2))\n",
    "#Adding a regularized dense layer\n",
    "lstm_model.add(layers.Dense(32,kernel_regularizer=regularizers.l2(0.001),activation='relu'))\n",
    "lstm_model.add(layers.Dropout(0.5))\n",
    "lstm_model.add(Dense(2,activation='softmax'))\n",
    "lstm_model.compile(loss = 'categorical_crossentropy', optimizer='adam',metrics = ['accuracy',f1_m,precision_m, recall_m])\n"
   ]
  },
  {
   "cell_type": "code",
   "execution_count": 56,
   "metadata": {},
   "outputs": [
    {
     "name": "stdout",
     "output_type": "stream",
     "text": [
      "Model: \"sequential_1\"\n",
      "_________________________________________________________________\n",
      "Layer (type)                 Output Shape              Param #   \n",
      "=================================================================\n",
      "embedding_1 (Embedding)      (None, 77, 128)           1920000   \n",
      "_________________________________________________________________\n",
      "lstm_1 (LSTM)                (None, 196)               254800    \n",
      "_________________________________________________________________\n",
      "dense_2 (Dense)              (None, 32)                6304      \n",
      "_________________________________________________________________\n",
      "dropout_1 (Dropout)          (None, 32)                0         \n",
      "_________________________________________________________________\n",
      "dense_3 (Dense)              (None, 2)                 66        \n",
      "=================================================================\n",
      "Total params: 2,181,170\n",
      "Trainable params: 2,181,170\n",
      "Non-trainable params: 0\n",
      "_________________________________________________________________\n"
     ]
    }
   ],
   "source": [
    "lstm_model.summary()"
   ]
  },
  {
   "cell_type": "code",
   "execution_count": 57,
   "metadata": {},
   "outputs": [
    {
     "name": "stdout",
     "output_type": "stream",
     "text": [
      "Epoch 1/20\n",
      "118/118 [==============================] - 63s 525ms/step - loss: 0.6430 - accuracy: 0.6612 - f1_m: 0.6612 - precision_m: 0.6612 - recall_m: 0.6612 - val_loss: 0.4491 - val_accuracy: 0.8261 - val_f1_m: 0.8260 - val_precision_m: 0.8260 - val_recall_m: 0.8260\n",
      "Epoch 2/20\n",
      "118/118 [==============================] - 61s 518ms/step - loss: 0.5796 - accuracy: 0.8059 - f1_m: 0.8059 - precision_m: 0.8059 - recall_m: 0.8059 - val_loss: 0.3090 - val_accuracy: 0.8849 - val_f1_m: 0.8848 - val_precision_m: 0.8848 - val_recall_m: 0.8848\n",
      "Epoch 3/20\n",
      "118/118 [==============================] - 61s 514ms/step - loss: 0.3142 - accuracy: 0.8892 - f1_m: 0.8893 - precision_m: 0.8893 - recall_m: 0.8893 - val_loss: 0.2204 - val_accuracy: 0.9284 - val_f1_m: 0.9284 - val_precision_m: 0.9284 - val_recall_m: 0.9284\n",
      "Epoch 4/20\n",
      "118/118 [==============================] - 61s 516ms/step - loss: 0.2518 - accuracy: 0.9109 - f1_m: 0.9109 - precision_m: 0.9109 - recall_m: 0.9109 - val_loss: 0.1671 - val_accuracy: 0.9438 - val_f1_m: 0.9439 - val_precision_m: 0.9439 - val_recall_m: 0.9439\n",
      "Epoch 5/20\n",
      "118/118 [==============================] - 61s 517ms/step - loss: 0.2040 - accuracy: 0.9311 - f1_m: 0.9309 - precision_m: 0.9309 - recall_m: 0.9309 - val_loss: 0.1334 - val_accuracy: 0.9480 - val_f1_m: 0.9481 - val_precision_m: 0.9481 - val_recall_m: 0.9481\n",
      "Epoch 6/20\n",
      "118/118 [==============================] - 60s 513ms/step - loss: 0.1830 - accuracy: 0.9332 - f1_m: 0.9332 - precision_m: 0.9332 - recall_m: 0.9332 - val_loss: 0.1325 - val_accuracy: 0.9502 - val_f1_m: 0.9502 - val_precision_m: 0.9502 - val_recall_m: 0.9502\n",
      "Epoch 7/20\n",
      "118/118 [==============================] - 61s 514ms/step - loss: 0.1499 - accuracy: 0.9385 - f1_m: 0.9384 - precision_m: 0.9384 - recall_m: 0.9384 - val_loss: 0.0972 - val_accuracy: 0.9523 - val_f1_m: 0.9523 - val_precision_m: 0.9523 - val_recall_m: 0.9523\n",
      "Epoch 8/20\n",
      "118/118 [==============================] - 61s 517ms/step - loss: 0.1288 - accuracy: 0.9438 - f1_m: 0.9439 - precision_m: 0.9439 - recall_m: 0.9439 - val_loss: 0.0971 - val_accuracy: 0.9528 - val_f1_m: 0.9529 - val_precision_m: 0.9529 - val_recall_m: 0.9529\n",
      "Epoch 9/20\n",
      "118/118 [==============================] - 61s 516ms/step - loss: 0.1252 - accuracy: 0.9422 - f1_m: 0.9422 - precision_m: 0.9422 - recall_m: 0.9422 - val_loss: 0.0957 - val_accuracy: 0.9507 - val_f1_m: 0.9507 - val_precision_m: 0.9507 - val_recall_m: 0.9507\n",
      "Epoch 10/20\n",
      "118/118 [==============================] - 61s 520ms/step - loss: 0.1059 - accuracy: 0.9470 - f1_m: 0.9467 - precision_m: 0.9467 - recall_m: 0.9467 - val_loss: 0.0965 - val_accuracy: 0.9496 - val_f1_m: 0.9497 - val_precision_m: 0.9497 - val_recall_m: 0.9497\n",
      "Epoch 11/20\n",
      "118/118 [==============================] - 61s 521ms/step - loss: 0.1014 - accuracy: 0.9454 - f1_m: 0.9454 - precision_m: 0.9454 - recall_m: 0.9454 - val_loss: 0.0890 - val_accuracy: 0.9502 - val_f1_m: 0.9502 - val_precision_m: 0.9502 - val_recall_m: 0.9502\n",
      "Epoch 12/20\n",
      "118/118 [==============================] - 61s 519ms/step - loss: 0.0957 - accuracy: 0.9512 - f1_m: 0.9513 - precision_m: 0.9513 - recall_m: 0.9513 - val_loss: 0.0862 - val_accuracy: 0.9512 - val_f1_m: 0.9513 - val_precision_m: 0.9513 - val_recall_m: 0.9513\n",
      "Epoch 13/20\n",
      "118/118 [==============================] - 61s 521ms/step - loss: 0.0973 - accuracy: 0.9459 - f1_m: 0.9460 - precision_m: 0.9460 - recall_m: 0.9460 - val_loss: 0.0849 - val_accuracy: 0.9496 - val_f1_m: 0.9497 - val_precision_m: 0.9497 - val_recall_m: 0.9497\n",
      "Epoch 14/20\n",
      "118/118 [==============================] - 62s 526ms/step - loss: 0.0890 - accuracy: 0.9496 - f1_m: 0.9495 - precision_m: 0.9495 - recall_m: 0.9495 - val_loss: 0.0817 - val_accuracy: 0.9512 - val_f1_m: 0.9513 - val_precision_m: 0.9513 - val_recall_m: 0.9513\n",
      "Epoch 15/20\n",
      "118/118 [==============================] - 61s 518ms/step - loss: 0.0878 - accuracy: 0.9464 - f1_m: 0.9464 - precision_m: 0.9464 - recall_m: 0.9464 - val_loss: 0.0944 - val_accuracy: 0.9449 - val_f1_m: 0.9449 - val_precision_m: 0.9449 - val_recall_m: 0.9449\n",
      "Epoch 16/20\n",
      "118/118 [==============================] - 61s 516ms/step - loss: 0.0887 - accuracy: 0.9480 - f1_m: 0.9481 - precision_m: 0.9481 - recall_m: 0.9481 - val_loss: 0.0809 - val_accuracy: 0.9502 - val_f1_m: 0.9502 - val_precision_m: 0.9502 - val_recall_m: 0.9502\n",
      "Epoch 17/20\n",
      "118/118 [==============================] - 62s 523ms/step - loss: 0.0858 - accuracy: 0.9470 - f1_m: 0.9470 - precision_m: 0.9470 - recall_m: 0.9470 - val_loss: 0.0815 - val_accuracy: 0.9507 - val_f1_m: 0.9507 - val_precision_m: 0.9507 - val_recall_m: 0.9507\n",
      "Epoch 18/20\n",
      "118/118 [==============================] - 62s 525ms/step - loss: 0.0840 - accuracy: 0.9480 - f1_m: 0.9481 - precision_m: 0.9481 - recall_m: 0.9481 - val_loss: 0.0792 - val_accuracy: 0.9502 - val_f1_m: 0.9502 - val_precision_m: 0.9502 - val_recall_m: 0.9502\n",
      "Epoch 19/20\n",
      "118/118 [==============================] - 62s 527ms/step - loss: 0.0845 - accuracy: 0.9502 - f1_m: 0.9501 - precision_m: 0.9501 - recall_m: 0.9501 - val_loss: 0.0829 - val_accuracy: 0.9491 - val_f1_m: 0.9492 - val_precision_m: 0.9492 - val_recall_m: 0.9492\n",
      "Epoch 20/20\n",
      "118/118 [==============================] - 62s 525ms/step - loss: 0.0816 - accuracy: 0.9464 - f1_m: 0.9465 - precision_m: 0.9465 - recall_m: 0.9465 - val_loss: 0.0998 - val_accuracy: 0.9475 - val_f1_m: 0.9476 - val_precision_m: 0.9476 - val_recall_m: 0.9476\n"
     ]
    }
   ],
   "source": [
    "#model trained on the training data and taking validation data into account to avoid overfitting for 4 epochs \n",
    "history1 =lstm_model.fit(X_train, Y_train, epochs = 20, batch_size=batch_size,validation_data=(X_train, Y_train),verbose = 1)"
   ]
  },
  {
   "cell_type": "code",
   "execution_count": 58,
   "metadata": {},
   "outputs": [],
   "source": [
    "lstm_acc = history1.history['val_accuracy'][19]\n",
    "lstm_prec = history1.history['val_precision_m'][19]\n",
    "lstm_rec = history1.history['val_recall_m'][19]\n",
    "lstm_f1 = history1.history['val_f1_m'][19]"
   ]
  },
  {
   "cell_type": "code",
   "execution_count": 59,
   "metadata": {},
   "outputs": [],
   "source": [
    "storeResults('LSTM',lstm_acc,lstm_prec,lstm_rec,lstm_f1)"
   ]
  },
  {
   "cell_type": "code",
   "execution_count": 60,
   "metadata": {},
   "outputs": [
    {
     "data": {
      "image/png": "[encoded data removed]",
      "text/plain": [
       "<Figure size 432x288 with 1 Axes>"
      ]
     },
     "metadata": {
      "needs_background": "light"
     },
     "output_type": "display_data"
    }
   ],
   "source": [
    "plt.plot(history1.history['accuracy'])\n",
    "plt.plot(history1.history['val_accuracy'])\n",
    "plt.title('Accuracy Curves')\n",
    "plt.ylabel('Accuracy')\n",
    "plt.xlabel('Epoch')\n",
    "plt.legend(['Train', 'Test'], loc='upper left')\n",
    "plt.show()"
   ]
  },
  {
   "cell_type": "code",
   "execution_count": 61,
   "metadata": {},
   "outputs": [
    {
     "data": {
      "image/png": "[encoded data removed]",
      "text/plain": [
       "<Figure size 432x288 with 1 Axes>"
      ]
     },
     "metadata": {
      "needs_background": "light"
     },
     "output_type": "display_data"
    }
   ],
   "source": [
    "plt.plot(history1.history['loss'])\n",
    "plt.plot(history1.history['val_loss'])\n",
    "plt.title('Loss Curves')\n",
    "plt.ylabel('Loss')\n",
    "plt.xlabel('Epoch')\n",
    "plt.legend(['Train', 'Test'], loc='upper left')\n",
    "plt.show()"
   ]
  },
  {
   "cell_type": "markdown",
   "metadata": {},
   "source": [
    "# LSTM + GRU"
   ]
  },
  {
   "cell_type": "code",
   "execution_count": 62,
   "metadata": {},
   "outputs": [],
   "source": [
    "from tensorflow.keras.layers import LSTM, GRU, Dense, Dropout"
   ]
  },
  {
   "cell_type": "code",
   "execution_count": 63,
   "metadata": {},
   "outputs": [],
   "source": [
    "embed_dim = 128 "
   ]
  },
  {
   "cell_type": "code",
   "execution_count": 64,
   "metadata": {},
   "outputs": [
    {
     "name": "stdout",
     "output_type": "stream",
     "text": [
      "WARNING:tensorflow:Please add `keras.layers.InputLayer` instead of `keras.Input` to Sequential model. `keras.Input` is intended to be used by Functional model.\n"
     ]
    }
   ],
   "source": [
    "model_hy=tf.keras.Sequential()\n",
    "\n",
    "model_hy.add(tf.keras.layers.Input(shape=[100]))\n",
    "model_hy.add(tf.keras.layers.Embedding(num_words,embed_dim,input_length=X_train.shape[1]))    \n",
    "\n",
    "model_hy.add(tf.keras.layers.LSTM(200, return_sequences=True))\n",
    "model_hy.add(tf.keras.layers.Dropout(0.5))\n",
    "\n",
    "model_hy.add(tf.keras.layers.LSTM(200,return_sequences=True))\n",
    "model_hy.add(tf.keras.layers.Dropout(0.5))\n",
    "\n",
    "model_hy.add(tf.keras.layers.GRU(200))\n",
    "model_hy.add(tf.keras.layers.Dropout(0.5))\n",
    "          \n",
    "model_hy.add(tf.keras.layers.Dense(256))\n",
    "model_hy.add(tf.keras.layers.Dropout(0.5))\n",
    "\n",
    "model_hy.add(tf.keras.layers.Dense(2,activation='sigmoid')) #output layer\n"
   ]
  },
  {
   "cell_type": "code",
   "execution_count": 65,
   "metadata": {},
   "outputs": [
    {
     "name": "stdout",
     "output_type": "stream",
     "text": [
      "Model: \"sequential_2\"\n",
      "_________________________________________________________________\n",
      "Layer (type)                 Output Shape              Param #   \n",
      "=================================================================\n",
      "embedding_2 (Embedding)      (None, 100, 128)          1920000   \n",
      "_________________________________________________________________\n",
      "lstm_2 (LSTM)                (None, 100, 200)          263200    \n",
      "_________________________________________________________________\n",
      "dropout_2 (Dropout)          (None, 100, 200)          0         \n",
      "_________________________________________________________________\n",
      "lstm_3 (LSTM)                (None, 100, 200)          320800    \n",
      "_________________________________________________________________\n",
      "dropout_3 (Dropout)          (None, 100, 200)          0         \n",
      "_________________________________________________________________\n",
      "gru (GRU)                    (None, 200)               241200    \n",
      "_________________________________________________________________\n",
      "dropout_4 (Dropout)          (None, 200)               0         \n",
      "_________________________________________________________________\n",
      "dense_4 (Dense)              (None, 256)               51456     \n",
      "_________________________________________________________________\n",
      "dropout_5 (Dropout)          (None, 256)               0         \n",
      "_________________________________________________________________\n",
      "dense_5 (Dense)              (None, 2)                 514       \n",
      "=================================================================\n",
      "Total params: 2,797,170\n",
      "Trainable params: 2,797,170\n",
      "Non-trainable params: 0\n",
      "_________________________________________________________________\n"
     ]
    }
   ],
   "source": [
    "model_hy.summary()"
   ]
  },
  {
   "cell_type": "code",
   "execution_count": 66,
   "metadata": {},
   "outputs": [],
   "source": [
    "model_hy.compile(loss='categorical_crossentropy',optimizer='adam',metrics = ['accuracy',f1_m,precision_m, recall_m])"
   ]
  },
  {
   "cell_type": "code",
   "execution_count": 67,
   "metadata": {},
   "outputs": [
    {
     "name": "stdout",
     "output_type": "stream",
     "text": [
      "Epoch 1/20\n",
      "WARNING:tensorflow:Model was constructed with shape (None, 100) for input KerasTensor(type_spec=TensorSpec(shape=(None, 100), dtype=tf.float32, name='input_1'), name='input_1', description=\"created by layer 'input_1'\"), but it was called on an input with incompatible shape (2, 77).\n",
      "WARNING:tensorflow:Model was constructed with shape (None, 100) for input KerasTensor(type_spec=TensorSpec(shape=(None, 100), dtype=tf.float32, name='input_1'), name='input_1', description=\"created by layer 'input_1'\"), but it was called on an input with incompatible shape (2, 77).\n",
      "943/943 [==============================] - ETA: 0s - loss: 0.5994 - accuracy: 0.6845 - f1_m: 0.6825 - precision_m: 0.6773 - recall_m: 0.6994WARNING:tensorflow:Model was constructed with shape (None, 100) for input KerasTensor(type_spec=TensorSpec(shape=(None, 100), dtype=tf.float32, name='input_1'), name='input_1', description=\"created by layer 'input_1'\"), but it was called on an input with incompatible shape (2, 77).\n",
      "943/943 [==============================] - 35s 33ms/step - loss: 0.5994 - accuracy: 0.6845 - f1_m: 0.6825 - precision_m: 0.6773 - recall_m: 0.6994 - val_loss: 0.4900 - val_accuracy: 0.8075 - val_f1_m: 0.8105 - val_precision_m: 0.8042 - val_recall_m: 0.8298\n",
      "Epoch 2/20\n",
      "943/943 [==============================] - 29s 30ms/step - loss: 0.3980 - accuracy: 0.8473 - f1_m: 0.8358 - precision_m: 0.8484 - recall_m: 0.8351 - val_loss: 0.2344 - val_accuracy: 0.9152 - val_f1_m: 0.9144 - val_precision_m: 0.9157 - val_recall_m: 0.9141\n",
      "Epoch 3/20\n",
      "943/943 [==============================] - 29s 31ms/step - loss: 0.2932 - accuracy: 0.8887 - f1_m: 0.8794 - precision_m: 0.8895 - recall_m: 0.8770 - val_loss: 0.1968 - val_accuracy: 0.9231 - val_f1_m: 0.9233 - val_precision_m: 0.9182 - val_recall_m: 0.9327\n",
      "Epoch 4/20\n",
      "943/943 [==============================] - 29s 30ms/step - loss: 0.2394 - accuracy: 0.9088 - f1_m: 0.8902 - precision_m: 0.9003 - recall_m: 0.8940 - val_loss: 0.1332 - val_accuracy: 0.9443 - val_f1_m: 0.9475 - val_precision_m: 0.9433 - val_recall_m: 0.9539\n",
      "Epoch 5/20\n",
      "943/943 [==============================] - 29s 31ms/step - loss: 0.1853 - accuracy: 0.9231 - f1_m: 0.9202 - precision_m: 0.9254 - recall_m: 0.9226 - val_loss: 0.1374 - val_accuracy: 0.9486 - val_f1_m: 0.9500 - val_precision_m: 0.9495 - val_recall_m: 0.9523\n",
      "Epoch 6/20\n",
      "943/943 [==============================] - 29s 31ms/step - loss: 0.1688 - accuracy: 0.9305 - f1_m: 0.9223 - precision_m: 0.9261 - recall_m: 0.9268 - val_loss: 0.1177 - val_accuracy: 0.9470 - val_f1_m: 0.9459 - val_precision_m: 0.9472 - val_recall_m: 0.9454\n",
      "Epoch 7/20\n",
      "943/943 [==============================] - 29s 31ms/step - loss: 0.1516 - accuracy: 0.9311 - f1_m: 0.9183 - precision_m: 0.9279 - recall_m: 0.9194 - val_loss: 0.1110 - val_accuracy: 0.9512 - val_f1_m: 0.9529 - val_precision_m: 0.9470 - val_recall_m: 0.9629\n",
      "Epoch 8/20\n",
      "943/943 [==============================] - 29s 31ms/step - loss: 0.1331 - accuracy: 0.9353 - f1_m: 0.9270 - precision_m: 0.9307 - recall_m: 0.9316 - val_loss: 0.1339 - val_accuracy: 0.9496 - val_f1_m: 0.9277 - val_precision_m: 0.9761 - val_recall_m: 0.9035\n",
      "Epoch 9/20\n",
      "943/943 [==============================] - 29s 31ms/step - loss: 0.1282 - accuracy: 0.9348 - f1_m: 0.9241 - precision_m: 0.9394 - recall_m: 0.9210 - val_loss: 0.0845 - val_accuracy: 0.9555 - val_f1_m: 0.9344 - val_precision_m: 0.9818 - val_recall_m: 0.9109\n",
      "Epoch 10/20\n",
      "943/943 [==============================] - 29s 31ms/step - loss: 0.1148 - accuracy: 0.9433 - f1_m: 0.9266 - precision_m: 0.9459 - recall_m: 0.9221 - val_loss: 0.0826 - val_accuracy: 0.9528 - val_f1_m: 0.9582 - val_precision_m: 0.9447 - val_recall_m: 0.9788\n",
      "Epoch 11/20\n",
      "943/943 [==============================] - 29s 31ms/step - loss: 0.1119 - accuracy: 0.9459 - f1_m: 0.9286 - precision_m: 0.9376 - recall_m: 0.9327 - val_loss: 0.0789 - val_accuracy: 0.9486 - val_f1_m: 0.9487 - val_precision_m: 0.9470 - val_recall_m: 0.9528\n",
      "Epoch 12/20\n",
      "943/943 [==============================] - 29s 31ms/step - loss: 0.0928 - accuracy: 0.9470 - f1_m: 0.9300 - precision_m: 0.9374 - recall_m: 0.9369 - val_loss: 0.0842 - val_accuracy: 0.9491 - val_f1_m: 0.9495 - val_precision_m: 0.9491 - val_recall_m: 0.9502\n",
      "Epoch 13/20\n",
      "943/943 [==============================] - 29s 31ms/step - loss: 0.1137 - accuracy: 0.9401 - f1_m: 0.9269 - precision_m: 0.9374 - recall_m: 0.9295 - val_loss: 0.0934 - val_accuracy: 0.9475 - val_f1_m: 0.9477 - val_precision_m: 0.9473 - val_recall_m: 0.9486\n",
      "Epoch 14/20\n",
      "943/943 [==============================] - 29s 31ms/step - loss: 0.1082 - accuracy: 0.9417 - f1_m: 0.9344 - precision_m: 0.9346 - recall_m: 0.9427 - val_loss: 0.0739 - val_accuracy: 0.9507 - val_f1_m: 0.9574 - val_precision_m: 0.9404 - val_recall_m: 0.9830\n",
      "Epoch 15/20\n",
      "943/943 [==============================] - 29s 31ms/step - loss: 0.0812 - accuracy: 0.9486 - f1_m: 0.9439 - precision_m: 0.9367 - recall_m: 0.9592 - val_loss: 0.0802 - val_accuracy: 0.9438 - val_f1_m: 0.9438 - val_precision_m: 0.9438 - val_recall_m: 0.9438\n",
      "Epoch 16/20\n",
      "943/943 [==============================] - 29s 31ms/step - loss: 0.1136 - accuracy: 0.9438 - f1_m: 0.9289 - precision_m: 0.9427 - recall_m: 0.9290 - val_loss: 0.1044 - val_accuracy: 0.9454 - val_f1_m: 0.9479 - val_precision_m: 0.9454 - val_recall_m: 0.9517\n",
      "Epoch 17/20\n",
      "943/943 [==============================] - 29s 31ms/step - loss: 0.0940 - accuracy: 0.9443 - f1_m: 0.9368 - precision_m: 0.9484 - recall_m: 0.9343 - val_loss: 0.1233 - val_accuracy: 0.9486 - val_f1_m: 0.9454 - val_precision_m: 0.9496 - val_recall_m: 0.9433\n",
      "Epoch 18/20\n",
      "943/943 [==============================] - 28s 30ms/step - loss: 0.1261 - accuracy: 0.9353 - f1_m: 0.9183 - precision_m: 0.9399 - recall_m: 0.9109 - val_loss: 0.0885 - val_accuracy: 0.9517 - val_f1_m: 0.9461 - val_precision_m: 0.9687 - val_recall_m: 0.9348\n",
      "Epoch 19/20\n",
      "943/943 [==============================] - 29s 30ms/step - loss: 0.0959 - accuracy: 0.9470 - f1_m: 0.9339 - precision_m: 0.9518 - recall_m: 0.9295 - val_loss: 0.1036 - val_accuracy: 0.9480 - val_f1_m: 0.9196 - val_precision_m: 0.9889 - val_recall_m: 0.8849\n",
      "Epoch 20/20\n",
      "943/943 [==============================] - 29s 31ms/step - loss: 0.0876 - accuracy: 0.9454 - f1_m: 0.9318 - precision_m: 0.9477 - recall_m: 0.9300 - val_loss: 0.0760 - val_accuracy: 0.9539 - val_f1_m: 0.9579 - val_precision_m: 0.9500 - val_recall_m: 0.9698\n"
     ]
    }
   ],
   "source": [
    "trained5 = model_hy.fit(X_train, Y_train, epochs = 20, batch_size=2,validation_data=(X_test, Y_test),verbose = 1)"
   ]
  },
  {
   "cell_type": "code",
   "execution_count": 68,
   "metadata": {},
   "outputs": [],
   "source": [
    "hyd_acc = trained5.history['val_accuracy'][19]\n",
    "hyd_prec = trained5.history['val_precision_m'][19]\n",
    "hyd_rec = trained5.history['val_recall_m'][19]\n",
    "hyd_f1 = trained5.history['val_f1_m'][19]"
   ]
  },
  {
   "cell_type": "code",
   "execution_count": 69,
   "metadata": {},
   "outputs": [],
   "source": [
    "storeResults('LSTM+GRU Ensemble Model',hyd_acc,hyd_prec,hyd_rec,hyd_f1)"
   ]
  },
  {
   "cell_type": "code",
   "execution_count": 70,
   "metadata": {},
   "outputs": [
    {
     "data": {
      "image/png": "[encoded data removed]",
      "text/plain": [
       "<Figure size 432x288 with 1 Axes>"
      ]
     },
     "metadata": {
      "needs_background": "light"
     },
     "output_type": "display_data"
    }
   ],
   "source": [
    "plt.plot(trained5.history['accuracy'])\n",
    "plt.plot(trained5.history['val_accuracy'])\n",
    "plt.title('Accuracy Curves')\n",
    "plt.ylabel('Accuracy')\n",
    "plt.xlabel('Epoch')\n",
    "plt.legend(['Train', 'Test'], loc='upper left')\n",
    "plt.show()"
   ]
  },
  {
   "cell_type": "code",
   "execution_count": 71,
   "metadata": {},
   "outputs": [
    {
     "data": {
      "image/png": "[encoded data removed]",
      "text/plain": [
       "<Figure size 432x288 with 1 Axes>"
      ]
     },
     "metadata": {
      "needs_background": "light"
     },
     "output_type": "display_data"
    }
   ],
   "source": [
    "plt.plot(trained5.history['loss'])\n",
    "plt.plot(trained5.history['val_loss'])\n",
    "plt.title('Loss Curves')\n",
    "plt.ylabel('Loss')\n",
    "plt.xlabel('Epoch')\n",
    "plt.legend(['Train', 'Test'], loc='upper left')\n",
    "plt.show()"
   ]
  },
  {
   "cell_type": "markdown",
   "metadata": {},
   "source": [
    "TL"
   ]
  },
  {
   "cell_type": "code",
   "execution_count": 72,
   "metadata": {},
   "outputs": [],
   "source": [
    "from tqdm.notebook import tqdm\n",
    "import numpy as np\n",
    "import pandas as pd\n",
    "import tensorflow as tf\n",
    "import tensorflow.keras\n",
    "import matplotlib.pyplot as plt\n",
    "from sklearn.metrics import accuracy_score\n",
    "from nltk.stem import WordNetLemmatizer\n",
    "from sklearn.model_selection import train_test_split\n",
    "import regex as re\n",
    "import transformers\n",
    "#import keras\n",
    "from tensorflow.keras import backend as K\n",
    "import plotly.express as px"
   ]
  },
  {
   "cell_type": "code",
   "execution_count": 73,
   "metadata": {},
   "outputs": [
    {
     "data": {
      "text/html": [
       "<div>\n",
       "<style scoped>\n",
       "    .dataframe tbody tr th:only-of-type {\n",
       "        vertical-align: middle;\n",
       "    }\n",
       "\n",
       "    .dataframe tbody tr th {\n",
       "        vertical-align: top;\n",
       "    }\n",
       "\n",
       "    .dataframe thead th {\n",
       "        text-align: right;\n",
       "    }\n",
       "</style>\n",
       "<table border=\"1\" class=\"dataframe\">\n",
       "  <thead>\n",
       "    <tr style=\"text-align: right;\">\n",
       "      <th></th>\n",
       "      <th>Sentence</th>\n",
       "      <th>polarity</th>\n",
       "    </tr>\n",
       "  </thead>\n",
       "  <tbody>\n",
       "    <tr>\n",
       "      <th>0</th>\n",
       "      <td>I charge it at night and skip taking the cord ...</td>\n",
       "      <td>1</td>\n",
       "    </tr>\n",
       "    <tr>\n",
       "      <th>1</th>\n",
       "      <td>I charge it at night and skip taking the cord ...</td>\n",
       "      <td>1</td>\n",
       "    </tr>\n",
       "    <tr>\n",
       "      <th>2</th>\n",
       "      <td>The tech guy then said the service center does...</td>\n",
       "      <td>0</td>\n",
       "    </tr>\n",
       "    <tr>\n",
       "      <th>3</th>\n",
       "      <td>The tech guy then said the service center does...</td>\n",
       "      <td>0</td>\n",
       "    </tr>\n",
       "    <tr>\n",
       "      <th>4</th>\n",
       "      <td>The tech guy then said the service center does...</td>\n",
       "      <td>1</td>\n",
       "    </tr>\n",
       "  </tbody>\n",
       "</table>\n",
       "</div>"
      ],
      "text/plain": [
       "                                            Sentence  polarity\n",
       "0  I charge it at night and skip taking the cord ...         1\n",
       "1  I charge it at night and skip taking the cord ...         1\n",
       "2  The tech guy then said the service center does...         0\n",
       "3  The tech guy then said the service center does...         0\n",
       "4  The tech guy then said the service center does...         1"
      ]
     },
     "execution_count": 73,
     "metadata": {},
     "output_type": "execute_result"
    }
   ],
   "source": [
    "df.head()"
   ]
  },
  {
   "cell_type": "code",
   "execution_count": 75,
   "metadata": {},
   "outputs": [],
   "source": [
    "def clean_text(data):\n",
    "    data_length=[]\n",
    "    lemmatizer=WordNetLemmatizer()\n",
    "    cleaned_text=[]\n",
    "    for sentence in tqdm(data.Sentence):\n",
    "        sentence=sentence.lower()\n",
    "        \n",
    "        #removing links from text data\n",
    "        sentence=re.sub('https?://[^\\s<>\"]+|www\\.[^\\s<>\"]+',' ',sentence)\n",
    "    \n",
    "        #removing other symbols\n",
    "        sentence=re.sub('[^0-9a-z]',' ',sentence)\n",
    "    \n",
    "        \n",
    "        data_length.append(len(sentence.split()))\n",
    "        cleaned_text.append(sentence)\n",
    "    return cleaned_text"
   ]
  },
  {
   "cell_type": "code",
   "execution_count": 76,
   "metadata": {},
   "outputs": [
    {
     "data": {
      "application/vnd.jupyter.widget-view+json": {
       "model_id": "fe2e7523814347b2b321d5aab48b81a4",
       "version_major": 2,
       "version_minor": 0
      },
      "text/plain": [
       "  0%|          | 0/2358 [00:00<?, ?it/s]"
      ]
     },
     "metadata": {},
     "output_type": "display_data"
    },
    {
     "data": {
      "text/html": [
       "<div>\n",
       "<style scoped>\n",
       "    .dataframe tbody tr th:only-of-type {\n",
       "        vertical-align: middle;\n",
       "    }\n",
       "\n",
       "    .dataframe tbody tr th {\n",
       "        vertical-align: top;\n",
       "    }\n",
       "\n",
       "    .dataframe thead th {\n",
       "        text-align: right;\n",
       "    }\n",
       "</style>\n",
       "<table border=\"1\" class=\"dataframe\">\n",
       "  <thead>\n",
       "    <tr style=\"text-align: right;\">\n",
       "      <th></th>\n",
       "      <th>Sentence</th>\n",
       "      <th>polarity</th>\n",
       "    </tr>\n",
       "  </thead>\n",
       "  <tbody>\n",
       "    <tr>\n",
       "      <th>0</th>\n",
       "      <td>i charge it at night and skip taking the cord ...</td>\n",
       "      <td>1</td>\n",
       "    </tr>\n",
       "    <tr>\n",
       "      <th>1</th>\n",
       "      <td>i charge it at night and skip taking the cord ...</td>\n",
       "      <td>1</td>\n",
       "    </tr>\n",
       "    <tr>\n",
       "      <th>2</th>\n",
       "      <td>the tech guy then said the service center does...</td>\n",
       "      <td>0</td>\n",
       "    </tr>\n",
       "    <tr>\n",
       "      <th>3</th>\n",
       "      <td>the tech guy then said the service center does...</td>\n",
       "      <td>0</td>\n",
       "    </tr>\n",
       "    <tr>\n",
       "      <th>4</th>\n",
       "      <td>the tech guy then said the service center does...</td>\n",
       "      <td>1</td>\n",
       "    </tr>\n",
       "    <tr>\n",
       "      <th>...</th>\n",
       "      <td>...</td>\n",
       "      <td>...</td>\n",
       "    </tr>\n",
       "    <tr>\n",
       "      <th>2353</th>\n",
       "      <td>we also use paralles so we can run virtual mac...</td>\n",
       "      <td>1</td>\n",
       "    </tr>\n",
       "    <tr>\n",
       "      <th>2354</th>\n",
       "      <td>we also use paralles so we can run virtual mac...</td>\n",
       "      <td>1</td>\n",
       "    </tr>\n",
       "    <tr>\n",
       "      <th>2355</th>\n",
       "      <td>how toshiba handles the repair seems to vary  ...</td>\n",
       "      <td>0</td>\n",
       "    </tr>\n",
       "    <tr>\n",
       "      <th>2356</th>\n",
       "      <td>how toshiba handles the repair seems to vary  ...</td>\n",
       "      <td>1</td>\n",
       "    </tr>\n",
       "    <tr>\n",
       "      <th>2357</th>\n",
       "      <td>i would like to use a different operating syst...</td>\n",
       "      <td>1</td>\n",
       "    </tr>\n",
       "  </tbody>\n",
       "</table>\n",
       "<p>2358 rows × 2 columns</p>\n",
       "</div>"
      ],
      "text/plain": [
       "                                               Sentence  polarity\n",
       "0     i charge it at night and skip taking the cord ...         1\n",
       "1     i charge it at night and skip taking the cord ...         1\n",
       "2     the tech guy then said the service center does...         0\n",
       "3     the tech guy then said the service center does...         0\n",
       "4     the tech guy then said the service center does...         1\n",
       "...                                                 ...       ...\n",
       "2353  we also use paralles so we can run virtual mac...         1\n",
       "2354  we also use paralles so we can run virtual mac...         1\n",
       "2355  how toshiba handles the repair seems to vary  ...         0\n",
       "2356  how toshiba handles the repair seems to vary  ...         1\n",
       "2357  i would like to use a different operating syst...         1\n",
       "\n",
       "[2358 rows x 2 columns]"
      ]
     },
     "execution_count": 76,
     "metadata": {},
     "output_type": "execute_result"
    }
   ],
   "source": [
    "df.Sentence = clean_text(df)\n",
    "df"
   ]
  },
  {
   "cell_type": "code",
   "execution_count": 77,
   "metadata": {},
   "outputs": [
    {
     "data": {
      "text/plain": [
       "(1886, 472)"
      ]
     },
     "execution_count": 77,
     "metadata": {},
     "output_type": "execute_result"
    }
   ],
   "source": [
    "#Split dataset\n",
    "from sklearn.model_selection import train_test_split\n",
    "\n",
    "posts = df['Sentence'].values\n",
    "labels =  df['polarity'].values\n",
    "train_data, test_data = train_test_split(df, random_state=0, test_size=0.2)\n",
    "\n",
    "train_size = len(train_data)\n",
    "test_size = len(test_data)\n",
    "train_size, test_size"
   ]
  },
  {
   "cell_type": "markdown",
   "metadata": {},
   "source": [
    "# BERT"
   ]
  },
  {
   "cell_type": "code",
   "execution_count": 78,
   "metadata": {},
   "outputs": [],
   "source": [
    "from transformers import AutoTokenizer, TFBertModel"
   ]
  },
  {
   "cell_type": "code",
   "execution_count": 79,
   "metadata": {},
   "outputs": [],
   "source": [
    "from transformers import BertTokenizer"
   ]
  },
  {
   "cell_type": "code",
   "execution_count": 80,
   "metadata": {},
   "outputs": [],
   "source": [
    "tokenizer = BertTokenizer.from_pretrained(\"bert-base-uncased\")\n",
    "MAX_LEN = 128"
   ]
  },
  {
   "cell_type": "code",
   "execution_count": 81,
   "metadata": {},
   "outputs": [
    {
     "data": {
      "application/vnd.jupyter.widget-view+json": {
       "model_id": "8afbad53df7f4059862edd0e05438b2d",
       "version_major": 2,
       "version_minor": 0
      },
      "text/plain": [
       "  0%|          | 0/1886 [00:00<?, ?it/s]"
      ]
     },
     "metadata": {},
     "output_type": "display_data"
    },
    {
     "name": "stderr",
     "output_type": "stream",
     "text": [
      "Truncation was not explicitly activated but `max_length` is provided a specific value, please use `truncation=True` to explicitly truncate examples to max length. Defaulting to 'longest_first' truncation strategy. If you encode pairs of sequences (GLUE-style) with the tokenizer you can select this strategy more precisely by providing a specific strategy to `truncation`.\n"
     ]
    },
    {
     "data": {
      "application/vnd.jupyter.widget-view+json": {
       "model_id": "a0dd514be05c4e50b2030e33e5ccd68e",
       "version_major": 2,
       "version_minor": 0
      },
      "text/plain": [
       "  0%|          | 0/472 [00:00<?, ?it/s]"
      ]
     },
     "metadata": {},
     "output_type": "display_data"
    }
   ],
   "source": [
    "def tokenize_sentences(sentences, tokenizer, max_seq_len = 1800):\n",
    "    tokenized_sentences = []\n",
    "\n",
    "    for sentence in tqdm(sentences):\n",
    "        tokenized_sentence = tokenizer.encode(\n",
    "                            sentence,                  # Sentence to encode.\n",
    "                            add_special_tokens = True, # Add '[CLS]' and '[SEP]'\n",
    "                            max_length = max_seq_len,  # Truncate all sentences.\n",
    "                    )\n",
    "        \n",
    "        tokenized_sentences.append(tokenized_sentence)\n",
    "        \n",
    "    return tokenized_sentences\n",
    "\n",
    "def create_attention_masks(tokenized_and_padded_sentences):\n",
    "    attention_masks = []\n",
    "\n",
    "    for sentence in tokenized_and_padded_sentences:\n",
    "        att_mask = [int(token_id > 0) for token_id in sentence]\n",
    "        attention_masks.append(att_mask)\n",
    "\n",
    "    return np.asarray(attention_masks)\n",
    "\n",
    "train_input_ids = tokenize_sentences(train_data['Sentence'], tokenizer, MAX_LEN)\n",
    "train_input_ids = pad_sequences(train_input_ids, maxlen=MAX_LEN, dtype=\"long\", value=0, truncating=\"post\", padding=\"post\")\n",
    "train_attention_masks = create_attention_masks(train_input_ids)\n",
    "\n",
    "test_input_ids = tokenize_sentences(test_data['Sentence'], tokenizer, MAX_LEN)\n",
    "test_input_ids = pad_sequences(test_input_ids, maxlen=MAX_LEN, dtype=\"long\", value=0, truncating=\"post\", padding=\"post\")\n",
    "test_attention_masks = create_attention_masks(test_input_ids)"
   ]
  },
  {
   "cell_type": "code",
   "execution_count": 82,
   "metadata": {},
   "outputs": [],
   "source": [
    "BATCH_SIZE=32 \n",
    "NR_EPOCHS=20"
   ]
  },
  {
   "cell_type": "code",
   "execution_count": 83,
   "metadata": {},
   "outputs": [],
   "source": [
    "#tf.config.run_functions_eagerly(True)"
   ]
  },
  {
   "cell_type": "code",
   "execution_count": 85,
   "metadata": {},
   "outputs": [],
   "source": [
    "def create_model(): \n",
    "    input_word_ids = tf.keras.layers.Input(shape=(MAX_LEN,), dtype=tf.int32,\n",
    "                                           name=\"input_word_ids\")\n",
    "    bert_layer = transformers.TFBertModel.from_pretrained(\"bert-base-uncased\")\n",
    "    bert_outputs = bert_layer(input_word_ids)[0]\n",
    "    pred = tf.keras.layers.Dense(2, activation='softmax')(bert_outputs[:,0,:])\n",
    "    \n",
    "    model = tf.keras.models.Model(inputs=input_word_ids, outputs=pred)\n",
    "    loss = tf.keras.losses.SparseCategoricalCrossentropy(from_logits=True)\n",
    "    model.compile(loss='categorical_crossentropy', optimizer=tf.keras.optimizers.Adam(\n",
    "    learning_rate=0.00002), metrics=['accuracy', f1_m, precision_m, recall_m])\n",
    "    return model"
   ]
  },
  {
   "cell_type": "code",
   "execution_count": 86,
   "metadata": {},
   "outputs": [
    {
     "name": "stderr",
     "output_type": "stream",
     "text": [
      "Some layers from the model checkpoint at bert-base-uncased were not used when initializing TFBertModel: ['nsp___cls', 'mlm___cls']\n",
      "- This IS expected if you are initializing TFBertModel from the checkpoint of a model trained on another task or with another architecture (e.g. initializing a BertForSequenceClassification model from a BertForPreTraining model).\n",
      "- This IS NOT expected if you are initializing TFBertModel from the checkpoint of a model that you expect to be exactly identical (initializing a BertForSequenceClassification model from a BertForSequenceClassification model).\n",
      "All the layers of TFBertModel were initialized from the model checkpoint at bert-base-uncased.\n",
      "If your task is similar to the task the model of the checkpoint was trained on, you can already use TFBertModel for predictions without further training.\n"
     ]
    },
    {
     "name": "stdout",
     "output_type": "stream",
     "text": [
      "WARNING:tensorflow:The parameters `output_attentions`, `output_hidden_states` and `use_cache` cannot be updated when calling a model.They have to be set to True/False in the config object (i.e.: `config=XConfig.from_pretrained('name', output_attentions=True)`).\n",
      "WARNING:tensorflow:AutoGraph could not transform <bound method Socket.send of <zmq.sugar.socket.Socket object at 0x0000023360679828>> and will run it as-is.\n",
      "Please report this to the TensorFlow team. When filing the bug, set the verbosity to 10 (on Linux, `export AUTOGRAPH_VERBOSITY=10`) and attach the full output.\n",
      "Cause: module, class, method, function, traceback, frame, or code object was expected, got cython_function_or_method\n",
      "To silence this warning, decorate the function with @tf.autograph.experimental.do_not_convert\n",
      "WARNING: AutoGraph could not transform <bound method Socket.send of <zmq.sugar.socket.Socket object at 0x0000023360679828>> and will run it as-is.\n",
      "Please report this to the TensorFlow team. When filing the bug, set the verbosity to 10 (on Linux, `export AUTOGRAPH_VERBOSITY=10`) and attach the full output.\n",
      "Cause: module, class, method, function, traceback, frame, or code object was expected, got cython_function_or_method\n",
      "To silence this warning, decorate the function with @tf.autograph.experimental.do_not_convert\n",
      "WARNING:tensorflow:The parameter `return_dict` cannot be set in graph mode and will always be set to `True`.\n",
      "WARNING:tensorflow:From C:\\Users\\TruProjects\\Anaconda3\\lib\\site-packages\\tensorflow\\python\\ops\\array_ops.py:5049: calling gather (from tensorflow.python.ops.array_ops) with validate_indices is deprecated and will be removed in a future version.\n",
      "Instructions for updating:\n",
      "The `validate_indices` argument has no effect. Indices are always validated on CPU and never validated on GPU.\n",
      "Model: \"model\"\n",
      "_________________________________________________________________\n",
      "Layer (type)                 Output Shape              Param #   \n",
      "=================================================================\n",
      "input_word_ids (InputLayer)  [(None, 128)]             0         \n",
      "_________________________________________________________________\n",
      "tf_bert_model (TFBertModel)  TFBaseModelOutputWithPool 109482240 \n",
      "_________________________________________________________________\n",
      "tf.__operators__.getitem (Sl (None, 768)               0         \n",
      "_________________________________________________________________\n",
      "dense_6 (Dense)              (None, 2)                 1538      \n",
      "=================================================================\n",
      "Total params: 109,483,778\n",
      "Trainable params: 109,483,778\n",
      "Non-trainable params: 0\n",
      "_________________________________________________________________\n"
     ]
    }
   ],
   "source": [
    "model_bert = create_model()\n",
    "    \n",
    "model_bert.summary()"
   ]
  },
  {
   "cell_type": "code",
   "execution_count": 87,
   "metadata": {},
   "outputs": [],
   "source": [
    "types = np.unique(df.polarity.values)\n",
    "\n",
    "def get_type_index(string):\n",
    "    return list(types).index(string)"
   ]
  },
  {
   "cell_type": "code",
   "execution_count": 88,
   "metadata": {},
   "outputs": [],
   "source": [
    "train_data['type_index'] = df['polarity'].apply(get_type_index)"
   ]
  },
  {
   "cell_type": "code",
   "execution_count": 89,
   "metadata": {},
   "outputs": [],
   "source": [
    "one_hot_labels = tf.keras.utils.to_categorical(train_data.type_index.values, num_classes=2)"
   ]
  },
  {
   "cell_type": "code",
   "execution_count": 90,
   "metadata": {},
   "outputs": [
    {
     "name": "stdout",
     "output_type": "stream",
     "text": [
      "Epoch 1/20\n",
      "WARNING:tensorflow:The parameters `output_attentions`, `output_hidden_states` and `use_cache` cannot be updated when calling a model.They have to be set to True/False in the config object (i.e.: `config=XConfig.from_pretrained('name', output_attentions=True)`).\n",
      "WARNING:tensorflow:The parameter `return_dict` cannot be set in graph mode and will always be set to `True`.\n",
      "WARNING:tensorflow:Gradients do not exist for variables ['tf_bert_model/bert/pooler/dense/kernel:0', 'tf_bert_model/bert/pooler/dense/bias:0'] when minimizing the loss.\n",
      "WARNING:tensorflow:The parameters `output_attentions`, `output_hidden_states` and `use_cache` cannot be updated when calling a model.They have to be set to True/False in the config object (i.e.: `config=XConfig.from_pretrained('name', output_attentions=True)`).\n",
      "WARNING:tensorflow:The parameter `return_dict` cannot be set in graph mode and will always be set to `True`.\n",
      "WARNING:tensorflow:Gradients do not exist for variables ['tf_bert_model/bert/pooler/dense/kernel:0', 'tf_bert_model/bert/pooler/dense/bias:0'] when minimizing the loss.\n",
      "45/45 [==============================] - ETA: 0s - loss: 0.6925 - accuracy: 0.5941 - f1_m: 0.5924 - precision_m: 0.5924 - recall_m: 0.5924WARNING:tensorflow:The parameters `output_attentions`, `output_hidden_states` and `use_cache` cannot be updated when calling a model.They have to be set to True/False in the config object (i.e.: `config=XConfig.from_pretrained('name', output_attentions=True)`).\n",
      "WARNING:tensorflow:The parameter `return_dict` cannot be set in graph mode and will always be set to `True`.\n",
      "45/45 [==============================] - 17s 178ms/step - loss: 0.6925 - accuracy: 0.5941 - f1_m: 0.5924 - precision_m: 0.5924 - recall_m: 0.5924 - val_loss: 0.6631 - val_accuracy: 0.5742 - val_f1_m: 0.5729 - val_precision_m: 0.5729 - val_recall_m: 0.5729\n",
      "Epoch 2/20\n",
      "45/45 [==============================] - 6s 143ms/step - loss: 0.5525 - accuracy: 0.7079 - f1_m: 0.7102 - precision_m: 0.7102 - recall_m: 0.7102 - val_loss: 0.4850 - val_accuracy: 0.8008 - val_f1_m: 0.7979 - val_precision_m: 0.7979 - val_recall_m: 0.7979\n",
      "Epoch 3/20\n",
      "45/45 [==============================] - 6s 143ms/step - loss: 0.3072 - accuracy: 0.8706 - f1_m: 0.8699 - precision_m: 0.8699 - recall_m: 0.8699 - val_loss: 0.4400 - val_accuracy: 0.8284 - val_f1_m: 0.8271 - val_precision_m: 0.8271 - val_recall_m: 0.8271\n",
      "Epoch 4/20\n",
      "45/45 [==============================] - 6s 143ms/step - loss: 0.2107 - accuracy: 0.9165 - f1_m: 0.9181 - precision_m: 0.9181 - recall_m: 0.9181 - val_loss: 0.4459 - val_accuracy: 0.8157 - val_f1_m: 0.8132 - val_precision_m: 0.8132 - val_recall_m: 0.8132\n",
      "Epoch 5/20\n",
      "45/45 [==============================] - 6s 143ms/step - loss: 0.1468 - accuracy: 0.9448 - f1_m: 0.9428 - precision_m: 0.9428 - recall_m: 0.9428 - val_loss: 0.5726 - val_accuracy: 0.8220 - val_f1_m: 0.8208 - val_precision_m: 0.8208 - val_recall_m: 0.8208\n",
      "Epoch 6/20\n",
      "45/45 [==============================] - 6s 144ms/step - loss: 0.1145 - accuracy: 0.9562 - f1_m: 0.9569 - precision_m: 0.9569 - recall_m: 0.9569 - val_loss: 0.5525 - val_accuracy: 0.8220 - val_f1_m: 0.8208 - val_precision_m: 0.8208 - val_recall_m: 0.8208\n",
      "Epoch 7/20\n",
      "45/45 [==============================] - 6s 143ms/step - loss: 0.0965 - accuracy: 0.9604 - f1_m: 0.9581 - precision_m: 0.9581 - recall_m: 0.9581 - val_loss: 0.6210 - val_accuracy: 0.8114 - val_f1_m: 0.8104 - val_precision_m: 0.8104 - val_recall_m: 0.8104\n",
      "Epoch 8/20\n",
      "45/45 [==============================] - 6s 143ms/step - loss: 0.0856 - accuracy: 0.9611 - f1_m: 0.9618 - precision_m: 0.9618 - recall_m: 0.9618 - val_loss: 0.6778 - val_accuracy: 0.8242 - val_f1_m: 0.8229 - val_precision_m: 0.8229 - val_recall_m: 0.8229\n",
      "Epoch 9/20\n",
      "45/45 [==============================] - 6s 143ms/step - loss: 0.0733 - accuracy: 0.9576 - f1_m: 0.9583 - precision_m: 0.9583 - recall_m: 0.9583 - val_loss: 0.6452 - val_accuracy: 0.8242 - val_f1_m: 0.8229 - val_precision_m: 0.8229 - val_recall_m: 0.8229\n",
      "Epoch 10/20\n",
      "45/45 [==============================] - 6s 142ms/step - loss: 0.0673 - accuracy: 0.9632 - f1_m: 0.9639 - precision_m: 0.9639 - recall_m: 0.9639 - val_loss: 0.8181 - val_accuracy: 0.8072 - val_f1_m: 0.8062 - val_precision_m: 0.8062 - val_recall_m: 0.8062\n",
      "Epoch 11/20\n",
      "45/45 [==============================] - 6s 142ms/step - loss: 0.0615 - accuracy: 0.9653 - f1_m: 0.9630 - precision_m: 0.9630 - recall_m: 0.9630 - val_loss: 0.9999 - val_accuracy: 0.8284 - val_f1_m: 0.8271 - val_precision_m: 0.8271 - val_recall_m: 0.8271\n",
      "Epoch 12/20\n",
      "45/45 [==============================] - 6s 142ms/step - loss: 0.0649 - accuracy: 0.9653 - f1_m: 0.9630 - precision_m: 0.9630 - recall_m: 0.9630 - val_loss: 0.9779 - val_accuracy: 0.8072 - val_f1_m: 0.8062 - val_precision_m: 0.8062 - val_recall_m: 0.8062\n",
      "Epoch 13/20\n",
      "45/45 [==============================] - 6s 142ms/step - loss: 0.0587 - accuracy: 0.9646 - f1_m: 0.9653 - precision_m: 0.9653 - recall_m: 0.9653 - val_loss: 0.8597 - val_accuracy: 0.8051 - val_f1_m: 0.8035 - val_precision_m: 0.8035 - val_recall_m: 0.8035\n",
      "Epoch 14/20\n",
      "45/45 [==============================] - 6s 143ms/step - loss: 0.0553 - accuracy: 0.9653 - f1_m: 0.9660 - precision_m: 0.9660 - recall_m: 0.9660 - val_loss: 0.9144 - val_accuracy: 0.7903 - val_f1_m: 0.7896 - val_precision_m: 0.7896 - val_recall_m: 0.7896\n",
      "Epoch 15/20\n",
      "45/45 [==============================] - 6s 143ms/step - loss: 0.0591 - accuracy: 0.9632 - f1_m: 0.9609 - precision_m: 0.9609 - recall_m: 0.9609 - val_loss: 1.0773 - val_accuracy: 0.8114 - val_f1_m: 0.8104 - val_precision_m: 0.8104 - val_recall_m: 0.8104\n",
      "Epoch 16/20\n",
      "45/45 [==============================] - 6s 143ms/step - loss: 0.0520 - accuracy: 0.9696 - f1_m: 0.9701 - precision_m: 0.9701 - recall_m: 0.9701 - val_loss: 1.1052 - val_accuracy: 0.8220 - val_f1_m: 0.8208 - val_precision_m: 0.8208 - val_recall_m: 0.8208\n",
      "Epoch 17/20\n",
      "45/45 [==============================] - 6s 143ms/step - loss: 0.0517 - accuracy: 0.9661 - f1_m: 0.9637 - precision_m: 0.9637 - recall_m: 0.9637 - val_loss: 1.6634 - val_accuracy: 0.7987 - val_f1_m: 0.7979 - val_precision_m: 0.7979 - val_recall_m: 0.7979\n",
      "Epoch 18/20\n",
      "45/45 [==============================] - 6s 142ms/step - loss: 0.0533 - accuracy: 0.9675 - f1_m: 0.9681 - precision_m: 0.9681 - recall_m: 0.9681 - val_loss: 1.3835 - val_accuracy: 0.8263 - val_f1_m: 0.8250 - val_precision_m: 0.8250 - val_recall_m: 0.8250\n",
      "Epoch 19/20\n",
      "45/45 [==============================] - 6s 142ms/step - loss: 0.0524 - accuracy: 0.9661 - f1_m: 0.9667 - precision_m: 0.9667 - recall_m: 0.9667 - val_loss: 1.2471 - val_accuracy: 0.8093 - val_f1_m: 0.8083 - val_precision_m: 0.8083 - val_recall_m: 0.8083\n",
      "Epoch 20/20\n",
      "45/45 [==============================] - 6s 142ms/step - loss: 0.0497 - accuracy: 0.9639 - f1_m: 0.9646 - precision_m: 0.9646 - recall_m: 0.9646 - val_loss: 1.6080 - val_accuracy: 0.8072 - val_f1_m: 0.8062 - val_precision_m: 0.8062 - val_recall_m: 0.8062\n"
     ]
    }
   ],
   "source": [
    "hist3 = model_bert.fit(np.array(train_input_ids), one_hot_labels, verbose = 1, epochs = NR_EPOCHS, batch_size = BATCH_SIZE, validation_split=0.25)"
   ]
  },
  {
   "cell_type": "code",
   "execution_count": 91,
   "metadata": {},
   "outputs": [],
   "source": [
    "bert_acc = hist3.history['val_accuracy'][19]\n",
    "bert_prec = hist3.history['val_precision_m'][19]\n",
    "bert_rec = hist3.history['val_recall_m'][19]\n",
    "bert_f1 = hist3.history['val_f1_m'][19]"
   ]
  },
  {
   "cell_type": "code",
   "execution_count": 92,
   "metadata": {},
   "outputs": [],
   "source": [
    "storeResults('BERTsmall',bert_acc,bert_prec,bert_rec,bert_f1)"
   ]
  },
  {
   "cell_type": "code",
   "execution_count": 93,
   "metadata": {},
   "outputs": [
    {
     "data": {
      "image/png": "[encoded data removed]",
      "text/plain": [
       "<Figure size 432x288 with 1 Axes>"
      ]
     },
     "metadata": {
      "needs_background": "light"
     },
     "output_type": "display_data"
    }
   ],
   "source": [
    "plt.plot(hist3.history['accuracy'])\n",
    "plt.plot(hist3.history['val_accuracy'])\n",
    "plt.title('Accuracy Curves')\n",
    "plt.ylabel('Accuracy')\n",
    "plt.xlabel('Epoch')\n",
    "plt.legend(['Train', 'Test'], loc='upper left')\n",
    "plt.show()"
   ]
  },
  {
   "cell_type": "code",
   "execution_count": 94,
   "metadata": {},
   "outputs": [
    {
     "data": {
      "image/png": "[encoded data removed]",
      "text/plain": [
       "<Figure size 432x288 with 1 Axes>"
      ]
     },
     "metadata": {
      "needs_background": "light"
     },
     "output_type": "display_data"
    }
   ],
   "source": [
    "plt.plot(hist3.history['loss'])\n",
    "plt.plot(hist3.history['val_loss'])\n",
    "plt.title('Loss Curves')\n",
    "plt.ylabel('Loss')\n",
    "plt.xlabel('Epoch')\n",
    "plt.legend(['Train', 'Test'], loc='upper left')\n",
    "plt.show()"
   ]
  },
  {
   "cell_type": "markdown",
   "metadata": {},
   "source": [
    "# BERT large"
   ]
  },
  {
   "cell_type": "code",
   "execution_count": 95,
   "metadata": {},
   "outputs": [],
   "source": [
    "from transformers import AutoTokenizer, TFBertModel"
   ]
  },
  {
   "cell_type": "code",
   "execution_count": 96,
   "metadata": {},
   "outputs": [],
   "source": [
    "tokenizer = BertTokenizer.from_pretrained(\"bert-large-uncased\")\n",
    "MAX_LEN = 128"
   ]
  },
  {
   "cell_type": "code",
   "execution_count": 97,
   "metadata": {},
   "outputs": [
    {
     "data": {
      "application/vnd.jupyter.widget-view+json": {
       "model_id": "0d85af0c4d044b7bbda3deeccaa24d16",
       "version_major": 2,
       "version_minor": 0
      },
      "text/plain": [
       "  0%|          | 0/1886 [00:00<?, ?it/s]"
      ]
     },
     "metadata": {},
     "output_type": "display_data"
    },
    {
     "name": "stderr",
     "output_type": "stream",
     "text": [
      "Truncation was not explicitly activated but `max_length` is provided a specific value, please use `truncation=True` to explicitly truncate examples to max length. Defaulting to 'longest_first' truncation strategy. If you encode pairs of sequences (GLUE-style) with the tokenizer you can select this strategy more precisely by providing a specific strategy to `truncation`.\n"
     ]
    },
    {
     "data": {
      "application/vnd.jupyter.widget-view+json": {
       "model_id": "3c89a3b21d104b29a366f62b874da9af",
       "version_major": 2,
       "version_minor": 0
      },
      "text/plain": [
       "  0%|          | 0/472 [00:00<?, ?it/s]"
      ]
     },
     "metadata": {},
     "output_type": "display_data"
    }
   ],
   "source": [
    "def tokenize_sentences(sentences, tokenizer, max_seq_len = 1800):\n",
    "    tokenized_sentences = []\n",
    "\n",
    "    for sentence in tqdm(sentences):\n",
    "        tokenized_sentence = tokenizer.encode(\n",
    "                            sentence,                  # Sentence to encode.\n",
    "                            add_special_tokens = True, # Add '[CLS]' and '[SEP]'\n",
    "                            max_length = max_seq_len,  # Truncate all sentences.\n",
    "                    )\n",
    "        \n",
    "        tokenized_sentences.append(tokenized_sentence)\n",
    "        \n",
    "    return tokenized_sentences\n",
    "\n",
    "def create_attention_masks(tokenized_and_padded_sentences):\n",
    "    attention_masks = []\n",
    "\n",
    "    for sentence in tokenized_and_padded_sentences:\n",
    "        att_mask = [int(token_id > 0) for token_id in sentence]\n",
    "        attention_masks.append(att_mask)\n",
    "\n",
    "    return np.asarray(attention_masks)\n",
    "\n",
    "train_input_ids = tokenize_sentences(train_data['Sentence'], tokenizer, MAX_LEN)\n",
    "train_input_ids = pad_sequences(train_input_ids, maxlen=MAX_LEN, dtype=\"long\", value=0, truncating=\"post\", padding=\"post\")\n",
    "train_attention_masks = create_attention_masks(train_input_ids)\n",
    "\n",
    "test_input_ids = tokenize_sentences(test_data['Sentence'], tokenizer, MAX_LEN)\n",
    "test_input_ids = pad_sequences(test_input_ids, maxlen=MAX_LEN, dtype=\"long\", value=0, truncating=\"post\", padding=\"post\")\n",
    "test_attention_masks = create_attention_masks(test_input_ids)"
   ]
  },
  {
   "cell_type": "code",
   "execution_count": 98,
   "metadata": {},
   "outputs": [],
   "source": [
    "#tf.config.run_functions_eagerly(True)"
   ]
  },
  {
   "cell_type": "code",
   "execution_count": 99,
   "metadata": {},
   "outputs": [],
   "source": [
    "def create_model(): \n",
    "    input_word_ids = tf.keras.layers.Input(shape=(MAX_LEN,), dtype=tf.int32,\n",
    "                                           name=\"input_word_ids\")\n",
    "    bert_layer = transformers.TFBertModel.from_pretrained(\"bert-large-uncased\")\n",
    "    bert_outputs = bert_layer(input_word_ids)[0]\n",
    "    pred = tf.keras.layers.Dense(2, activation='softmax')(bert_outputs[:,0,:])\n",
    "    \n",
    "    model = tf.keras.models.Model(inputs=input_word_ids, outputs=pred)\n",
    "    loss = tf.keras.losses.SparseCategoricalCrossentropy(from_logits=True)\n",
    "    model.compile(loss='categorical_crossentropy', optimizer=tf.keras.optimizers.Adam(\n",
    "    learning_rate=0.00002), metrics=['accuracy', f1_m, precision_m, recall_m])\n",
    "    return model"
   ]
  },
  {
   "cell_type": "code",
   "execution_count": 100,
   "metadata": {},
   "outputs": [
    {
     "name": "stderr",
     "output_type": "stream",
     "text": [
      "Some layers from the model checkpoint at bert-large-uncased were not used when initializing TFBertModel: ['nsp___cls', 'mlm___cls']\n",
      "- This IS expected if you are initializing TFBertModel from the checkpoint of a model trained on another task or with another architecture (e.g. initializing a BertForSequenceClassification model from a BertForPreTraining model).\n",
      "- This IS NOT expected if you are initializing TFBertModel from the checkpoint of a model that you expect to be exactly identical (initializing a BertForSequenceClassification model from a BertForSequenceClassification model).\n",
      "All the layers of TFBertModel were initialized from the model checkpoint at bert-large-uncased.\n",
      "If your task is similar to the task the model of the checkpoint was trained on, you can already use TFBertModel for predictions without further training.\n"
     ]
    },
    {
     "name": "stdout",
     "output_type": "stream",
     "text": [
      "WARNING:tensorflow:The parameters `output_attentions`, `output_hidden_states` and `use_cache` cannot be updated when calling a model.They have to be set to True/False in the config object (i.e.: `config=XConfig.from_pretrained('name', output_attentions=True)`).\n",
      "WARNING:tensorflow:The parameter `return_dict` cannot be set in graph mode and will always be set to `True`.\n",
      "Model: \"model_1\"\n",
      "_________________________________________________________________\n",
      "Layer (type)                 Output Shape              Param #   \n",
      "=================================================================\n",
      "input_word_ids (InputLayer)  [(None, 128)]             0         \n",
      "_________________________________________________________________\n",
      "tf_bert_model_1 (TFBertModel TFBaseModelOutputWithPool 335141888 \n",
      "_________________________________________________________________\n",
      "tf.__operators__.getitem_1 ( (None, 1024)              0         \n",
      "_________________________________________________________________\n",
      "dense_7 (Dense)              (None, 2)                 2050      \n",
      "=================================================================\n",
      "Total params: 335,143,938\n",
      "Trainable params: 335,143,938\n",
      "Non-trainable params: 0\n",
      "_________________________________________________________________\n"
     ]
    }
   ],
   "source": [
    "model_lbert = create_model()\n",
    "    \n",
    "model_lbert.summary()"
   ]
  },
  {
   "cell_type": "code",
   "execution_count": 101,
   "metadata": {},
   "outputs": [],
   "source": [
    "types = np.unique(df.polarity.values)\n",
    "\n",
    "def get_type_index(string):\n",
    "    return list(types).index(string)"
   ]
  },
  {
   "cell_type": "code",
   "execution_count": 102,
   "metadata": {},
   "outputs": [
    {
     "data": {
      "text/html": [
       "<div>\n",
       "<style scoped>\n",
       "    .dataframe tbody tr th:only-of-type {\n",
       "        vertical-align: middle;\n",
       "    }\n",
       "\n",
       "    .dataframe tbody tr th {\n",
       "        vertical-align: top;\n",
       "    }\n",
       "\n",
       "    .dataframe thead th {\n",
       "        text-align: right;\n",
       "    }\n",
       "</style>\n",
       "<table border=\"1\" class=\"dataframe\">\n",
       "  <thead>\n",
       "    <tr style=\"text-align: right;\">\n",
       "      <th></th>\n",
       "      <th>Sentence</th>\n",
       "      <th>polarity</th>\n",
       "      <th>type_index</th>\n",
       "    </tr>\n",
       "  </thead>\n",
       "  <tbody>\n",
       "    <tr>\n",
       "      <th>2339</th>\n",
       "      <td>i love my apple  it is quick and easy to use</td>\n",
       "      <td>1</td>\n",
       "      <td>1</td>\n",
       "    </tr>\n",
       "    <tr>\n",
       "      <th>477</th>\n",
       "      <td>the screen is a little glary  and i hated the ...</td>\n",
       "      <td>0</td>\n",
       "      <td>0</td>\n",
       "    </tr>\n",
       "    <tr>\n",
       "      <th>962</th>\n",
       "      <td>processor   when compared to my 3 week old ear...</td>\n",
       "      <td>1</td>\n",
       "      <td>1</td>\n",
       "    </tr>\n",
       "    <tr>\n",
       "      <th>1912</th>\n",
       "      <td>the mac snow leopard o s is extremely easy to ...</td>\n",
       "      <td>1</td>\n",
       "      <td>1</td>\n",
       "    </tr>\n",
       "    <tr>\n",
       "      <th>2170</th>\n",
       "      <td>only other thing is that if you are using this...</td>\n",
       "      <td>0</td>\n",
       "      <td>0</td>\n",
       "    </tr>\n",
       "    <tr>\n",
       "      <th>...</th>\n",
       "      <td>...</td>\n",
       "      <td>...</td>\n",
       "      <td>...</td>\n",
       "    </tr>\n",
       "    <tr>\n",
       "      <th>1033</th>\n",
       "      <td>so  the hard disk capacity really doesn t matt...</td>\n",
       "      <td>1</td>\n",
       "      <td>1</td>\n",
       "    </tr>\n",
       "    <tr>\n",
       "      <th>1731</th>\n",
       "      <td>the most recent being that my safari internet ...</td>\n",
       "      <td>1</td>\n",
       "      <td>1</td>\n",
       "    </tr>\n",
       "    <tr>\n",
       "      <th>763</th>\n",
       "      <td>called headquarters again  they report that t...</td>\n",
       "      <td>0</td>\n",
       "      <td>0</td>\n",
       "    </tr>\n",
       "    <tr>\n",
       "      <th>835</th>\n",
       "      <td>the processor went on me  the fan went and the...</td>\n",
       "      <td>0</td>\n",
       "      <td>0</td>\n",
       "    </tr>\n",
       "    <tr>\n",
       "      <th>1653</th>\n",
       "      <td>also you may need to charge it once a day  if ...</td>\n",
       "      <td>1</td>\n",
       "      <td>1</td>\n",
       "    </tr>\n",
       "  </tbody>\n",
       "</table>\n",
       "<p>1886 rows × 3 columns</p>\n",
       "</div>"
      ],
      "text/plain": [
       "                                               Sentence  polarity  type_index\n",
       "2339      i love my apple  it is quick and easy to use          1           1\n",
       "477   the screen is a little glary  and i hated the ...         0           0\n",
       "962   processor   when compared to my 3 week old ear...         1           1\n",
       "1912  the mac snow leopard o s is extremely easy to ...         1           1\n",
       "2170  only other thing is that if you are using this...         0           0\n",
       "...                                                 ...       ...         ...\n",
       "1033  so  the hard disk capacity really doesn t matt...         1           1\n",
       "1731  the most recent being that my safari internet ...         1           1\n",
       "763    called headquarters again  they report that t...         0           0\n",
       "835   the processor went on me  the fan went and the...         0           0\n",
       "1653  also you may need to charge it once a day  if ...         1           1\n",
       "\n",
       "[1886 rows x 3 columns]"
      ]
     },
     "execution_count": 102,
     "metadata": {},
     "output_type": "execute_result"
    }
   ],
   "source": [
    "train_data['type_index'] = df['polarity'].apply(get_type_index)\n",
    "train_data"
   ]
  },
  {
   "cell_type": "code",
   "execution_count": 103,
   "metadata": {},
   "outputs": [],
   "source": [
    "one_hot_labels = tf.keras.utils.to_categorical(train_data.type_index.values, num_classes=2)"
   ]
  },
  {
   "cell_type": "code",
   "execution_count": 104,
   "metadata": {},
   "outputs": [
    {
     "name": "stdout",
     "output_type": "stream",
     "text": [
      "Epoch 1/20\n",
      "WARNING:tensorflow:The parameters `output_attentions`, `output_hidden_states` and `use_cache` cannot be updated when calling a model.They have to be set to True/False in the config object (i.e.: `config=XConfig.from_pretrained('name', output_attentions=True)`).\n",
      "WARNING:tensorflow:The parameter `return_dict` cannot be set in graph mode and will always be set to `True`.\n",
      "WARNING:tensorflow:Gradients do not exist for variables ['tf_bert_model_1/bert/pooler/dense/kernel:0', 'tf_bert_model_1/bert/pooler/dense/bias:0'] when minimizing the loss.\n",
      "WARNING:tensorflow:The parameters `output_attentions`, `output_hidden_states` and `use_cache` cannot be updated when calling a model.They have to be set to True/False in the config object (i.e.: `config=XConfig.from_pretrained('name', output_attentions=True)`).\n",
      "WARNING:tensorflow:The parameter `return_dict` cannot be set in graph mode and will always be set to `True`.\n",
      "WARNING:tensorflow:Gradients do not exist for variables ['tf_bert_model_1/bert/pooler/dense/kernel:0', 'tf_bert_model_1/bert/pooler/dense/bias:0'] when minimizing the loss.\n",
      "45/45 [==============================] - ETA: 0s - loss: 0.7986 - accuracy: 0.5509 - f1_m: 0.5530 - precision_m: 0.5530 - recall_m: 0.5530WARNING:tensorflow:The parameters `output_attentions`, `output_hidden_states` and `use_cache` cannot be updated when calling a model.They have to be set to True/False in the config object (i.e.: `config=XConfig.from_pretrained('name', output_attentions=True)`).\n",
      "WARNING:tensorflow:The parameter `return_dict` cannot be set in graph mode and will always be set to `True`.\n",
      "45/45 [==============================] - 36s 417ms/step - loss: 0.7986 - accuracy: 0.5509 - f1_m: 0.5530 - precision_m: 0.5530 - recall_m: 0.5530 - val_loss: 0.6826 - val_accuracy: 0.5742 - val_f1_m: 0.5729 - val_precision_m: 0.5729 - val_recall_m: 0.5729\n",
      "Epoch 2/20\n",
      "45/45 [==============================] - 16s 346ms/step - loss: 0.7202 - accuracy: 0.5651 - f1_m: 0.5729 - precision_m: 0.5729 - recall_m: 0.5729 - val_loss: 0.7074 - val_accuracy: 0.5742 - val_f1_m: 0.5729 - val_precision_m: 0.5729 - val_recall_m: 0.5729\n",
      "Epoch 3/20\n",
      "45/45 [==============================] - 16s 347ms/step - loss: 0.6854 - accuracy: 0.5934 - f1_m: 0.5947 - precision_m: 0.5947 - recall_m: 0.5947 - val_loss: 0.6852 - val_accuracy: 0.5742 - val_f1_m: 0.5729 - val_precision_m: 0.5729 - val_recall_m: 0.5729\n",
      "Epoch 4/20\n",
      "45/45 [==============================] - 16s 346ms/step - loss: 0.6848 - accuracy: 0.5926 - f1_m: 0.5970 - precision_m: 0.5970 - recall_m: 0.5970 - val_loss: 0.7454 - val_accuracy: 0.5742 - val_f1_m: 0.5729 - val_precision_m: 0.5729 - val_recall_m: 0.5729\n",
      "Epoch 5/20\n",
      "45/45 [==============================] - 16s 345ms/step - loss: 0.7032 - accuracy: 0.5523 - f1_m: 0.5544 - precision_m: 0.5544 - recall_m: 0.5544 - val_loss: 0.7423 - val_accuracy: 0.5742 - val_f1_m: 0.5729 - val_precision_m: 0.5729 - val_recall_m: 0.5729\n",
      "Epoch 6/20\n",
      "45/45 [==============================] - 16s 348ms/step - loss: 0.6909 - accuracy: 0.5820 - f1_m: 0.5806 - precision_m: 0.5806 - recall_m: 0.5806 - val_loss: 0.6819 - val_accuracy: 0.5742 - val_f1_m: 0.5729 - val_precision_m: 0.5729 - val_recall_m: 0.5729\n",
      "Epoch 7/20\n",
      "45/45 [==============================] - 16s 347ms/step - loss: 0.6651 - accuracy: 0.6139 - f1_m: 0.6088 - precision_m: 0.6088 - recall_m: 0.6088 - val_loss: 0.6982 - val_accuracy: 0.5742 - val_f1_m: 0.5729 - val_precision_m: 0.5729 - val_recall_m: 0.5729\n",
      "Epoch 8/20\n",
      "45/45 [==============================] - 16s 347ms/step - loss: 0.7013 - accuracy: 0.5679 - f1_m: 0.5637 - precision_m: 0.5637 - recall_m: 0.5637 - val_loss: 0.6835 - val_accuracy: 0.5742 - val_f1_m: 0.5729 - val_precision_m: 0.5729 - val_recall_m: 0.5729\n",
      "Epoch 9/20\n",
      "45/45 [==============================] - 16s 347ms/step - loss: 0.6961 - accuracy: 0.5764 - f1_m: 0.5750 - precision_m: 0.5750 - recall_m: 0.5750 - val_loss: 0.6868 - val_accuracy: 0.5742 - val_f1_m: 0.5729 - val_precision_m: 0.5729 - val_recall_m: 0.5729\n",
      "Epoch 10/20\n",
      "45/45 [==============================] - 16s 346ms/step - loss: 0.6806 - accuracy: 0.5926 - f1_m: 0.5880 - precision_m: 0.5880 - recall_m: 0.5880 - val_loss: 0.6843 - val_accuracy: 0.5742 - val_f1_m: 0.5729 - val_precision_m: 0.5729 - val_recall_m: 0.5729\n",
      "Epoch 11/20\n",
      "45/45 [==============================] - 16s 346ms/step - loss: 0.6749 - accuracy: 0.6075 - f1_m: 0.6086 - precision_m: 0.6086 - recall_m: 0.6086 - val_loss: 0.7160 - val_accuracy: 0.5742 - val_f1_m: 0.5729 - val_precision_m: 0.5729 - val_recall_m: 0.5729\n",
      "Epoch 12/20\n",
      "45/45 [==============================] - 16s 346ms/step - loss: 0.6795 - accuracy: 0.5976 - f1_m: 0.6019 - precision_m: 0.6019 - recall_m: 0.6019 - val_loss: 0.7514 - val_accuracy: 0.5742 - val_f1_m: 0.5729 - val_precision_m: 0.5729 - val_recall_m: 0.5729\n",
      "Epoch 13/20\n",
      "45/45 [==============================] - 16s 347ms/step - loss: 0.6777 - accuracy: 0.6110 - f1_m: 0.6120 - precision_m: 0.6120 - recall_m: 0.6120 - val_loss: 0.6825 - val_accuracy: 0.5742 - val_f1_m: 0.5729 - val_precision_m: 0.5729 - val_recall_m: 0.5729\n",
      "Epoch 14/20\n",
      "45/45 [==============================] - 16s 345ms/step - loss: 0.6785 - accuracy: 0.6117 - f1_m: 0.6127 - precision_m: 0.6127 - recall_m: 0.6127 - val_loss: 0.6833 - val_accuracy: 0.5742 - val_f1_m: 0.5729 - val_precision_m: 0.5729 - val_recall_m: 0.5729\n",
      "Epoch 15/20\n",
      "45/45 [==============================] - 16s 346ms/step - loss: 0.6748 - accuracy: 0.5912 - f1_m: 0.5926 - precision_m: 0.5926 - recall_m: 0.5926 - val_loss: 0.6871 - val_accuracy: 0.5742 - val_f1_m: 0.5729 - val_precision_m: 0.5729 - val_recall_m: 0.5729\n",
      "Epoch 16/20\n",
      "45/45 [==============================] - 16s 347ms/step - loss: 0.6631 - accuracy: 0.6153 - f1_m: 0.6162 - precision_m: 0.6162 - recall_m: 0.6162 - val_loss: 0.7036 - val_accuracy: 0.5742 - val_f1_m: 0.5729 - val_precision_m: 0.5729 - val_recall_m: 0.5729\n",
      "Epoch 17/20\n",
      "45/45 [==============================] - 15s 345ms/step - loss: 0.6686 - accuracy: 0.6004 - f1_m: 0.5986 - precision_m: 0.5986 - recall_m: 0.5986 - val_loss: 0.8377 - val_accuracy: 0.5742 - val_f1_m: 0.5729 - val_precision_m: 0.5729 - val_recall_m: 0.5729\n",
      "Epoch 18/20\n",
      "45/45 [==============================] - 15s 345ms/step - loss: 0.6549 - accuracy: 0.6231 - f1_m: 0.6238 - precision_m: 0.6238 - recall_m: 0.6238 - val_loss: 0.6791 - val_accuracy: 0.5763 - val_f1_m: 0.5750 - val_precision_m: 0.5750 - val_recall_m: 0.5750\n",
      "Epoch 19/20\n",
      "45/45 [==============================] - 16s 345ms/step - loss: 0.6637 - accuracy: 0.6231 - f1_m: 0.6238 - precision_m: 0.6238 - recall_m: 0.6238 - val_loss: 0.6831 - val_accuracy: 0.5932 - val_f1_m: 0.5917 - val_precision_m: 0.5917 - val_recall_m: 0.5917\n",
      "Epoch 20/20\n",
      "45/45 [==============================] - 15s 344ms/step - loss: 0.6462 - accuracy: 0.6301 - f1_m: 0.6308 - precision_m: 0.6308 - recall_m: 0.6308 - val_loss: 0.6847 - val_accuracy: 0.5657 - val_f1_m: 0.5667 - val_precision_m: 0.5667 - val_recall_m: 0.5667\n"
     ]
    }
   ],
   "source": [
    "hist2 = model_lbert.fit(np.array(train_input_ids), one_hot_labels, verbose = 1, epochs = NR_EPOCHS, batch_size = BATCH_SIZE, validation_split=0.25)"
   ]
  },
  {
   "cell_type": "code",
   "execution_count": 105,
   "metadata": {},
   "outputs": [],
   "source": [
    "lbert_acc = hist2.history['val_accuracy'][19]\n",
    "lbert_prec = hist2.history['val_precision_m'][19]\n",
    "lbert_rec = hist2.history['val_recall_m'][19]\n",
    "lbert_f1 = hist2.history['val_f1_m'][19]"
   ]
  },
  {
   "cell_type": "code",
   "execution_count": 106,
   "metadata": {},
   "outputs": [],
   "source": [
    "storeResults('BERTlarge',lbert_acc,lbert_prec,lbert_rec,lbert_f1)"
   ]
  },
  {
   "cell_type": "code",
   "execution_count": 107,
   "metadata": {},
   "outputs": [
    {
     "data": {
      "image/png": "[encoded data removed]",
      "text/plain": [
       "<Figure size 432x288 with 1 Axes>"
      ]
     },
     "metadata": {
      "needs_background": "light"
     },
     "output_type": "display_data"
    }
   ],
   "source": [
    "plt.plot(hist2.history['accuracy'])\n",
    "plt.plot(hist2.history['val_accuracy'])\n",
    "plt.title('Accuracy Curves')\n",
    "plt.ylabel('Accuracy')\n",
    "plt.xlabel('Epoch')\n",
    "plt.legend(['Train', 'Test'], loc='upper left')\n",
    "plt.show()"
   ]
  },
  {
   "cell_type": "code",
   "execution_count": 108,
   "metadata": {},
   "outputs": [
    {
     "data": {
      "image/png": "[encoded data removed]",
      "text/plain": [
       "<Figure size 432x288 with 1 Axes>"
      ]
     },
     "metadata": {
      "needs_background": "light"
     },
     "output_type": "display_data"
    }
   ],
   "source": [
    "plt.plot(hist2.history['loss'])\n",
    "plt.plot(hist2.history['val_loss'])\n",
    "plt.title('Loss Curves')\n",
    "plt.ylabel('Loss')\n",
    "plt.xlabel('Epoch')\n",
    "plt.legend(['Train', 'Test'], loc='upper left')\n",
    "plt.show()"
   ]
  },
  {
   "cell_type": "markdown",
   "metadata": {},
   "source": [
    "# TopicBERT"
   ]
  },
  {
   "cell_type": "code",
   "execution_count": 109,
   "metadata": {},
   "outputs": [],
   "source": [
    "from transformers import AutoTokenizer, TFMobileBertModel"
   ]
  },
  {
   "cell_type": "code",
   "execution_count": 110,
   "metadata": {},
   "outputs": [],
   "source": [
    "tokenizer = AutoTokenizer.from_pretrained(\"google/mobilebert-uncased\")"
   ]
  },
  {
   "cell_type": "code",
   "execution_count": 111,
   "metadata": {},
   "outputs": [
    {
     "data": {
      "application/vnd.jupyter.widget-view+json": {
       "model_id": "11d97af36b5d4494b1f7c4a60dd7da07",
       "version_major": 2,
       "version_minor": 0
      },
      "text/plain": [
       "  0%|          | 0/1886 [00:00<?, ?it/s]"
      ]
     },
     "metadata": {},
     "output_type": "display_data"
    },
    {
     "name": "stderr",
     "output_type": "stream",
     "text": [
      "Truncation was not explicitly activated but `max_length` is provided a specific value, please use `truncation=True` to explicitly truncate examples to max length. Defaulting to 'longest_first' truncation strategy. If you encode pairs of sequences (GLUE-style) with the tokenizer you can select this strategy more precisely by providing a specific strategy to `truncation`.\n"
     ]
    },
    {
     "data": {
      "application/vnd.jupyter.widget-view+json": {
       "model_id": "807b25098f6141518138e943365de106",
       "version_major": 2,
       "version_minor": 0
      },
      "text/plain": [
       "  0%|          | 0/472 [00:00<?, ?it/s]"
      ]
     },
     "metadata": {},
     "output_type": "display_data"
    }
   ],
   "source": [
    "def tokenize_sentences(sentences, tokenizer, max_seq_len = 1800):\n",
    "    tokenized_sentences = []\n",
    "\n",
    "    for sentence in tqdm(sentences):\n",
    "        tokenized_sentence = tokenizer.encode(\n",
    "                            sentence,                  # Sentence to encode.\n",
    "                            add_special_tokens = True, # Add '[CLS]' and '[SEP]'\n",
    "                            max_length = max_seq_len,  # Truncate all sentences.\n",
    "                    )\n",
    "        \n",
    "        tokenized_sentences.append(tokenized_sentence)\n",
    "        \n",
    "    return tokenized_sentences\n",
    "\n",
    "def create_attention_masks(tokenized_and_padded_sentences):\n",
    "    attention_masks = []\n",
    "\n",
    "    for sentence in tokenized_and_padded_sentences:\n",
    "        att_mask = [int(token_id > 0) for token_id in sentence]\n",
    "        attention_masks.append(att_mask)\n",
    "\n",
    "    return np.asarray(attention_masks)\n",
    "\n",
    "train_input_ids = tokenize_sentences(train_data['Sentence'], tokenizer, MAX_LEN)\n",
    "train_input_ids = pad_sequences(train_input_ids, maxlen=MAX_LEN, dtype=\"long\", value=0, truncating=\"post\", padding=\"post\")\n",
    "train_attention_masks = create_attention_masks(train_input_ids)\n",
    "\n",
    "test_input_ids = tokenize_sentences(test_data['Sentence'], tokenizer, MAX_LEN)\n",
    "test_input_ids = pad_sequences(test_input_ids, maxlen=MAX_LEN, dtype=\"long\", value=0, truncating=\"post\", padding=\"post\")\n",
    "test_attention_masks = create_attention_masks(test_input_ids)"
   ]
  },
  {
   "cell_type": "code",
   "execution_count": 112,
   "metadata": {},
   "outputs": [],
   "source": [
    "from transformers import AutoTokenizer,TFT5Model\n",
    "def create_model(): \n",
    "    input_word_ids = tf.keras.layers.Input(shape=(MAX_LEN,), dtype=tf.int32,\n",
    "                                           name=\"input_word_ids\")\n",
    "    bert_layer = TFMobileBertModel.from_pretrained(\"google/mobilebert-uncased\")\n",
    "    bert_outputs = bert_layer(input_word_ids)[0]\n",
    "    pred = tf.keras.layers.Dense(2, activation='softmax')(bert_outputs[:,0,:])\n",
    "    \n",
    "    model = tf.keras.models.Model(inputs=input_word_ids, outputs=pred)\n",
    "    loss = tf.keras.losses.SparseCategoricalCrossentropy(from_logits=True)\n",
    "    model.compile(loss='categorical_crossentropy', optimizer=tf.keras.optimizers.Adam(\n",
    "    learning_rate=0.00002), metrics=['accuracy', f1_m, precision_m, recall_m])\n",
    "    return model"
   ]
  },
  {
   "cell_type": "code",
   "execution_count": 113,
   "metadata": {},
   "outputs": [
    {
     "name": "stderr",
     "output_type": "stream",
     "text": [
      "Some layers from the model checkpoint at google/mobilebert-uncased were not used when initializing TFMobileBertModel: ['predictions___cls', 'seq_relationship___cls']\n",
      "- This IS expected if you are initializing TFMobileBertModel from the checkpoint of a model trained on another task or with another architecture (e.g. initializing a BertForSequenceClassification model from a BertForPreTraining model).\n",
      "- This IS NOT expected if you are initializing TFMobileBertModel from the checkpoint of a model that you expect to be exactly identical (initializing a BertForSequenceClassification model from a BertForSequenceClassification model).\n",
      "All the layers of TFMobileBertModel were initialized from the model checkpoint at google/mobilebert-uncased.\n",
      "If your task is similar to the task the model of the checkpoint was trained on, you can already use TFMobileBertModel for predictions without further training.\n"
     ]
    },
    {
     "name": "stdout",
     "output_type": "stream",
     "text": [
      "WARNING:tensorflow:The parameters `output_attentions`, `output_hidden_states` and `use_cache` cannot be updated when calling a model.They have to be set to True/False in the config object (i.e.: `config=XConfig.from_pretrained('name', output_attentions=True)`).\n",
      "WARNING:tensorflow:The parameter `return_dict` cannot be set in graph mode and will always be set to `True`.\n",
      "Model: \"model_2\"\n",
      "_________________________________________________________________\n",
      "Layer (type)                 Output Shape              Param #   \n",
      "=================================================================\n",
      "input_word_ids (InputLayer)  [(None, 128)]             0         \n",
      "_________________________________________________________________\n",
      "tf_mobile_bert_model (TFMobi TFBaseModelOutputWithPool 24581888  \n",
      "_________________________________________________________________\n",
      "tf.__operators__.getitem_2 ( (None, 512)               0         \n",
      "_________________________________________________________________\n",
      "dense_8 (Dense)              (None, 2)                 1026      \n",
      "=================================================================\n",
      "Total params: 24,582,914\n",
      "Trainable params: 24,582,914\n",
      "Non-trainable params: 0\n",
      "_________________________________________________________________\n"
     ]
    }
   ],
   "source": [
    "model_topic = create_model()\n",
    "    \n",
    "model_topic.summary()"
   ]
  },
  {
   "cell_type": "code",
   "execution_count": 114,
   "metadata": {},
   "outputs": [],
   "source": [
    "types = np.unique(df.polarity.values)\n",
    "\n",
    "def get_type_index(string):\n",
    "    return list(types).index(string)"
   ]
  },
  {
   "cell_type": "code",
   "execution_count": 115,
   "metadata": {},
   "outputs": [],
   "source": [
    "train_data['type_index'] = df['polarity'].apply(get_type_index)"
   ]
  },
  {
   "cell_type": "code",
   "execution_count": 116,
   "metadata": {},
   "outputs": [],
   "source": [
    "one_hot_labels = tf.keras.utils.to_categorical(train_data.type_index.values, num_classes=2)"
   ]
  },
  {
   "cell_type": "code",
   "execution_count": 117,
   "metadata": {},
   "outputs": [
    {
     "name": "stdout",
     "output_type": "stream",
     "text": [
      "Epoch 1/20\n",
      "WARNING:tensorflow:The parameters `output_attentions`, `output_hidden_states` and `use_cache` cannot be updated when calling a model.They have to be set to True/False in the config object (i.e.: `config=XConfig.from_pretrained('name', output_attentions=True)`).\n",
      "WARNING:tensorflow:The parameter `return_dict` cannot be set in graph mode and will always be set to `True`.\n",
      "WARNING:tensorflow:The parameters `output_attentions`, `output_hidden_states` and `use_cache` cannot be updated when calling a model.They have to be set to True/False in the config object (i.e.: `config=XConfig.from_pretrained('name', output_attentions=True)`).\n",
      "WARNING:tensorflow:The parameter `return_dict` cannot be set in graph mode and will always be set to `True`.\n",
      "45/45 [==============================] - ETA: 0s - loss: 1417818.7500 - accuracy: 0.6054 - f1_m: 0.6125 - precision_m: 0.6125 - recall_m: 0.6125WARNING:tensorflow:The parameters `output_attentions`, `output_hidden_states` and `use_cache` cannot be updated when calling a model.They have to be set to True/False in the config object (i.e.: `config=XConfig.from_pretrained('name', output_attentions=True)`).\n",
      "WARNING:tensorflow:The parameter `return_dict` cannot be set in graph mode and will always be set to `True`.\n",
      "45/45 [==============================] - 50s 468ms/step - loss: 1417818.7500 - accuracy: 0.6054 - f1_m: 0.6125 - precision_m: 0.6125 - recall_m: 0.6125 - val_loss: 0.8982 - val_accuracy: 0.5720 - val_f1_m: 0.5708 - val_precision_m: 0.5708 - val_recall_m: 0.5708\n",
      "Epoch 2/20\n",
      "45/45 [==============================] - 14s 308ms/step - loss: 0.9226 - accuracy: 0.5743 - f1_m: 0.5759 - precision_m: 0.5759 - recall_m: 0.5759 - val_loss: 0.7774 - val_accuracy: 0.5085 - val_f1_m: 0.5083 - val_precision_m: 0.5083 - val_recall_m: 0.5083\n",
      "Epoch 3/20\n",
      "45/45 [==============================] - 14s 305ms/step - loss: 0.8890 - accuracy: 0.5502 - f1_m: 0.5553 - precision_m: 0.5553 - recall_m: 0.5553 - val_loss: 0.7771 - val_accuracy: 0.5169 - val_f1_m: 0.5167 - val_precision_m: 0.5167 - val_recall_m: 0.5167\n",
      "Epoch 4/20\n",
      "45/45 [==============================] - 14s 303ms/step - loss: 0.8506 - accuracy: 0.5651 - f1_m: 0.5639 - precision_m: 0.5639 - recall_m: 0.5639 - val_loss: 0.7818 - val_accuracy: 0.5106 - val_f1_m: 0.5104 - val_precision_m: 0.5104 - val_recall_m: 0.5104\n",
      "Epoch 5/20\n",
      "45/45 [==============================] - 14s 307ms/step - loss: 0.8582 - accuracy: 0.5629 - f1_m: 0.5648 - precision_m: 0.5648 - recall_m: 0.5648 - val_loss: 0.7778 - val_accuracy: 0.5064 - val_f1_m: 0.5062 - val_precision_m: 0.5063 - val_recall_m: 0.5063\n",
      "Epoch 6/20\n",
      "45/45 [==============================] - 14s 305ms/step - loss: 0.8460 - accuracy: 0.5714 - f1_m: 0.5731 - precision_m: 0.5731 - recall_m: 0.5731 - val_loss: 0.7790 - val_accuracy: 0.5064 - val_f1_m: 0.5062 - val_precision_m: 0.5063 - val_recall_m: 0.5063\n",
      "Epoch 7/20\n",
      "45/45 [==============================] - 14s 307ms/step - loss: 0.8384 - accuracy: 0.5545 - f1_m: 0.5625 - precision_m: 0.5625 - recall_m: 0.5625 - val_loss: 0.7812 - val_accuracy: 0.5085 - val_f1_m: 0.5083 - val_precision_m: 0.5083 - val_recall_m: 0.5083\n",
      "Epoch 8/20\n",
      "45/45 [==============================] - 14s 317ms/step - loss: 0.8221 - accuracy: 0.5799 - f1_m: 0.5755 - precision_m: 0.5755 - recall_m: 0.5755 - val_loss: 0.7790 - val_accuracy: 0.5042 - val_f1_m: 0.5035 - val_precision_m: 0.5035 - val_recall_m: 0.5035\n",
      "Epoch 9/20\n",
      "45/45 [==============================] - 14s 312ms/step - loss: 0.8175 - accuracy: 0.5778 - f1_m: 0.5764 - precision_m: 0.5764 - recall_m: 0.5764 - val_loss: 0.7793 - val_accuracy: 0.5064 - val_f1_m: 0.5056 - val_precision_m: 0.5056 - val_recall_m: 0.5056\n",
      "Epoch 10/20\n",
      "45/45 [==============================] - 14s 315ms/step - loss: 0.8709 - accuracy: 0.5622 - f1_m: 0.5611 - precision_m: 0.5611 - recall_m: 0.5611 - val_loss: 0.7773 - val_accuracy: 0.5085 - val_f1_m: 0.5069 - val_precision_m: 0.5069 - val_recall_m: 0.5069\n",
      "Epoch 11/20\n",
      "45/45 [==============================] - 14s 309ms/step - loss: 0.8294 - accuracy: 0.5530 - f1_m: 0.5491 - precision_m: 0.5491 - recall_m: 0.5491 - val_loss: 0.7759 - val_accuracy: 0.5085 - val_f1_m: 0.5076 - val_precision_m: 0.5076 - val_recall_m: 0.5076\n",
      "Epoch 12/20\n",
      "45/45 [==============================] - 14s 316ms/step - loss: 0.8265 - accuracy: 0.5757 - f1_m: 0.5743 - precision_m: 0.5743 - recall_m: 0.5743 - val_loss: 0.7802 - val_accuracy: 0.5106 - val_f1_m: 0.5090 - val_precision_m: 0.5090 - val_recall_m: 0.5090\n",
      "Epoch 13/20\n",
      "45/45 [==============================] - 14s 313ms/step - loss: 0.8114 - accuracy: 0.5537 - f1_m: 0.5618 - precision_m: 0.5618 - recall_m: 0.5618 - val_loss: 0.7740 - val_accuracy: 0.5169 - val_f1_m: 0.5160 - val_precision_m: 0.5160 - val_recall_m: 0.5160\n",
      "Epoch 14/20\n",
      "45/45 [==============================] - 14s 313ms/step - loss: 0.8192 - accuracy: 0.5615 - f1_m: 0.5604 - precision_m: 0.5604 - recall_m: 0.5604 - val_loss: 0.7693 - val_accuracy: 0.5106 - val_f1_m: 0.5104 - val_precision_m: 0.5104 - val_recall_m: 0.5104\n",
      "Epoch 15/20\n",
      "45/45 [==============================] - 14s 310ms/step - loss: 0.7709 - accuracy: 0.5877 - f1_m: 0.5921 - precision_m: 0.5921 - recall_m: 0.5921 - val_loss: 0.7828 - val_accuracy: 0.5169 - val_f1_m: 0.5160 - val_precision_m: 0.5160 - val_recall_m: 0.5160\n",
      "Epoch 16/20\n",
      "45/45 [==============================] - 14s 311ms/step - loss: 0.7850 - accuracy: 0.5813 - f1_m: 0.5829 - precision_m: 0.5829 - recall_m: 0.5829 - val_loss: 0.7651 - val_accuracy: 0.5106 - val_f1_m: 0.5104 - val_precision_m: 0.5104 - val_recall_m: 0.5104\n",
      "Epoch 17/20\n",
      "45/45 [==============================] - 14s 307ms/step - loss: 0.7839 - accuracy: 0.5707 - f1_m: 0.5725 - precision_m: 0.5725 - recall_m: 0.5725 - val_loss: 0.7665 - val_accuracy: 0.5148 - val_f1_m: 0.5139 - val_precision_m: 0.5139 - val_recall_m: 0.5139\n",
      "Epoch 18/20\n",
      "45/45 [==============================] - 14s 304ms/step - loss: 0.7883 - accuracy: 0.5778 - f1_m: 0.5704 - precision_m: 0.5704 - recall_m: 0.5704 - val_loss: 0.7844 - val_accuracy: 0.5191 - val_f1_m: 0.5181 - val_precision_m: 0.5181 - val_recall_m: 0.5181\n",
      "Epoch 19/20\n",
      "45/45 [==============================] - 14s 305ms/step - loss: 0.7978 - accuracy: 0.5651 - f1_m: 0.5639 - precision_m: 0.5639 - recall_m: 0.5639 - val_loss: 0.7566 - val_accuracy: 0.5297 - val_f1_m: 0.5299 - val_precision_m: 0.5299 - val_recall_m: 0.5299\n",
      "Epoch 20/20\n",
      "45/45 [==============================] - 14s 306ms/step - loss: 0.7752 - accuracy: 0.5750 - f1_m: 0.5736 - precision_m: 0.5736 - recall_m: 0.5736 - val_loss: 0.7568 - val_accuracy: 0.5254 - val_f1_m: 0.5250 - val_precision_m: 0.5250 - val_recall_m: 0.5250\n"
     ]
    }
   ],
   "source": [
    "hist4 = model_topic.fit(np.array(train_input_ids), one_hot_labels, verbose = 1, epochs = NR_EPOCHS, batch_size = BATCH_SIZE, validation_split=0.25)"
   ]
  },
  {
   "cell_type": "code",
   "execution_count": 118,
   "metadata": {},
   "outputs": [],
   "source": [
    "ele_acc = hist4.history['val_accuracy'][9]\n",
    "ele_prec = hist4.history['val_precision_m'][9]\n",
    "ele_rec = hist4.history['val_recall_m'][9]\n",
    "ele_f1 = hist4.history['val_f1_m'][9]"
   ]
  },
  {
   "cell_type": "code",
   "execution_count": 119,
   "metadata": {},
   "outputs": [],
   "source": [
    "storeResults('TopicBERT',ele_acc,ele_prec,ele_rec,ele_f1)"
   ]
  },
  {
   "cell_type": "code",
   "execution_count": 120,
   "metadata": {},
   "outputs": [
    {
     "data": {
      "image/png": "[encoded data removed]",
      "text/plain": [
       "<Figure size 432x288 with 1 Axes>"
      ]
     },
     "metadata": {
      "needs_background": "light"
     },
     "output_type": "display_data"
    }
   ],
   "source": [
    "plt.plot(hist4.history['accuracy'])\n",
    "plt.plot(hist4.history['val_accuracy'])\n",
    "plt.title('Accuracy Curves')\n",
    "plt.ylabel('Accuracy')\n",
    "plt.xlabel('Epoch')\n",
    "plt.legend(['Train', 'Test'], loc='upper left')\n",
    "plt.show()"
   ]
  },
  {
   "cell_type": "code",
   "execution_count": 121,
   "metadata": {},
   "outputs": [
    {
     "data": {
      "image/png": "[encoded data removed]",
      "text/plain": [
       "<Figure size 432x288 with 1 Axes>"
      ]
     },
     "metadata": {
      "needs_background": "light"
     },
     "output_type": "display_data"
    }
   ],
   "source": [
    "plt.plot(hist4.history['loss'])\n",
    "plt.plot(hist4.history['val_loss'])\n",
    "plt.title('Loss Curves')\n",
    "plt.ylabel('Loss')\n",
    "plt.xlabel('Epoch')\n",
    "plt.legend(['Train', 'Test'], loc='upper left')\n",
    "plt.show()"
   ]
  },
  {
   "cell_type": "markdown",
   "metadata": {},
   "source": [
    "# Comparison"
   ]
  },
  {
   "cell_type": "code",
   "execution_count": 122,
   "metadata": {},
   "outputs": [],
   "source": [
    "#creating dataframe\n",
    "result = pd.DataFrame({ 'ML Model' : ML_Model,\n",
    "                        'Accuracy' : accuracy,\n",
    "                       'Precision': precision,\n",
    "                       'Recall'   : recall,\n",
    "                        'f1_score' : f1score,\n",
    "                      })"
   ]
  },
  {
   "cell_type": "code",
   "execution_count": 123,
   "metadata": {},
   "outputs": [
    {
     "data": {
      "text/html": [
       "<div>\n",
       "<style scoped>\n",
       "    .dataframe tbody tr th:only-of-type {\n",
       "        vertical-align: middle;\n",
       "    }\n",
       "\n",
       "    .dataframe tbody tr th {\n",
       "        vertical-align: top;\n",
       "    }\n",
       "\n",
       "    .dataframe thead th {\n",
       "        text-align: right;\n",
       "    }\n",
       "</style>\n",
       "<table border=\"1\" class=\"dataframe\">\n",
       "  <thead>\n",
       "    <tr style=\"text-align: right;\">\n",
       "      <th></th>\n",
       "      <th>ML Model</th>\n",
       "      <th>Accuracy</th>\n",
       "      <th>Precision</th>\n",
       "      <th>Recall</th>\n",
       "      <th>f1_score</th>\n",
       "    </tr>\n",
       "  </thead>\n",
       "  <tbody>\n",
       "    <tr>\n",
       "      <th>0</th>\n",
       "      <td>LSTM</td>\n",
       "      <td>0.948</td>\n",
       "      <td>0.948</td>\n",
       "      <td>0.948</td>\n",
       "      <td>0.948</td>\n",
       "    </tr>\n",
       "    <tr>\n",
       "      <th>1</th>\n",
       "      <td>LSTM+GRU Ensemble Model</td>\n",
       "      <td>0.954</td>\n",
       "      <td>0.958</td>\n",
       "      <td>0.970</td>\n",
       "      <td>0.950</td>\n",
       "    </tr>\n",
       "    <tr>\n",
       "      <th>2</th>\n",
       "      <td>BERTsmall</td>\n",
       "      <td>0.807</td>\n",
       "      <td>0.806</td>\n",
       "      <td>0.806</td>\n",
       "      <td>0.806</td>\n",
       "    </tr>\n",
       "    <tr>\n",
       "      <th>3</th>\n",
       "      <td>BERTlarge</td>\n",
       "      <td>0.566</td>\n",
       "      <td>0.567</td>\n",
       "      <td>0.567</td>\n",
       "      <td>0.567</td>\n",
       "    </tr>\n",
       "    <tr>\n",
       "      <th>4</th>\n",
       "      <td>TopicBERT</td>\n",
       "      <td>0.508</td>\n",
       "      <td>0.507</td>\n",
       "      <td>0.507</td>\n",
       "      <td>0.507</td>\n",
       "    </tr>\n",
       "  </tbody>\n",
       "</table>\n",
       "</div>"
      ],
      "text/plain": [
       "                  ML Model  Accuracy  Precision  Recall  f1_score\n",
       "0                     LSTM     0.948      0.948   0.948     0.948\n",
       "1  LSTM+GRU Ensemble Model     0.954      0.958   0.970     0.950\n",
       "2                BERTsmall     0.807      0.806   0.806     0.806\n",
       "3                BERTlarge     0.566      0.567   0.567     0.567\n",
       "4                TopicBERT     0.508      0.507   0.507     0.507"
      ]
     },
     "execution_count": 123,
     "metadata": {},
     "output_type": "execute_result"
    }
   ],
   "source": [
    "result"
   ]
  },
  {
   "cell_type": "markdown",
   "metadata": {},
   "source": [
    "# Modelling"
   ]
  },
  {
   "cell_type": "code",
   "execution_count": 124,
   "metadata": {},
   "outputs": [],
   "source": [
    "model_hy.save('model_lap.h5')"
   ]
  },
  {
   "cell_type": "markdown",
   "metadata": {},
   "source": [
    "# Graph"
   ]
  },
  {
   "cell_type": "code",
   "execution_count": 125,
   "metadata": {},
   "outputs": [],
   "source": [
    "classifier = ML_Model\n",
    "y_pos = np.arange(len(classifier))"
   ]
  },
  {
   "cell_type": "markdown",
   "metadata": {},
   "source": [
    "# Accuracy"
   ]
  },
  {
   "cell_type": "code",
   "execution_count": 126,
   "metadata": {},
   "outputs": [
    {
     "data": {
      "image/png": "[encoded data removed]",
      "text/plain": [
       "<Figure size 432x288 with 1 Axes>"
      ]
     },
     "metadata": {
      "needs_background": "light"
     },
     "output_type": "display_data"
    }
   ],
   "source": [
    "import matplotlib.pyplot as plt2\n",
    "plt2.barh(y_pos, accuracy, align='center', alpha=0.5,color='blue')\n",
    "plt2.yticks(y_pos, classifier)\n",
    "plt2.xlabel('Accuracy Score')\n",
    "plt2.title('Classification Performance')\n",
    "plt2.show()"
   ]
  },
  {
   "cell_type": "markdown",
   "metadata": {},
   "source": [
    "# Precision"
   ]
  },
  {
   "cell_type": "code",
   "execution_count": 127,
   "metadata": {},
   "outputs": [
    {
     "data": {
      "image/png": "[encoded data removed]",
      "text/plain": [
       "<Figure size 432x288 with 1 Axes>"
      ]
     },
     "metadata": {
      "needs_background": "light"
     },
     "output_type": "display_data"
    }
   ],
   "source": [
    "import matplotlib.pyplot as plt2\n",
    "plt2.barh(y_pos, precision, align='center', alpha=0.5,color='red')\n",
    "plt2.yticks(y_pos, classifier)\n",
    "plt2.xlabel('Precision Score')\n",
    "plt2.title('Classification Performance')\n",
    "plt2.show()"
   ]
  },
  {
   "cell_type": "markdown",
   "metadata": {},
   "source": [
    "# Recall"
   ]
  },
  {
   "cell_type": "code",
   "execution_count": 128,
   "metadata": {},
   "outputs": [
    {
     "data": {
      "image/png": "[encoded data removed]",
      "text/plain": [
       "<Figure size 432x288 with 1 Axes>"
      ]
     },
     "metadata": {
      "needs_background": "light"
     },
     "output_type": "display_data"
    }
   ],
   "source": [
    "import matplotlib.pyplot as plt2\n",
    "plt2.barh(y_pos, recall, align='center', alpha=0.5,color='yellow')\n",
    "plt2.yticks(y_pos, classifier)\n",
    "plt2.xlabel('Recall Score')\n",
    "plt2.title('Classification Performance')\n",
    "plt2.show()"
   ]
  },
  {
   "cell_type": "markdown",
   "metadata": {},
   "source": [
    "# F1 Score"
   ]
  },
  {
   "cell_type": "code",
   "execution_count": 129,
   "metadata": {},
   "outputs": [
    {
     "data": {
      "image/png": "[encoded data removed]",
      "text/plain": [
       "<Figure size 432x288 with 1 Axes>"
      ]
     },
     "metadata": {
      "needs_background": "light"
     },
     "output_type": "display_data"
    }
   ],
   "source": [
    "import matplotlib.pyplot as plt2\n",
    "plt2.barh(y_pos, f1score, align='center', alpha=0.5,color='green')\n",
    "plt2.yticks(y_pos, classifier)\n",
    "plt2.xlabel('F1 Score')\n",
    "plt2.title('Classification Performance')\n",
    "plt2.show()"
   ]
  },
  {
   "cell_type": "code",
   "execution_count": null,
   "metadata": {},
   "outputs": [],
   "source": []
  }
 ],
 "metadata": {
  "kernelspec": {
   "display_name": "Python 3",
   "language": "python",
   "name": "python3"
  },
  "language_info": {
   "codemirror_mode": {
    "name": "ipython",
    "version": 3
   },
   "file_extension": ".py",
   "mimetype": "text/x-python",
   "name": "python",
   "nbconvert_exporter": "python",
   "pygments_lexer": "ipython3",
   "version": "3.7.4"
  }
 },
 "nbformat": 4,
 "nbformat_minor": 2
}
