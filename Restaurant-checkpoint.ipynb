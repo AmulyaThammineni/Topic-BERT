{
 "cells": [
  {
   "cell_type": "code",
   "execution_count": 1,
   "metadata": {},
   "outputs": [],
   "source": [
    "import warnings\n",
    "warnings.filterwarnings('ignore')"
   ]
  },
  {
   "cell_type": "code",
   "execution_count": 2,
   "metadata": {},
   "outputs": [],
   "source": [
    "import pandas as pd\n",
    "import numpy as np"
   ]
  },
  {
   "cell_type": "code",
   "execution_count": 3,
   "metadata": {},
   "outputs": [],
   "source": [
    "df = pd.read_csv('archive/Restaurants_Train_v2.csv')"
   ]
  },
  {
   "cell_type": "code",
   "execution_count": 4,
   "metadata": {},
   "outputs": [
    {
     "data": {
      "text/html": [
       "<div>\n",
       "<style scoped>\n",
       "    .dataframe tbody tr th:only-of-type {\n",
       "        vertical-align: middle;\n",
       "    }\n",
       "\n",
       "    .dataframe tbody tr th {\n",
       "        vertical-align: top;\n",
       "    }\n",
       "\n",
       "    .dataframe thead th {\n",
       "        text-align: right;\n",
       "    }\n",
       "</style>\n",
       "<table border=\"1\" class=\"dataframe\">\n",
       "  <thead>\n",
       "    <tr style=\"text-align: right;\">\n",
       "      <th></th>\n",
       "      <th>id</th>\n",
       "      <th>Sentence</th>\n",
       "      <th>Aspect Term</th>\n",
       "      <th>polarity</th>\n",
       "      <th>from</th>\n",
       "      <th>to</th>\n",
       "    </tr>\n",
       "  </thead>\n",
       "  <tbody>\n",
       "    <tr>\n",
       "      <th>0</th>\n",
       "      <td>3121</td>\n",
       "      <td>But the staff was so horrible to us.</td>\n",
       "      <td>staff</td>\n",
       "      <td>negative</td>\n",
       "      <td>8</td>\n",
       "      <td>13</td>\n",
       "    </tr>\n",
       "    <tr>\n",
       "      <th>1</th>\n",
       "      <td>2777</td>\n",
       "      <td>To be completely fair, the only redeeming fact...</td>\n",
       "      <td>food</td>\n",
       "      <td>positive</td>\n",
       "      <td>57</td>\n",
       "      <td>61</td>\n",
       "    </tr>\n",
       "    <tr>\n",
       "      <th>2</th>\n",
       "      <td>1634</td>\n",
       "      <td>The food is uniformly exceptional, with a very...</td>\n",
       "      <td>food</td>\n",
       "      <td>positive</td>\n",
       "      <td>4</td>\n",
       "      <td>8</td>\n",
       "    </tr>\n",
       "    <tr>\n",
       "      <th>3</th>\n",
       "      <td>1634</td>\n",
       "      <td>The food is uniformly exceptional, with a very...</td>\n",
       "      <td>kitchen</td>\n",
       "      <td>positive</td>\n",
       "      <td>55</td>\n",
       "      <td>62</td>\n",
       "    </tr>\n",
       "    <tr>\n",
       "      <th>4</th>\n",
       "      <td>1634</td>\n",
       "      <td>The food is uniformly exceptional, with a very...</td>\n",
       "      <td>menu</td>\n",
       "      <td>neutral</td>\n",
       "      <td>141</td>\n",
       "      <td>145</td>\n",
       "    </tr>\n",
       "  </tbody>\n",
       "</table>\n",
       "</div>"
      ],
      "text/plain": [
       "     id                                           Sentence Aspect Term  \\\n",
       "0  3121               But the staff was so horrible to us.       staff   \n",
       "1  2777  To be completely fair, the only redeeming fact...        food   \n",
       "2  1634  The food is uniformly exceptional, with a very...        food   \n",
       "3  1634  The food is uniformly exceptional, with a very...     kitchen   \n",
       "4  1634  The food is uniformly exceptional, with a very...        menu   \n",
       "\n",
       "   polarity  from   to  \n",
       "0  negative     8   13  \n",
       "1  positive    57   61  \n",
       "2  positive     4    8  \n",
       "3  positive    55   62  \n",
       "4   neutral   141  145  "
      ]
     },
     "execution_count": 4,
     "metadata": {},
     "output_type": "execute_result"
    }
   ],
   "source": [
    "df.head()"
   ]
  },
  {
   "cell_type": "code",
   "execution_count": 5,
   "metadata": {},
   "outputs": [],
   "source": [
    "df = df[['Sentence','polarity']]"
   ]
  },
  {
   "cell_type": "code",
   "execution_count": 6,
   "metadata": {},
   "outputs": [
    {
     "name": "stdout",
     "output_type": "stream",
     "text": [
      "<class 'pandas.core.frame.DataFrame'>\n",
      "RangeIndex: 3693 entries, 0 to 3692\n",
      "Data columns (total 2 columns):\n",
      "Sentence    3693 non-null object\n",
      "polarity    3693 non-null object\n",
      "dtypes: object(2)\n",
      "memory usage: 57.8+ KB\n"
     ]
    }
   ],
   "source": [
    "df.info()"
   ]
  },
  {
   "cell_type": "code",
   "execution_count": 7,
   "metadata": {},
   "outputs": [],
   "source": [
    "# changing attack labels to their respective attack class\n",
    "def change_label(df):\n",
    "  df.polarity.replace(['conflict'],'negative',inplace=True)\n",
    "  df.polarity.replace(['neutral'],'positive',inplace=True)  "
   ]
  },
  {
   "cell_type": "code",
   "execution_count": 8,
   "metadata": {},
   "outputs": [],
   "source": [
    "change_label(df)"
   ]
  },
  {
   "cell_type": "code",
   "execution_count": 10,
   "metadata": {},
   "outputs": [
    {
     "data": {
      "text/plain": [
       "<AxesSubplot:xlabel='polarity', ylabel='count'>"
      ]
     },
     "execution_count": 10,
     "metadata": {},
     "output_type": "execute_result"
    },
    {
     "data": {
      "image/png": "[encoded data removed]",
      "text/plain": [
       "<Figure size 432x288 with 1 Axes>"
      ]
     },
     "metadata": {
      "needs_background": "light"
     },
     "output_type": "display_data"
    }
   ],
   "source": [
    "import seaborn as sns\n",
    "sns.countplot(x=\"polarity\", data = df)"
   ]
  },
  {
   "cell_type": "code",
   "execution_count": 11,
   "metadata": {},
   "outputs": [
    {
     "data": {
      "text/plain": [
       "array([0, 1], dtype=int64)"
      ]
     },
     "execution_count": 11,
     "metadata": {},
     "output_type": "execute_result"
    }
   ],
   "source": [
    "# Import label encoder \n",
    "from sklearn import preprocessing \n",
    "\n",
    "# label_encoder object knows \n",
    "# how to understand word labels. \n",
    "label_encoder = preprocessing.LabelEncoder() \n",
    "\n",
    "# Encode labels in column 'species'. \n",
    "df['polarity']= label_encoder.fit_transform(df['polarity']) \n",
    "\n",
    "df['polarity'].unique() "
   ]
  },
  {
   "cell_type": "code",
   "execution_count": 12,
   "metadata": {},
   "outputs": [],
   "source": [
    "import numpy as np\n",
    "import pandas as pd\n",
    "import seaborn as sns\n",
    "import matplotlib.pyplot as plt\n",
    "\n",
    "from sklearn.model_selection import train_test_split\n",
    "from sklearn.preprocessing import LabelEncoder\n",
    "\n",
    "import tensorflow as tf\n",
    "from tensorflow.keras.preprocessing.text import Tokenizer\n",
    "from tensorflow.keras.preprocessing.sequence import pad_sequences\n",
    "from tensorflow.keras import layers, callbacks\n",
    "from tensorflow.keras import Model, Sequential\n",
    "\n",
    "from nltk.stem import SnowballStemmer\n",
    "from nltk.corpus import stopwords\n",
    "import re\n",
    "import string"
   ]
  },
  {
   "cell_type": "code",
   "execution_count": 13,
   "metadata": {},
   "outputs": [],
   "source": [
    "from tensorflow.keras.callbacks import ReduceLROnPlateau\n",
    "from tensorflow.keras.optimizers import Adam,SGD,Adagrad,Adadelta,RMSprop\n",
    "import os\n",
    "from tensorflow.keras.models import Model\n",
    "from tensorflow.keras.regularizers import l2\n",
    "#from tensorflow.keras.layers import LSTM\n",
    "\n",
    "\n",
    "from kerastuner import RandomSearch\n",
    "from kerastuner.engine.hyperparameters import HyperParameters"
   ]
  },
  {
   "cell_type": "code",
   "execution_count": 14,
   "metadata": {},
   "outputs": [],
   "source": [
    "from keras import backend as K\n",
    "\n",
    "def recall_m(y_true, y_pred):\n",
    "    true_positives = K.sum(K.round(K.clip(y_true * y_pred, 0, 1)))\n",
    "    possible_positives = K.sum(K.round(K.clip(y_true, 0, 1)))\n",
    "    recall = true_positives / (possible_positives + K.epsilon())\n",
    "    return recall\n",
    "\n",
    "def precision_m(y_true, y_pred):\n",
    "    true_positives = K.sum(K.round(K.clip(y_true * y_pred, 0, 1)))\n",
    "    predicted_positives = K.sum(K.round(K.clip(y_pred, 0, 1)))\n",
    "    precision = true_positives / (predicted_positives + K.epsilon())\n",
    "    return precision\n",
    "\n",
    "def f1_m(y_true, y_pred):\n",
    "    precision = precision_m(y_true, y_pred)\n",
    "    recall = recall_m(y_true, y_pred)\n",
    "    return 2*((precision*recall)/(precision+recall+K.epsilon()))"
   ]
  },
  {
   "cell_type": "code",
   "execution_count": 110,
   "metadata": {},
   "outputs": [],
   "source": [
    "ML_Model = []\n",
    "accuracy = []\n",
    "precision = []\n",
    "recall = []\n",
    "f1score = []\n",
    "\n",
    "#function to call for storing the results\n",
    "def storeResults(model, a,b,c,d):\n",
    "    ML_Model.append(model)\n",
    "    accuracy.append(round(a, 3))\n",
    "    precision.append(round(d, 3))\n",
    "    recall.append(round(c, 3))\n",
    "    f1score.append(round(b, 3))"
   ]
  },
  {
   "cell_type": "code",
   "execution_count": 16,
   "metadata": {},
   "outputs": [],
   "source": [
    "import collections\n",
    "import nltk\n",
    "from sklearn import preprocessing\n",
    "from nltk.tokenize import sent_tokenize, word_tokenize\n",
    "from tensorflow.keras import regularizers"
   ]
  },
  {
   "cell_type": "code",
   "execution_count": 17,
   "metadata": {},
   "outputs": [],
   "source": [
    "#Setting parameters which will be used throughout\n",
    "num_words = 15000  # Parameter indicating the number of words we'll put in the dictionary\n",
    "val_size = 1000  # Size of the validation set\n",
    "epochs = 20  # Number of epochs we usually start to train with\n",
    "batch_size = 16  # Size of the batches used in the mini-batch gradient descent\n",
    "#Taking only two columns since it's a sentiment analysis"
   ]
  },
  {
   "cell_type": "code",
   "execution_count": 18,
   "metadata": {},
   "outputs": [],
   "source": [
    "#tweets conssits of every document as an array of tokenized words which are later appended to docs \n",
    "tweets=[word_tokenize(tweet) for tweet in df['Sentence']]\n",
    "docs=[]\n",
    "for j in range(0,len(tweets)):\n",
    "    docs.append(tweets[j])"
   ]
  },
  {
   "cell_type": "code",
   "execution_count": 19,
   "metadata": {},
   "outputs": [],
   "source": [
    "#stops included both the stopwords and punctuations\n",
    "from nltk.corpus import stopwords\n",
    "import string\n",
    "stops = set(stopwords.words('english'))\n",
    "punctuations = list(string.punctuation)\n",
    "not_list = [\"n't\", \"not\", \"no\"]\n",
    "stops.update(punctuations)\n",
    "stops.update(not_list)"
   ]
  },
  {
   "cell_type": "code",
   "execution_count": 20,
   "metadata": {},
   "outputs": [],
   "source": [
    "#to get the simple pos(part of speech) tag\n",
    "from nltk.corpus import wordnet\n",
    "def get_simple_pos(tag):\n",
    "    if tag.startswith('J'):\n",
    "        return wordnet.ADJ\n",
    "    elif tag.startswith('V'):\n",
    "        return wordnet.VERB\n",
    "    elif tag.startswith('N'):\n",
    "        return wordnet.NOUN\n",
    "    elif tag.startswith('R'):\n",
    "        return wordnet.ADV\n",
    "    else:\n",
    "        return wordnet.NOUN"
   ]
  },
  {
   "cell_type": "code",
   "execution_count": 21,
   "metadata": {},
   "outputs": [],
   "source": [
    "#to get the pos tag for a word\n",
    "from nltk import pos_tag\n",
    "# now we are going to clean our data \n",
    "# we will remove stopwords and punctuations and lemmatize each document\n",
    "from nltk.stem import WordNetLemmatizer\n",
    "lemmatizer=WordNetLemmatizer()\n",
    "def clean(words):\n",
    "    output=[]\n",
    "    for word in words:\n",
    "        if word.lower() not in stops or word.lower() in not_list:\n",
    "            pos=pos_tag(word)\n",
    "            clean_word=lemmatizer.lemmatize(word,pos=get_simple_pos(pos[0][1]))\n",
    "            output.append(clean_word.lower())\n",
    "    str1=\" \".join(output).encode('utf-8')        \n",
    "    return str1\n",
    "#docs=[ clean(doc) for doc in docs]      "
   ]
  },
  {
   "cell_type": "code",
   "execution_count": 22,
   "metadata": {},
   "outputs": [
    {
     "data": {
      "text/html": [
       "<div>\n",
       "<style scoped>\n",
       "    .dataframe tbody tr th:only-of-type {\n",
       "        vertical-align: middle;\n",
       "    }\n",
       "\n",
       "    .dataframe tbody tr th {\n",
       "        vertical-align: top;\n",
       "    }\n",
       "\n",
       "    .dataframe thead th {\n",
       "        text-align: right;\n",
       "    }\n",
       "</style>\n",
       "<table border=\"1\" class=\"dataframe\">\n",
       "  <thead>\n",
       "    <tr style=\"text-align: right;\">\n",
       "      <th></th>\n",
       "      <th>Sentence</th>\n",
       "      <th>polarity</th>\n",
       "    </tr>\n",
       "  </thead>\n",
       "  <tbody>\n",
       "    <tr>\n",
       "      <th>0</th>\n",
       "      <td>But the staff was so horrible to us.</td>\n",
       "      <td>0</td>\n",
       "    </tr>\n",
       "    <tr>\n",
       "      <th>1</th>\n",
       "      <td>To be completely fair, the only redeeming fact...</td>\n",
       "      <td>1</td>\n",
       "    </tr>\n",
       "    <tr>\n",
       "      <th>2</th>\n",
       "      <td>The food is uniformly exceptional, with a very...</td>\n",
       "      <td>1</td>\n",
       "    </tr>\n",
       "    <tr>\n",
       "      <th>3</th>\n",
       "      <td>The food is uniformly exceptional, with a very...</td>\n",
       "      <td>1</td>\n",
       "    </tr>\n",
       "    <tr>\n",
       "      <th>4</th>\n",
       "      <td>The food is uniformly exceptional, with a very...</td>\n",
       "      <td>1</td>\n",
       "    </tr>\n",
       "  </tbody>\n",
       "</table>\n",
       "</div>"
      ],
      "text/plain": [
       "                                            Sentence  polarity\n",
       "0               But the staff was so horrible to us.         0\n",
       "1  To be completely fair, the only redeeming fact...         1\n",
       "2  The food is uniformly exceptional, with a very...         1\n",
       "3  The food is uniformly exceptional, with a very...         1\n",
       "4  The food is uniformly exceptional, with a very...         1"
      ]
     },
     "execution_count": 22,
     "metadata": {},
     "output_type": "execute_result"
    }
   ],
   "source": [
    "#taking only two columns in the dataframe\n",
    "df=df[['Sentence','polarity']]\n",
    "df.head()"
   ]
  },
  {
   "cell_type": "code",
   "execution_count": 23,
   "metadata": {},
   "outputs": [],
   "source": [
    "#taking variables to be used for train test split as X,y\n",
    "X,Y=df['Sentence'].values,pd.get_dummies(df['polarity'].values)"
   ]
  },
  {
   "cell_type": "code",
   "execution_count": 24,
   "metadata": {},
   "outputs": [
    {
     "name": "stdout",
     "output_type": "stream",
     "text": [
      "Fitted tokenizer on 3693 documents\n",
      "15000 words in dictionary\n",
      "Top 5 most common words are: [('the', 4747), ('and', 2858), ('a', 1635), ('is', 1297), ('to', 1194)]\n"
     ]
    }
   ],
   "source": [
    "#using tokenizers to create the tokens having no of words=15000(num_words)\n",
    "tk = Tokenizer(num_words=num_words,\n",
    "               filters='!\"#$%&()*+,-./:;<=>?@[\\\\]^_`{|}~\\t\\n',\n",
    "               lower=True,\n",
    "               split=\" \")\n",
    "#Complete data is tokenized to vectors and padding is done using zeros to match its length to the largest text in the dataset.\n",
    "tk.fit_on_texts(X)\n",
    "X = tk.texts_to_sequences(X)\n",
    "X = pad_sequences(X)\n",
    "#print(X[:2])\n",
    "print('Fitted tokenizer on {} documents'.format(tk.document_count))\n",
    "print('{} words in dictionary'.format(tk.num_words))\n",
    "print('Top 5 most common words are:', collections.Counter(tk.word_counts).most_common(5))"
   ]
  },
  {
   "cell_type": "code",
   "execution_count": 25,
   "metadata": {},
   "outputs": [],
   "source": [
    "import pickle\n",
    "pickle.dump(tk,open('transform.pkl','wb'))\n",
    "#files.download('transform2.pkl')"
   ]
  },
  {
   "cell_type": "code",
   "execution_count": 26,
   "metadata": {},
   "outputs": [
    {
     "name": "stdout",
     "output_type": "stream",
     "text": [
      "# Train data samples: (2954, 69)\n",
      "# Test data samples: (739, 69)\n"
     ]
    }
   ],
   "source": [
    "#train test split\n",
    "X_train, X_test, Y_train, Y_test = train_test_split(X,Y, test_size=0.2, random_state=42)\n",
    "print('# Train data samples:', X_train.shape)\n",
    "print('# Test data samples:', X_test.shape)"
   ]
  },
  {
   "cell_type": "markdown",
   "metadata": {},
   "source": [
    "# LSTM "
   ]
  },
  {
   "cell_type": "code",
   "execution_count": 27,
   "metadata": {},
   "outputs": [],
   "source": [
    "from tensorflow.keras.models import Sequential\n",
    "from tensorflow.keras.layers import SimpleRNN, Dense, Dropout, LSTM, GRU\n",
    "from tensorflow.keras.layers import SpatialDropout1D\n",
    "from tensorflow.keras.layers import Embedding"
   ]
  },
  {
   "cell_type": "code",
   "execution_count": 28,
   "metadata": {},
   "outputs": [
    {
     "name": "stdout",
     "output_type": "stream",
     "text": [
      "WARNING:tensorflow:Layer lstm will not use cuDNN kernels since it doesn't meet the criteria. It will use a generic GPU kernel as fallback when running on GPU.\n"
     ]
    }
   ],
   "source": [
    "embed_dim = 128 #dimension of the word embedding vector for each word in a sequence \n",
    "lstm_out = 196  #no of lstm layers\n",
    "lstm_model = Sequential()\n",
    "lstm_model.add(Embedding(num_words, embed_dim,input_length = X_train.shape[1]))\n",
    "#Adding dropout\n",
    "lstm_model.add(LSTM(lstm_out, dropout=0.2, recurrent_dropout=0.2))\n",
    "#Adding a regularized dense layer\n",
    "lstm_model.add(layers.Dense(32,kernel_regularizer=regularizers.l2(0.001),activation='relu'))\n",
    "lstm_model.add(layers.Dropout(0.5))\n",
    "lstm_model.add(Dense(2,activation='softmax'))\n",
    "lstm_model.compile(loss = 'categorical_crossentropy', optimizer='adam',metrics = ['accuracy',f1_m,precision_m, recall_m])\n"
   ]
  },
  {
   "cell_type": "code",
   "execution_count": 29,
   "metadata": {},
   "outputs": [
    {
     "name": "stdout",
     "output_type": "stream",
     "text": [
      "Model: \"sequential\"\n",
      "_________________________________________________________________\n",
      "Layer (type)                 Output Shape              Param #   \n",
      "=================================================================\n",
      "embedding (Embedding)        (None, 69, 128)           1920000   \n",
      "_________________________________________________________________\n",
      "lstm (LSTM)                  (None, 196)               254800    \n",
      "_________________________________________________________________\n",
      "dense (Dense)                (None, 32)                6304      \n",
      "_________________________________________________________________\n",
      "dropout (Dropout)            (None, 32)                0         \n",
      "_________________________________________________________________\n",
      "dense_1 (Dense)              (None, 2)                 66        \n",
      "=================================================================\n",
      "Total params: 2,181,170\n",
      "Trainable params: 2,181,170\n",
      "Non-trainable params: 0\n",
      "_________________________________________________________________\n"
     ]
    }
   ],
   "source": [
    "lstm_model.summary()"
   ]
  },
  {
   "cell_type": "code",
   "execution_count": 30,
   "metadata": {},
   "outputs": [
    {
     "name": "stdout",
     "output_type": "stream",
     "text": [
      "Epoch 1/20\n",
      "185/185 [==============================] - 90s 473ms/step - loss: 0.5472 - accuracy: 0.7695 - f1_m: 0.7691 - precision_m: 0.7691 - recall_m: 0.7691 - val_loss: 0.3598 - val_accuracy: 0.8483 - val_f1_m: 0.8484 - val_precision_m: 0.8484 - val_recall_m: 0.8484\n",
      "Epoch 2/20\n",
      "185/185 [==============================] - 86s 467ms/step - loss: 0.3609 - accuracy: 0.8521 - f1_m: 0.8522 - precision_m: 0.8522 - recall_m: 0.8522 - val_loss: 0.2581 - val_accuracy: 0.9079 - val_f1_m: 0.9081 - val_precision_m: 0.9081 - val_recall_m: 0.9081\n",
      "Epoch 3/20\n",
      "185/185 [==============================] - 86s 466ms/step - loss: 0.2778 - accuracy: 0.8883 - f1_m: 0.8885 - precision_m: 0.8885 - recall_m: 0.8885 - val_loss: 0.2014 - val_accuracy: 0.9157 - val_f1_m: 0.9159 - val_precision_m: 0.9159 - val_recall_m: 0.9159\n",
      "Epoch 4/20\n",
      "185/185 [==============================] - 87s 468ms/step - loss: 0.2484 - accuracy: 0.8957 - f1_m: 0.8957 - precision_m: 0.8957 - recall_m: 0.8957 - val_loss: 0.1881 - val_accuracy: 0.9225 - val_f1_m: 0.9226 - val_precision_m: 0.9226 - val_recall_m: 0.9226\n",
      "Epoch 5/20\n",
      "185/185 [==============================] - 86s 467ms/step - loss: 0.2175 - accuracy: 0.9120 - f1_m: 0.9122 - precision_m: 0.9122 - recall_m: 0.9122 - val_loss: 0.1760 - val_accuracy: 0.9221 - val_f1_m: 0.9223 - val_precision_m: 0.9223 - val_recall_m: 0.9223\n",
      "Epoch 6/20\n",
      "185/185 [==============================] - 87s 468ms/step - loss: 0.1964 - accuracy: 0.9089 - f1_m: 0.9089 - precision_m: 0.9089 - recall_m: 0.9089 - val_loss: 0.1649 - val_accuracy: 0.9262 - val_f1_m: 0.9264 - val_precision_m: 0.9264 - val_recall_m: 0.9264\n",
      "Epoch 7/20\n",
      "185/185 [==============================] - 86s 466ms/step - loss: 0.1929 - accuracy: 0.9103 - f1_m: 0.9103 - precision_m: 0.9103 - recall_m: 0.9103 - val_loss: 0.1694 - val_accuracy: 0.9228 - val_f1_m: 0.9230 - val_precision_m: 0.9230 - val_recall_m: 0.9230\n",
      "Epoch 8/20\n",
      "185/185 [==============================] - 87s 470ms/step - loss: 0.1816 - accuracy: 0.9123 - f1_m: 0.9123 - precision_m: 0.9123 - recall_m: 0.9123 - val_loss: 0.1399 - val_accuracy: 0.9272 - val_f1_m: 0.9274 - val_precision_m: 0.9274 - val_recall_m: 0.9274\n",
      "Epoch 9/20\n",
      "185/185 [==============================] - 87s 471ms/step - loss: 0.1542 - accuracy: 0.9204 - f1_m: 0.9204 - precision_m: 0.9204 - recall_m: 0.9204 - val_loss: 0.1338 - val_accuracy: 0.9320 - val_f1_m: 0.9321 - val_precision_m: 0.9321 - val_recall_m: 0.9321\n",
      "Epoch 10/20\n",
      "185/185 [==============================] - 87s 473ms/step - loss: 0.1449 - accuracy: 0.9228 - f1_m: 0.9226 - precision_m: 0.9226 - recall_m: 0.9226 - val_loss: 0.1226 - val_accuracy: 0.9323 - val_f1_m: 0.9324 - val_precision_m: 0.9324 - val_recall_m: 0.9324\n",
      "Epoch 11/20\n",
      "185/185 [==============================] - 87s 470ms/step - loss: 0.1394 - accuracy: 0.9225 - f1_m: 0.9222 - precision_m: 0.9222 - recall_m: 0.9222 - val_loss: 0.1246 - val_accuracy: 0.9330 - val_f1_m: 0.9331 - val_precision_m: 0.9331 - val_recall_m: 0.9331\n",
      "Epoch 12/20\n",
      "185/185 [==============================] - 88s 477ms/step - loss: 0.1361 - accuracy: 0.9215 - f1_m: 0.9212 - precision_m: 0.9212 - recall_m: 0.9212 - val_loss: 0.1221 - val_accuracy: 0.9309 - val_f1_m: 0.9311 - val_precision_m: 0.9311 - val_recall_m: 0.9311\n",
      "Epoch 13/20\n",
      "185/185 [==============================] - 88s 473ms/step - loss: 0.1328 - accuracy: 0.9208 - f1_m: 0.9207 - precision_m: 0.9207 - recall_m: 0.9207 - val_loss: 0.1160 - val_accuracy: 0.9276 - val_f1_m: 0.9277 - val_precision_m: 0.9277 - val_recall_m: 0.9277\n",
      "Epoch 14/20\n",
      "185/185 [==============================] - 88s 475ms/step - loss: 0.1264 - accuracy: 0.9248 - f1_m: 0.9250 - precision_m: 0.9250 - recall_m: 0.9250 - val_loss: 0.1153 - val_accuracy: 0.9353 - val_f1_m: 0.9355 - val_precision_m: 0.9355 - val_recall_m: 0.9355\n",
      "Epoch 15/20\n",
      "185/185 [==============================] - 88s 475ms/step - loss: 0.1305 - accuracy: 0.9252 - f1_m: 0.9249 - precision_m: 0.9249 - recall_m: 0.9249 - val_loss: 0.1152 - val_accuracy: 0.9360 - val_f1_m: 0.9361 - val_precision_m: 0.9361 - val_recall_m: 0.9361\n",
      "Epoch 16/20\n",
      "185/185 [==============================] - 87s 472ms/step - loss: 0.1325 - accuracy: 0.9228 - f1_m: 0.9228 - precision_m: 0.9228 - recall_m: 0.9228 - val_loss: 0.1347 - val_accuracy: 0.9333 - val_f1_m: 0.9334 - val_precision_m: 0.9334 - val_recall_m: 0.9334\n",
      "Epoch 17/20\n",
      "185/185 [==============================] - 87s 473ms/step - loss: 0.1348 - accuracy: 0.9245 - f1_m: 0.9243 - precision_m: 0.9243 - recall_m: 0.9243 - val_loss: 0.1168 - val_accuracy: 0.9306 - val_f1_m: 0.9307 - val_precision_m: 0.9307 - val_recall_m: 0.9307\n",
      "Epoch 18/20\n",
      "185/185 [==============================] - 87s 471ms/step - loss: 0.1277 - accuracy: 0.9282 - f1_m: 0.9282 - precision_m: 0.9282 - recall_m: 0.9282 - val_loss: 0.1149 - val_accuracy: 0.9343 - val_f1_m: 0.9345 - val_precision_m: 0.9345 - val_recall_m: 0.9345\n",
      "Epoch 19/20\n",
      "185/185 [==============================] - 87s 472ms/step - loss: 0.1249 - accuracy: 0.9286 - f1_m: 0.9287 - precision_m: 0.9287 - recall_m: 0.9287 - val_loss: 0.1132 - val_accuracy: 0.9350 - val_f1_m: 0.9351 - val_precision_m: 0.9351 - val_recall_m: 0.9351\n",
      "Epoch 20/20\n",
      "185/185 [==============================] - 87s 471ms/step - loss: 0.1211 - accuracy: 0.9269 - f1_m: 0.9270 - precision_m: 0.9270 - recall_m: 0.9270 - val_loss: 0.1137 - val_accuracy: 0.9336 - val_f1_m: 0.9338 - val_precision_m: 0.9338 - val_recall_m: 0.9338\n"
     ]
    }
   ],
   "source": [
    "#model trained on the training data and taking validation data into account to avoid overfitting for 4 epochs \n",
    "history1 =lstm_model.fit(X_train, Y_train, epochs = 20, batch_size=batch_size,validation_data=(X_train, Y_train),verbose = 1)"
   ]
  },
  {
   "cell_type": "code",
   "execution_count": 32,
   "metadata": {},
   "outputs": [],
   "source": [
    "lstm_acc = history1.history['val_accuracy'][19]\n",
    "lstm_prec = history1.history['val_precision_m'][19]\n",
    "lstm_rec = history1.history['val_recall_m'][19]\n",
    "lstm_f1 = history1.history['val_f1_m'][19]"
   ]
  },
  {
   "cell_type": "code",
   "execution_count": 111,
   "metadata": {},
   "outputs": [],
   "source": [
    "storeResults('LSTM',lstm_acc,lstm_prec,lstm_rec,lstm_f1)"
   ]
  },
  {
   "cell_type": "code",
   "execution_count": 34,
   "metadata": {},
   "outputs": [
    {
     "data": {
      "image/png": "[encoded data removed]",
      "text/plain": [
       "<Figure size 432x288 with 1 Axes>"
      ]
     },
     "metadata": {
      "needs_background": "light"
     },
     "output_type": "display_data"
    }
   ],
   "source": [
    "plt.plot(history1.history['accuracy'])\n",
    "plt.plot(history1.history['val_accuracy'])\n",
    "plt.title('Accuracy Curves')\n",
    "plt.ylabel('Accuracy')\n",
    "plt.xlabel('Epoch')\n",
    "plt.legend(['Train', 'Test'], loc='upper left')\n",
    "plt.show()"
   ]
  },
  {
   "cell_type": "code",
   "execution_count": 35,
   "metadata": {},
   "outputs": [
    {
     "data": {
      "image/png": "[encoded data removed]",
      "text/plain": [
       "<Figure size 432x288 with 1 Axes>"
      ]
     },
     "metadata": {
      "needs_background": "light"
     },
     "output_type": "display_data"
    }
   ],
   "source": [
    "plt.plot(history1.history['loss'])\n",
    "plt.plot(history1.history['val_loss'])\n",
    "plt.title('Loss Curves')\n",
    "plt.ylabel('Loss')\n",
    "plt.xlabel('Epoch')\n",
    "plt.legend(['Train', 'Test'], loc='upper left')\n",
    "plt.show()"
   ]
  },
  {
   "cell_type": "markdown",
   "metadata": {},
   "source": [
    "# LSTM + GRU"
   ]
  },
  {
   "cell_type": "code",
   "execution_count": 45,
   "metadata": {},
   "outputs": [],
   "source": [
    "from tensorflow.keras.layers import LSTM, GRU, Dense, Dropout"
   ]
  },
  {
   "cell_type": "code",
   "execution_count": 46,
   "metadata": {},
   "outputs": [],
   "source": [
    "embed_dim = 128 "
   ]
  },
  {
   "cell_type": "code",
   "execution_count": 47,
   "metadata": {},
   "outputs": [
    {
     "name": "stdout",
     "output_type": "stream",
     "text": [
      "WARNING:tensorflow:Please add `keras.layers.InputLayer` instead of `keras.Input` to Sequential model. `keras.Input` is intended to be used by Functional model.\n"
     ]
    }
   ],
   "source": [
    "model_hy=tf.keras.Sequential()\n",
    "\n",
    "model_hy.add(tf.keras.layers.Input(shape=[100]))\n",
    "model_hy.add(tf.keras.layers.Embedding(num_words,embed_dim,input_length=X_train.shape[1]))    \n",
    "\n",
    "model_hy.add(tf.keras.layers.LSTM(200, return_sequences=True))\n",
    "model_hy.add(tf.keras.layers.Dropout(0.5))\n",
    "\n",
    "model_hy.add(tf.keras.layers.LSTM(200,return_sequences=True))\n",
    "model_hy.add(tf.keras.layers.Dropout(0.5))\n",
    "\n",
    "model_hy.add(tf.keras.layers.GRU(200))\n",
    "model_hy.add(tf.keras.layers.Dropout(0.5))\n",
    "          \n",
    "model_hy.add(tf.keras.layers.Dense(256))\n",
    "model_hy.add(tf.keras.layers.Dropout(0.5))\n",
    "\n",
    "model_hy.add(tf.keras.layers.Dense(2,activation='sigmoid')) #output layer\n"
   ]
  },
  {
   "cell_type": "code",
   "execution_count": 48,
   "metadata": {},
   "outputs": [
    {
     "name": "stdout",
     "output_type": "stream",
     "text": [
      "Model: \"sequential_2\"\n",
      "_________________________________________________________________\n",
      "Layer (type)                 Output Shape              Param #   \n",
      "=================================================================\n",
      "embedding_2 (Embedding)      (None, 100, 128)          1920000   \n",
      "_________________________________________________________________\n",
      "lstm_3 (LSTM)                (None, 100, 200)          263200    \n",
      "_________________________________________________________________\n",
      "dropout_5 (Dropout)          (None, 100, 200)          0         \n",
      "_________________________________________________________________\n",
      "lstm_4 (LSTM)                (None, 100, 200)          320800    \n",
      "_________________________________________________________________\n",
      "dropout_6 (Dropout)          (None, 100, 200)          0         \n",
      "_________________________________________________________________\n",
      "gru_1 (GRU)                  (None, 200)               241200    \n",
      "_________________________________________________________________\n",
      "dropout_7 (Dropout)          (None, 200)               0         \n",
      "_________________________________________________________________\n",
      "dense_4 (Dense)              (None, 256)               51456     \n",
      "_________________________________________________________________\n",
      "dropout_8 (Dropout)          (None, 256)               0         \n",
      "_________________________________________________________________\n",
      "dense_5 (Dense)              (None, 2)                 514       \n",
      "=================================================================\n",
      "Total params: 2,797,170\n",
      "Trainable params: 2,797,170\n",
      "Non-trainable params: 0\n",
      "_________________________________________________________________\n"
     ]
    }
   ],
   "source": [
    "model_hy.summary()"
   ]
  },
  {
   "cell_type": "code",
   "execution_count": 49,
   "metadata": {},
   "outputs": [],
   "source": [
    "model_hy.compile(loss='categorical_crossentropy',optimizer='adam',metrics = ['accuracy',f1_m,precision_m, recall_m])"
   ]
  },
  {
   "cell_type": "code",
   "execution_count": 50,
   "metadata": {},
   "outputs": [
    {
     "name": "stdout",
     "output_type": "stream",
     "text": [
      "Epoch 1/20\n",
      "WARNING:tensorflow:Model was constructed with shape (None, 100) for input KerasTensor(type_spec=TensorSpec(shape=(None, 100), dtype=tf.float32, name='input_2'), name='input_2', description=\"created by layer 'input_2'\"), but it was called on an input with incompatible shape (None, 69).\n",
      "WARNING:tensorflow:Model was constructed with shape (None, 100) for input KerasTensor(type_spec=TensorSpec(shape=(None, 100), dtype=tf.float32, name='input_2'), name='input_2', description=\"created by layer 'input_2'\"), but it was called on an input with incompatible shape (None, 69).\n",
      "370/370 [==============================] - ETA: 0s - loss: 0.5089 - accuracy: 0.7712 - f1_m: 0.7685 - precision_m: 0.7738 - recall_m: 0.7649WARNING:tensorflow:Model was constructed with shape (None, 100) for input KerasTensor(type_spec=TensorSpec(shape=(None, 100), dtype=tf.float32, name='input_2'), name='input_2', description=\"created by layer 'input_2'\"), but it was called on an input with incompatible shape (None, 69).\n",
      "370/370 [==============================] - 16s 38ms/step - loss: 0.5089 - accuracy: 0.7712 - f1_m: 0.7685 - precision_m: 0.7738 - recall_m: 0.7649 - val_loss: 0.3899 - val_accuracy: 0.8328 - val_f1_m: 0.8297 - val_precision_m: 0.8423 - val_recall_m: 0.8193\n",
      "Epoch 2/20\n",
      "370/370 [==============================] - 10s 27ms/step - loss: 0.3521 - accuracy: 0.8500 - f1_m: 0.8463 - precision_m: 0.8409 - recall_m: 0.8544 - val_loss: 0.2791 - val_accuracy: 0.9032 - val_f1_m: 0.9055 - val_precision_m: 0.8898 - val_recall_m: 0.9236\n",
      "Epoch 3/20\n",
      "370/370 [==============================] - 9s 26ms/step - loss: 0.2773 - accuracy: 0.8764 - f1_m: 0.8759 - precision_m: 0.8704 - recall_m: 0.8831 - val_loss: 0.1925 - val_accuracy: 0.9137 - val_f1_m: 0.9164 - val_precision_m: 0.9109 - val_recall_m: 0.9226\n",
      "Epoch 4/20\n",
      "370/370 [==============================] - 9s 26ms/step - loss: 0.2450 - accuracy: 0.8900 - f1_m: 0.8909 - precision_m: 0.8916 - recall_m: 0.8916 - val_loss: 0.1898 - val_accuracy: 0.9320 - val_f1_m: 0.9316 - val_precision_m: 0.9345 - val_recall_m: 0.9291\n",
      "Epoch 5/20\n",
      "370/370 [==============================] - 10s 26ms/step - loss: 0.2117 - accuracy: 0.9086 - f1_m: 0.9050 - precision_m: 0.9138 - recall_m: 0.8980 - val_loss: 0.1591 - val_accuracy: 0.9265 - val_f1_m: 0.9273 - val_precision_m: 0.9304 - val_recall_m: 0.9247\n",
      "Epoch 6/20\n",
      "370/370 [==============================] - 10s 27ms/step - loss: 0.1995 - accuracy: 0.9059 - f1_m: 0.9048 - precision_m: 0.9075 - recall_m: 0.9037 - val_loss: 0.1451 - val_accuracy: 0.9333 - val_f1_m: 0.9325 - val_precision_m: 0.9380 - val_recall_m: 0.9280\n",
      "Epoch 7/20\n",
      "370/370 [==============================] - 10s 27ms/step - loss: 0.1797 - accuracy: 0.9076 - f1_m: 0.9069 - precision_m: 0.9089 - recall_m: 0.9068 - val_loss: 0.1786 - val_accuracy: 0.9252 - val_f1_m: 0.9244 - val_precision_m: 0.9316 - val_recall_m: 0.9182\n",
      "Epoch 8/20\n",
      "370/370 [==============================] - 10s 26ms/step - loss: 0.1588 - accuracy: 0.9194 - f1_m: 0.9139 - precision_m: 0.9204 - recall_m: 0.9101 - val_loss: 0.1473 - val_accuracy: 0.9235 - val_f1_m: 0.9235 - val_precision_m: 0.9193 - val_recall_m: 0.9284\n",
      "Epoch 9/20\n",
      "370/370 [==============================] - 10s 26ms/step - loss: 0.1543 - accuracy: 0.9218 - f1_m: 0.9142 - precision_m: 0.9205 - recall_m: 0.9105 - val_loss: 0.1154 - val_accuracy: 0.9360 - val_f1_m: 0.9281 - val_precision_m: 0.9599 - val_recall_m: 0.9020\n",
      "Epoch 10/20\n",
      "370/370 [==============================] - 10s 26ms/step - loss: 0.1392 - accuracy: 0.9194 - f1_m: 0.9162 - precision_m: 0.9270 - recall_m: 0.9088 - val_loss: 0.1158 - val_accuracy: 0.9367 - val_f1_m: 0.9354 - val_precision_m: 0.9401 - val_recall_m: 0.9314\n",
      "Epoch 11/20\n",
      "370/370 [==============================] - 10s 26ms/step - loss: 0.1362 - accuracy: 0.9188 - f1_m: 0.9173 - precision_m: 0.9193 - recall_m: 0.9172 - val_loss: 0.1103 - val_accuracy: 0.9381 - val_f1_m: 0.9377 - val_precision_m: 0.9405 - val_recall_m: 0.9358\n",
      "Epoch 12/20\n",
      "370/370 [==============================] - 10s 26ms/step - loss: 0.1314 - accuracy: 0.9184 - f1_m: 0.9196 - precision_m: 0.9163 - recall_m: 0.9257 - val_loss: 0.1188 - val_accuracy: 0.9333 - val_f1_m: 0.9329 - val_precision_m: 0.9338 - val_recall_m: 0.9334\n",
      "Epoch 13/20\n",
      "370/370 [==============================] - 10s 27ms/step - loss: 0.1288 - accuracy: 0.9201 - f1_m: 0.9191 - precision_m: 0.9099 - recall_m: 0.9324 - val_loss: 0.1230 - val_accuracy: 0.9343 - val_f1_m: 0.9325 - val_precision_m: 0.8871 - val_recall_m: 0.9885\n",
      "Epoch 14/20\n",
      "370/370 [==============================] - 10s 26ms/step - loss: 0.1308 - accuracy: 0.9276 - f1_m: 0.9222 - precision_m: 0.9062 - recall_m: 0.9426 - val_loss: 0.1122 - val_accuracy: 0.9350 - val_f1_m: 0.9333 - val_precision_m: 0.8884 - val_recall_m: 0.9885\n",
      "Epoch 15/20\n",
      "370/370 [==============================] - 10s 26ms/step - loss: 0.1242 - accuracy: 0.9242 - f1_m: 0.9209 - precision_m: 0.9073 - recall_m: 0.9382 - val_loss: 0.1105 - val_accuracy: 0.9252 - val_f1_m: 0.9280 - val_precision_m: 0.9241 - val_recall_m: 0.9328\n",
      "Epoch 16/20\n",
      "370/370 [==============================] - 10s 26ms/step - loss: 0.1231 - accuracy: 0.9228 - f1_m: 0.9170 - precision_m: 0.9127 - recall_m: 0.9253 - val_loss: 0.1283 - val_accuracy: 0.9272 - val_f1_m: 0.9283 - val_precision_m: 0.9109 - val_recall_m: 0.9490\n",
      "Epoch 17/20\n",
      "370/370 [==============================] - 10s 26ms/step - loss: 0.1267 - accuracy: 0.9269 - f1_m: 0.9171 - precision_m: 0.9154 - recall_m: 0.9230 - val_loss: 0.1076 - val_accuracy: 0.9360 - val_f1_m: 0.9358 - val_precision_m: 0.9269 - val_recall_m: 0.9459\n",
      "Epoch 18/20\n",
      "370/370 [==============================] - 10s 26ms/step - loss: 0.1184 - accuracy: 0.9248 - f1_m: 0.9134 - precision_m: 0.9129 - recall_m: 0.9182 - val_loss: 0.1109 - val_accuracy: 0.9353 - val_f1_m: 0.9192 - val_precision_m: 0.9829 - val_recall_m: 0.8709\n",
      "Epoch 19/20\n",
      "370/370 [==============================] - 10s 26ms/step - loss: 0.1122 - accuracy: 0.9259 - f1_m: 0.9142 - precision_m: 0.9264 - recall_m: 0.9074 - val_loss: 0.1062 - val_accuracy: 0.9370 - val_f1_m: 0.9248 - val_precision_m: 0.9667 - val_recall_m: 0.8916\n",
      "Epoch 20/20\n",
      "370/370 [==============================] - 10s 27ms/step - loss: 0.1096 - accuracy: 0.9198 - f1_m: 0.9112 - precision_m: 0.9119 - recall_m: 0.9152 - val_loss: 0.1066 - val_accuracy: 0.9232 - val_f1_m: 0.9242 - val_precision_m: 0.9239 - val_recall_m: 0.9247\n"
     ]
    }
   ],
   "source": [
    "trained5 = model_hy.fit(X_train, Y_train, epochs = 20, batch_size=8,validation_data=(X_test, Y_test),verbose = 1)"
   ]
  },
  {
   "cell_type": "code",
   "execution_count": 51,
   "metadata": {},
   "outputs": [],
   "source": [
    "hyd_acc = trained5.history['val_accuracy'][19]\n",
    "hyd_prec = trained5.history['val_precision_m'][19]\n",
    "hyd_rec = trained5.history['val_recall_m'][19]\n",
    "hyd_f1 = trained5.history['val_f1_m'][19]"
   ]
  },
  {
   "cell_type": "code",
   "execution_count": 112,
   "metadata": {},
   "outputs": [],
   "source": [
    "storeResults('LSTM+GRU Ensemble Model',hyd_acc,hyd_prec,hyd_rec,hyd_f1)"
   ]
  },
  {
   "cell_type": "code",
   "execution_count": 53,
   "metadata": {},
   "outputs": [
    {
     "data": {
      "image/png": "[encoded data removed]",
      "text/plain": [
       "<Figure size 432x288 with 1 Axes>"
      ]
     },
     "metadata": {
      "needs_background": "light"
     },
     "output_type": "display_data"
    }
   ],
   "source": [
    "plt.plot(trained5.history['accuracy'])\n",
    "plt.plot(trained5.history['val_accuracy'])\n",
    "plt.title('Accuracy Curves')\n",
    "plt.ylabel('Accuracy')\n",
    "plt.xlabel('Epoch')\n",
    "plt.legend(['Train', 'Test'], loc='upper left')\n",
    "plt.show()"
   ]
  },
  {
   "cell_type": "code",
   "execution_count": 54,
   "metadata": {},
   "outputs": [
    {
     "data": {
      "image/png": "[encoded data removed]",
      "text/plain": [
       "<Figure size 432x288 with 1 Axes>"
      ]
     },
     "metadata": {
      "needs_background": "light"
     },
     "output_type": "display_data"
    }
   ],
   "source": [
    "plt.plot(trained5.history['loss'])\n",
    "plt.plot(trained5.history['val_loss'])\n",
    "plt.title('Loss Curves')\n",
    "plt.ylabel('Loss')\n",
    "plt.xlabel('Epoch')\n",
    "plt.legend(['Train', 'Test'], loc='upper left')\n",
    "plt.show()"
   ]
  },
  {
   "cell_type": "markdown",
   "metadata": {},
   "source": [
    "TL"
   ]
  },
  {
   "cell_type": "code",
   "execution_count": 55,
   "metadata": {},
   "outputs": [],
   "source": [
    "from tqdm.notebook import tqdm\n",
    "import numpy as np\n",
    "import pandas as pd\n",
    "import tensorflow as tf\n",
    "import tensorflow.keras\n",
    "import matplotlib.pyplot as plt\n",
    "from sklearn.metrics import accuracy_score\n",
    "from nltk.stem import WordNetLemmatizer\n",
    "from sklearn.model_selection import train_test_split\n",
    "import regex as re\n",
    "import transformers\n",
    "#import keras\n",
    "from tensorflow.keras import backend as K\n",
    "import plotly.express as px"
   ]
  },
  {
   "cell_type": "code",
   "execution_count": 56,
   "metadata": {},
   "outputs": [
    {
     "data": {
      "text/html": [
       "<div>\n",
       "<style scoped>\n",
       "    .dataframe tbody tr th:only-of-type {\n",
       "        vertical-align: middle;\n",
       "    }\n",
       "\n",
       "    .dataframe tbody tr th {\n",
       "        vertical-align: top;\n",
       "    }\n",
       "\n",
       "    .dataframe thead th {\n",
       "        text-align: right;\n",
       "    }\n",
       "</style>\n",
       "<table border=\"1\" class=\"dataframe\">\n",
       "  <thead>\n",
       "    <tr style=\"text-align: right;\">\n",
       "      <th></th>\n",
       "      <th>Sentence</th>\n",
       "      <th>polarity</th>\n",
       "    </tr>\n",
       "  </thead>\n",
       "  <tbody>\n",
       "    <tr>\n",
       "      <th>0</th>\n",
       "      <td>But the staff was so horrible to us.</td>\n",
       "      <td>0</td>\n",
       "    </tr>\n",
       "    <tr>\n",
       "      <th>1</th>\n",
       "      <td>To be completely fair, the only redeeming fact...</td>\n",
       "      <td>1</td>\n",
       "    </tr>\n",
       "    <tr>\n",
       "      <th>2</th>\n",
       "      <td>The food is uniformly exceptional, with a very...</td>\n",
       "      <td>1</td>\n",
       "    </tr>\n",
       "    <tr>\n",
       "      <th>3</th>\n",
       "      <td>The food is uniformly exceptional, with a very...</td>\n",
       "      <td>1</td>\n",
       "    </tr>\n",
       "    <tr>\n",
       "      <th>4</th>\n",
       "      <td>The food is uniformly exceptional, with a very...</td>\n",
       "      <td>1</td>\n",
       "    </tr>\n",
       "  </tbody>\n",
       "</table>\n",
       "</div>"
      ],
      "text/plain": [
       "                                            Sentence  polarity\n",
       "0               But the staff was so horrible to us.         0\n",
       "1  To be completely fair, the only redeeming fact...         1\n",
       "2  The food is uniformly exceptional, with a very...         1\n",
       "3  The food is uniformly exceptional, with a very...         1\n",
       "4  The food is uniformly exceptional, with a very...         1"
      ]
     },
     "execution_count": 56,
     "metadata": {},
     "output_type": "execute_result"
    }
   ],
   "source": [
    "df.head()"
   ]
  },
  {
   "cell_type": "code",
   "execution_count": 57,
   "metadata": {},
   "outputs": [],
   "source": [
    "def clean_text(data):\n",
    "    data_length=[]\n",
    "    lemmatizer=WordNetLemmatizer()\n",
    "    cleaned_text=[]\n",
    "    for sentence in tqdm(data.Sentence):\n",
    "        sentence=sentence.lower()\n",
    "        \n",
    "        #removing links from text data\n",
    "        sentence=re.sub('https?://[^\\s<>\"]+|www\\.[^\\s<>\"]+',' ',sentence)\n",
    "    \n",
    "        #removing other symbols\n",
    "        sentence=re.sub('[^0-9a-z]',' ',sentence)\n",
    "    \n",
    "        \n",
    "        data_length.append(len(sentence.split()))\n",
    "        cleaned_text.append(sentence)\n",
    "    return cleaned_text"
   ]
  },
  {
   "cell_type": "code",
   "execution_count": 58,
   "metadata": {},
   "outputs": [
    {
     "data": {
      "application/vnd.jupyter.widget-view+json": {
       "model_id": "9b75b6868a864c4e99b5348a64971f35",
       "version_major": 2,
       "version_minor": 0
      },
      "text/plain": [
       "  0%|          | 0/3693 [00:00<?, ?it/s]"
      ]
     },
     "metadata": {},
     "output_type": "display_data"
    },
    {
     "data": {
      "text/html": [
       "<div>\n",
       "<style scoped>\n",
       "    .dataframe tbody tr th:only-of-type {\n",
       "        vertical-align: middle;\n",
       "    }\n",
       "\n",
       "    .dataframe tbody tr th {\n",
       "        vertical-align: top;\n",
       "    }\n",
       "\n",
       "    .dataframe thead th {\n",
       "        text-align: right;\n",
       "    }\n",
       "</style>\n",
       "<table border=\"1\" class=\"dataframe\">\n",
       "  <thead>\n",
       "    <tr style=\"text-align: right;\">\n",
       "      <th></th>\n",
       "      <th>Sentence</th>\n",
       "      <th>polarity</th>\n",
       "    </tr>\n",
       "  </thead>\n",
       "  <tbody>\n",
       "    <tr>\n",
       "      <th>0</th>\n",
       "      <td>but the staff was so horrible to us</td>\n",
       "      <td>0</td>\n",
       "    </tr>\n",
       "    <tr>\n",
       "      <th>1</th>\n",
       "      <td>to be completely fair  the only redeeming fact...</td>\n",
       "      <td>1</td>\n",
       "    </tr>\n",
       "    <tr>\n",
       "      <th>2</th>\n",
       "      <td>the food is uniformly exceptional  with a very...</td>\n",
       "      <td>1</td>\n",
       "    </tr>\n",
       "    <tr>\n",
       "      <th>3</th>\n",
       "      <td>the food is uniformly exceptional  with a very...</td>\n",
       "      <td>1</td>\n",
       "    </tr>\n",
       "    <tr>\n",
       "      <th>4</th>\n",
       "      <td>the food is uniformly exceptional  with a very...</td>\n",
       "      <td>1</td>\n",
       "    </tr>\n",
       "    <tr>\n",
       "      <th>...</th>\n",
       "      <td>...</td>\n",
       "      <td>...</td>\n",
       "    </tr>\n",
       "    <tr>\n",
       "      <th>3688</th>\n",
       "      <td>each table has a pot of boiling water sunken i...</td>\n",
       "      <td>1</td>\n",
       "    </tr>\n",
       "    <tr>\n",
       "      <th>3689</th>\n",
       "      <td>each table has a pot of boiling water sunken i...</td>\n",
       "      <td>1</td>\n",
       "    </tr>\n",
       "    <tr>\n",
       "      <th>3690</th>\n",
       "      <td>each table has a pot of boiling water sunken i...</td>\n",
       "      <td>1</td>\n",
       "    </tr>\n",
       "    <tr>\n",
       "      <th>3691</th>\n",
       "      <td>each table has a pot of boiling water sunken i...</td>\n",
       "      <td>1</td>\n",
       "    </tr>\n",
       "    <tr>\n",
       "      <th>3692</th>\n",
       "      <td>each table has a pot of boiling water sunken i...</td>\n",
       "      <td>1</td>\n",
       "    </tr>\n",
       "  </tbody>\n",
       "</table>\n",
       "<p>3693 rows × 2 columns</p>\n",
       "</div>"
      ],
      "text/plain": [
       "                                               Sentence  polarity\n",
       "0                  but the staff was so horrible to us          0\n",
       "1     to be completely fair  the only redeeming fact...         1\n",
       "2     the food is uniformly exceptional  with a very...         1\n",
       "3     the food is uniformly exceptional  with a very...         1\n",
       "4     the food is uniformly exceptional  with a very...         1\n",
       "...                                                 ...       ...\n",
       "3688  each table has a pot of boiling water sunken i...         1\n",
       "3689  each table has a pot of boiling water sunken i...         1\n",
       "3690  each table has a pot of boiling water sunken i...         1\n",
       "3691  each table has a pot of boiling water sunken i...         1\n",
       "3692  each table has a pot of boiling water sunken i...         1\n",
       "\n",
       "[3693 rows x 2 columns]"
      ]
     },
     "execution_count": 58,
     "metadata": {},
     "output_type": "execute_result"
    }
   ],
   "source": [
    "df.Sentence = clean_text(df)\n",
    "df"
   ]
  },
  {
   "cell_type": "code",
   "execution_count": 59,
   "metadata": {},
   "outputs": [
    {
     "data": {
      "text/plain": [
       "(2954, 739)"
      ]
     },
     "execution_count": 59,
     "metadata": {},
     "output_type": "execute_result"
    }
   ],
   "source": [
    "#Split dataset\n",
    "from sklearn.model_selection import train_test_split\n",
    "\n",
    "posts = df['Sentence'].values\n",
    "labels =  df['polarity'].values\n",
    "train_data, test_data = train_test_split(df, random_state=0, test_size=0.2)\n",
    "\n",
    "train_size = len(train_data)\n",
    "test_size = len(test_data)\n",
    "train_size, test_size"
   ]
  },
  {
   "cell_type": "markdown",
   "metadata": {},
   "source": [
    "# BERT"
   ]
  },
  {
   "cell_type": "code",
   "execution_count": 60,
   "metadata": {},
   "outputs": [],
   "source": [
    "from transformers import AutoTokenizer, TFBertModel"
   ]
  },
  {
   "cell_type": "code",
   "execution_count": 61,
   "metadata": {},
   "outputs": [],
   "source": [
    "from transformers import BertTokenizer"
   ]
  },
  {
   "cell_type": "code",
   "execution_count": 62,
   "metadata": {},
   "outputs": [],
   "source": [
    "tokenizer = BertTokenizer.from_pretrained(\"bert-base-uncased\")\n",
    "MAX_LEN = 128"
   ]
  },
  {
   "cell_type": "code",
   "execution_count": 63,
   "metadata": {},
   "outputs": [
    {
     "data": {
      "application/vnd.jupyter.widget-view+json": {
       "model_id": "5b2649d82bc740218a7d4b434fba8067",
       "version_major": 2,
       "version_minor": 0
      },
      "text/plain": [
       "  0%|          | 0/2954 [00:00<?, ?it/s]"
      ]
     },
     "metadata": {},
     "output_type": "display_data"
    },
    {
     "name": "stderr",
     "output_type": "stream",
     "text": [
      "Truncation was not explicitly activated but `max_length` is provided a specific value, please use `truncation=True` to explicitly truncate examples to max length. Defaulting to 'longest_first' truncation strategy. If you encode pairs of sequences (GLUE-style) with the tokenizer you can select this strategy more precisely by providing a specific strategy to `truncation`.\n"
     ]
    },
    {
     "data": {
      "application/vnd.jupyter.widget-view+json": {
       "model_id": "039545d06301460c8df8a094b8fadcd1",
       "version_major": 2,
       "version_minor": 0
      },
      "text/plain": [
       "  0%|          | 0/739 [00:00<?, ?it/s]"
      ]
     },
     "metadata": {},
     "output_type": "display_data"
    }
   ],
   "source": [
    "def tokenize_sentences(sentences, tokenizer, max_seq_len = 1800):\n",
    "    tokenized_sentences = []\n",
    "\n",
    "    for sentence in tqdm(sentences):\n",
    "        tokenized_sentence = tokenizer.encode(\n",
    "                            sentence,                  # Sentence to encode.\n",
    "                            add_special_tokens = True, # Add '[CLS]' and '[SEP]'\n",
    "                            max_length = max_seq_len,  # Truncate all sentences.\n",
    "                    )\n",
    "        \n",
    "        tokenized_sentences.append(tokenized_sentence)\n",
    "        \n",
    "    return tokenized_sentences\n",
    "\n",
    "def create_attention_masks(tokenized_and_padded_sentences):\n",
    "    attention_masks = []\n",
    "\n",
    "    for sentence in tokenized_and_padded_sentences:\n",
    "        att_mask = [int(token_id > 0) for token_id in sentence]\n",
    "        attention_masks.append(att_mask)\n",
    "\n",
    "    return np.asarray(attention_masks)\n",
    "\n",
    "train_input_ids = tokenize_sentences(train_data['Sentence'], tokenizer, MAX_LEN)\n",
    "train_input_ids = pad_sequences(train_input_ids, maxlen=MAX_LEN, dtype=\"long\", value=0, truncating=\"post\", padding=\"post\")\n",
    "train_attention_masks = create_attention_masks(train_input_ids)\n",
    "\n",
    "test_input_ids = tokenize_sentences(test_data['Sentence'], tokenizer, MAX_LEN)\n",
    "test_input_ids = pad_sequences(test_input_ids, maxlen=MAX_LEN, dtype=\"long\", value=0, truncating=\"post\", padding=\"post\")\n",
    "test_attention_masks = create_attention_masks(test_input_ids)"
   ]
  },
  {
   "cell_type": "code",
   "execution_count": 64,
   "metadata": {},
   "outputs": [],
   "source": [
    "BATCH_SIZE=32 \n",
    "NR_EPOCHS=20"
   ]
  },
  {
   "cell_type": "code",
   "execution_count": 65,
   "metadata": {},
   "outputs": [],
   "source": [
    "#tf.config.run_functions_eagerly(True)"
   ]
  },
  {
   "cell_type": "code",
   "execution_count": 66,
   "metadata": {},
   "outputs": [],
   "source": [
    "def create_model(): \n",
    "    input_word_ids = tf.keras.layers.Input(shape=(MAX_LEN,), dtype=tf.int32,\n",
    "                                           name=\"input_word_ids\")\n",
    "    bert_layer = transformers.TFBertModel.from_pretrained(\"bert-base-uncased\")\n",
    "    bert_outputs = bert_layer(input_word_ids)[0]\n",
    "    pred = tf.keras.layers.Dense(2, activation='softmax')(bert_outputs[:,0,:])\n",
    "    \n",
    "    model = tf.keras.models.Model(inputs=input_word_ids, outputs=pred)\n",
    "    loss = tf.keras.losses.SparseCategoricalCrossentropy(from_logits=True)\n",
    "    model.compile(loss='categorical_crossentropy', optimizer=tf.keras.optimizers.Adam(\n",
    "    learning_rate=0.00002), metrics=['accuracy', f1_m, precision_m, recall_m])\n",
    "    return model"
   ]
  },
  {
   "cell_type": "code",
   "execution_count": 67,
   "metadata": {},
   "outputs": [
    {
     "name": "stderr",
     "output_type": "stream",
     "text": [
      "Some layers from the model checkpoint at bert-base-uncased were not used when initializing TFBertModel: ['nsp___cls', 'mlm___cls']\n",
      "- This IS expected if you are initializing TFBertModel from the checkpoint of a model trained on another task or with another architecture (e.g. initializing a BertForSequenceClassification model from a BertForPreTraining model).\n",
      "- This IS NOT expected if you are initializing TFBertModel from the checkpoint of a model that you expect to be exactly identical (initializing a BertForSequenceClassification model from a BertForSequenceClassification model).\n",
      "All the layers of TFBertModel were initialized from the model checkpoint at bert-base-uncased.\n",
      "If your task is similar to the task the model of the checkpoint was trained on, you can already use TFBertModel for predictions without further training.\n"
     ]
    },
    {
     "name": "stdout",
     "output_type": "stream",
     "text": [
      "WARNING:tensorflow:The parameters `output_attentions`, `output_hidden_states` and `use_cache` cannot be updated when calling a model.They have to be set to True/False in the config object (i.e.: `config=XConfig.from_pretrained('name', output_attentions=True)`).\n",
      "WARNING:tensorflow:AutoGraph could not transform <bound method Socket.send of <zmq.sugar.socket.Socket object at 0x000001855B199828>> and will run it as-is.\n",
      "Please report this to the TensorFlow team. When filing the bug, set the verbosity to 10 (on Linux, `export AUTOGRAPH_VERBOSITY=10`) and attach the full output.\n",
      "Cause: module, class, method, function, traceback, frame, or code object was expected, got cython_function_or_method\n",
      "To silence this warning, decorate the function with @tf.autograph.experimental.do_not_convert\n",
      "WARNING: AutoGraph could not transform <bound method Socket.send of <zmq.sugar.socket.Socket object at 0x000001855B199828>> and will run it as-is.\n",
      "Please report this to the TensorFlow team. When filing the bug, set the verbosity to 10 (on Linux, `export AUTOGRAPH_VERBOSITY=10`) and attach the full output.\n",
      "Cause: module, class, method, function, traceback, frame, or code object was expected, got cython_function_or_method\n",
      "To silence this warning, decorate the function with @tf.autograph.experimental.do_not_convert\n",
      "WARNING:tensorflow:The parameter `return_dict` cannot be set in graph mode and will always be set to `True`.\n",
      "WARNING:tensorflow:From C:\\Users\\TruProjects\\Anaconda3\\lib\\site-packages\\tensorflow\\python\\ops\\array_ops.py:5049: calling gather (from tensorflow.python.ops.array_ops) with validate_indices is deprecated and will be removed in a future version.\n",
      "Instructions for updating:\n",
      "The `validate_indices` argument has no effect. Indices are always validated on CPU and never validated on GPU.\n",
      "Model: \"model\"\n",
      "_________________________________________________________________\n",
      "Layer (type)                 Output Shape              Param #   \n",
      "=================================================================\n",
      "input_word_ids (InputLayer)  [(None, 128)]             0         \n",
      "_________________________________________________________________\n",
      "tf_bert_model (TFBertModel)  TFBaseModelOutputWithPool 109482240 \n",
      "_________________________________________________________________\n",
      "tf.__operators__.getitem (Sl (None, 768)               0         \n",
      "_________________________________________________________________\n",
      "dense_6 (Dense)              (None, 2)                 1538      \n",
      "=================================================================\n",
      "Total params: 109,483,778\n",
      "Trainable params: 109,483,778\n",
      "Non-trainable params: 0\n",
      "_________________________________________________________________\n"
     ]
    }
   ],
   "source": [
    "model_bert = create_model()\n",
    "    \n",
    "model_bert.summary()"
   ]
  },
  {
   "cell_type": "code",
   "execution_count": 68,
   "metadata": {},
   "outputs": [],
   "source": [
    "types = np.unique(df.polarity.values)\n",
    "\n",
    "def get_type_index(string):\n",
    "    return list(types).index(string)"
   ]
  },
  {
   "cell_type": "code",
   "execution_count": 69,
   "metadata": {},
   "outputs": [],
   "source": [
    "train_data['type_index'] = df['polarity'].apply(get_type_index)"
   ]
  },
  {
   "cell_type": "code",
   "execution_count": 70,
   "metadata": {},
   "outputs": [],
   "source": [
    "one_hot_labels = tf.keras.utils.to_categorical(train_data.type_index.values, num_classes=2)"
   ]
  },
  {
   "cell_type": "code",
   "execution_count": 71,
   "metadata": {},
   "outputs": [
    {
     "name": "stdout",
     "output_type": "stream",
     "text": [
      "Epoch 1/20\n",
      "WARNING:tensorflow:The parameters `output_attentions`, `output_hidden_states` and `use_cache` cannot be updated when calling a model.They have to be set to True/False in the config object (i.e.: `config=XConfig.from_pretrained('name', output_attentions=True)`).\n",
      "WARNING:tensorflow:The parameter `return_dict` cannot be set in graph mode and will always be set to `True`.\n",
      "WARNING:tensorflow:Gradients do not exist for variables ['tf_bert_model/bert/pooler/dense/kernel:0', 'tf_bert_model/bert/pooler/dense/bias:0'] when minimizing the loss.\n",
      "WARNING:tensorflow:The parameters `output_attentions`, `output_hidden_states` and `use_cache` cannot be updated when calling a model.They have to be set to True/False in the config object (i.e.: `config=XConfig.from_pretrained('name', output_attentions=True)`).\n",
      "WARNING:tensorflow:The parameter `return_dict` cannot be set in graph mode and will always be set to `True`.\n",
      "WARNING:tensorflow:Gradients do not exist for variables ['tf_bert_model/bert/pooler/dense/kernel:0', 'tf_bert_model/bert/pooler/dense/bias:0'] when minimizing the loss.\n",
      "70/70 [==============================] - ETA: 0s - loss: 0.5695 - accuracy: 0.7476 - f1_m: 0.7504 - precision_m: 0.7504 - recall_m: 0.7504WARNING:tensorflow:The parameters `output_attentions`, `output_hidden_states` and `use_cache` cannot be updated when calling a model.They have to be set to True/False in the config object (i.e.: `config=XConfig.from_pretrained('name', output_attentions=True)`).\n",
      "WARNING:tensorflow:The parameter `return_dict` cannot be set in graph mode and will always be set to `True`.\n",
      "70/70 [==============================] - 20s 166ms/step - loss: 0.5695 - accuracy: 0.7476 - f1_m: 0.7504 - precision_m: 0.7504 - recall_m: 0.7504 - val_loss: 0.4935 - val_accuracy: 0.7442 - val_f1_m: 0.7413 - val_precision_m: 0.7413 - val_recall_m: 0.7413\n",
      "Epoch 2/20\n",
      "70/70 [==============================] - 10s 143ms/step - loss: 0.3774 - accuracy: 0.8280 - f1_m: 0.8299 - precision_m: 0.8299 - recall_m: 0.8299 - val_loss: 0.3509 - val_accuracy: 0.8309 - val_f1_m: 0.8372 - val_precision_m: 0.8372 - val_recall_m: 0.8372\n",
      "Epoch 3/20\n",
      "70/70 [==============================] - 10s 144ms/step - loss: 0.2788 - accuracy: 0.8758 - f1_m: 0.8756 - precision_m: 0.8756 - recall_m: 0.8756 - val_loss: 0.3850 - val_accuracy: 0.8417 - val_f1_m: 0.8477 - val_precision_m: 0.8477 - val_recall_m: 0.8477\n",
      "Epoch 4/20\n",
      "70/70 [==============================] - 10s 143ms/step - loss: 0.2216 - accuracy: 0.9056 - f1_m: 0.9035 - precision_m: 0.9035 - recall_m: 0.9035 - val_loss: 0.3774 - val_accuracy: 0.8430 - val_f1_m: 0.8490 - val_precision_m: 0.8490 - val_recall_m: 0.8490\n",
      "Epoch 5/20\n",
      "70/70 [==============================] - 10s 143ms/step - loss: 0.1797 - accuracy: 0.9242 - f1_m: 0.9250 - precision_m: 0.9250 - recall_m: 0.9250 - val_loss: 0.4754 - val_accuracy: 0.8403 - val_f1_m: 0.8338 - val_precision_m: 0.8338 - val_recall_m: 0.8338\n",
      "Epoch 6/20\n",
      "70/70 [==============================] - 10s 144ms/step - loss: 0.1732 - accuracy: 0.9219 - f1_m: 0.9212 - precision_m: 0.9212 - recall_m: 0.9212 - val_loss: 0.4349 - val_accuracy: 0.8390 - val_f1_m: 0.8451 - val_precision_m: 0.8451 - val_recall_m: 0.8451\n",
      "Epoch 7/20\n",
      "70/70 [==============================] - 10s 143ms/step - loss: 0.1521 - accuracy: 0.9255 - f1_m: 0.9247 - precision_m: 0.9247 - recall_m: 0.9247 - val_loss: 0.4578 - val_accuracy: 0.8471 - val_f1_m: 0.8529 - val_precision_m: 0.8529 - val_recall_m: 0.8529\n",
      "Epoch 8/20\n",
      "70/70 [==============================] - 10s 143ms/step - loss: 0.1456 - accuracy: 0.9264 - f1_m: 0.9272 - precision_m: 0.9272 - recall_m: 0.9272 - val_loss: 0.4757 - val_accuracy: 0.8444 - val_f1_m: 0.8503 - val_precision_m: 0.8503 - val_recall_m: 0.8503\n",
      "Epoch 9/20\n",
      "70/70 [==============================] - 10s 143ms/step - loss: 0.1351 - accuracy: 0.9269 - f1_m: 0.9261 - precision_m: 0.9261 - recall_m: 0.9261 - val_loss: 0.4961 - val_accuracy: 0.8363 - val_f1_m: 0.8424 - val_precision_m: 0.8424 - val_recall_m: 0.8424\n",
      "Epoch 10/20\n",
      "70/70 [==============================] - 10s 143ms/step - loss: 0.1238 - accuracy: 0.9336 - f1_m: 0.9328 - precision_m: 0.9328 - recall_m: 0.9328 - val_loss: 0.4528 - val_accuracy: 0.8363 - val_f1_m: 0.8424 - val_precision_m: 0.8424 - val_recall_m: 0.8424\n",
      "Epoch 11/20\n",
      "70/70 [==============================] - 10s 144ms/step - loss: 0.1239 - accuracy: 0.9323 - f1_m: 0.9330 - precision_m: 0.9330 - recall_m: 0.9330 - val_loss: 0.5562 - val_accuracy: 0.8336 - val_f1_m: 0.8398 - val_precision_m: 0.8398 - val_recall_m: 0.8398\n",
      "Epoch 12/20\n",
      "70/70 [==============================] - 10s 143ms/step - loss: 0.1213 - accuracy: 0.9332 - f1_m: 0.9339 - precision_m: 0.9339 - recall_m: 0.9339 - val_loss: 0.4921 - val_accuracy: 0.8403 - val_f1_m: 0.8464 - val_precision_m: 0.8464 - val_recall_m: 0.8464\n",
      "Epoch 13/20\n",
      "70/70 [==============================] - 10s 142ms/step - loss: 0.1171 - accuracy: 0.9314 - f1_m: 0.9305 - precision_m: 0.9305 - recall_m: 0.9305 - val_loss: 0.6029 - val_accuracy: 0.8457 - val_f1_m: 0.8516 - val_precision_m: 0.8516 - val_recall_m: 0.8516\n",
      "Epoch 14/20\n",
      "70/70 [==============================] - 10s 143ms/step - loss: 0.1105 - accuracy: 0.9323 - f1_m: 0.9314 - precision_m: 0.9314 - recall_m: 0.9314 - val_loss: 0.6899 - val_accuracy: 0.8417 - val_f1_m: 0.8477 - val_precision_m: 0.8477 - val_recall_m: 0.8477\n",
      "Epoch 15/20\n",
      "70/70 [==============================] - 10s 144ms/step - loss: 0.1086 - accuracy: 0.9350 - f1_m: 0.9341 - precision_m: 0.9341 - recall_m: 0.9341 - val_loss: 0.6483 - val_accuracy: 0.8295 - val_f1_m: 0.8359 - val_precision_m: 0.8359 - val_recall_m: 0.8359\n",
      "Epoch 16/20\n",
      "70/70 [==============================] - 10s 144ms/step - loss: 0.1092 - accuracy: 0.9300 - f1_m: 0.9308 - precision_m: 0.9308 - recall_m: 0.9308 - val_loss: 0.7976 - val_accuracy: 0.8363 - val_f1_m: 0.8424 - val_precision_m: 0.8424 - val_recall_m: 0.8424\n",
      "Epoch 17/20\n",
      "70/70 [==============================] - 10s 145ms/step - loss: 0.1052 - accuracy: 0.9350 - f1_m: 0.9325 - precision_m: 0.9325 - recall_m: 0.9325 - val_loss: 0.7508 - val_accuracy: 0.8444 - val_f1_m: 0.8503 - val_precision_m: 0.8503 - val_recall_m: 0.8503\n",
      "Epoch 18/20\n",
      "70/70 [==============================] - 10s 145ms/step - loss: 0.1106 - accuracy: 0.9395 - f1_m: 0.9386 - precision_m: 0.9386 - recall_m: 0.9386 - val_loss: 0.8966 - val_accuracy: 0.8430 - val_f1_m: 0.8490 - val_precision_m: 0.8490 - val_recall_m: 0.8490\n",
      "Epoch 19/20\n",
      "70/70 [==============================] - 10s 144ms/step - loss: 0.1106 - accuracy: 0.9350 - f1_m: 0.9341 - precision_m: 0.9341 - recall_m: 0.9341 - val_loss: 0.8176 - val_accuracy: 0.8444 - val_f1_m: 0.8503 - val_precision_m: 0.8503 - val_recall_m: 0.8503\n",
      "Epoch 20/20\n",
      "70/70 [==============================] - 10s 144ms/step - loss: 0.1000 - accuracy: 0.9336 - f1_m: 0.9344 - precision_m: 0.9344 - recall_m: 0.9344 - val_loss: 0.9083 - val_accuracy: 0.8390 - val_f1_m: 0.8451 - val_precision_m: 0.8451 - val_recall_m: 0.8451\n"
     ]
    }
   ],
   "source": [
    "hist3 = model_bert.fit(np.array(train_input_ids), one_hot_labels, verbose = 1, epochs = NR_EPOCHS, batch_size = BATCH_SIZE, validation_split=0.25)"
   ]
  },
  {
   "cell_type": "code",
   "execution_count": 72,
   "metadata": {},
   "outputs": [],
   "source": [
    "bert_acc = hist3.history['val_accuracy'][19]\n",
    "bert_prec = hist3.history['val_precision_m'][19]\n",
    "bert_rec = hist3.history['val_recall_m'][19]\n",
    "bert_f1 = hist3.history['val_f1_m'][19]"
   ]
  },
  {
   "cell_type": "code",
   "execution_count": 113,
   "metadata": {},
   "outputs": [],
   "source": [
    "storeResults('BERTsmall',bert_acc,bert_prec,bert_rec,bert_f1)"
   ]
  },
  {
   "cell_type": "code",
   "execution_count": 74,
   "metadata": {},
   "outputs": [
    {
     "data": {
      "image/png": "[encoded data removed]",
      "text/plain": [
       "<Figure size 432x288 with 1 Axes>"
      ]
     },
     "metadata": {
      "needs_background": "light"
     },
     "output_type": "display_data"
    }
   ],
   "source": [
    "plt.plot(hist3.history['accuracy'])\n",
    "plt.plot(hist3.history['val_accuracy'])\n",
    "plt.title('Accuracy Curves')\n",
    "plt.ylabel('Accuracy')\n",
    "plt.xlabel('Epoch')\n",
    "plt.legend(['Train', 'Test'], loc='upper left')\n",
    "plt.show()"
   ]
  },
  {
   "cell_type": "code",
   "execution_count": 75,
   "metadata": {},
   "outputs": [
    {
     "data": {
      "image/png": "[encoded data removed]",
      "text/plain": [
       "<Figure size 432x288 with 1 Axes>"
      ]
     },
     "metadata": {
      "needs_background": "light"
     },
     "output_type": "display_data"
    }
   ],
   "source": [
    "plt.plot(hist3.history['loss'])\n",
    "plt.plot(hist3.history['val_loss'])\n",
    "plt.title('Loss Curves')\n",
    "plt.ylabel('Loss')\n",
    "plt.xlabel('Epoch')\n",
    "plt.legend(['Train', 'Test'], loc='upper left')\n",
    "plt.show()"
   ]
  },
  {
   "cell_type": "markdown",
   "metadata": {},
   "source": [
    "# BERT large"
   ]
  },
  {
   "cell_type": "code",
   "execution_count": 76,
   "metadata": {},
   "outputs": [],
   "source": [
    "from transformers import AutoTokenizer, TFBertModel"
   ]
  },
  {
   "cell_type": "code",
   "execution_count": 77,
   "metadata": {},
   "outputs": [],
   "source": [
    "tokenizer = BertTokenizer.from_pretrained(\"bert-large-uncased\")\n",
    "MAX_LEN = 128"
   ]
  },
  {
   "cell_type": "code",
   "execution_count": 78,
   "metadata": {},
   "outputs": [
    {
     "data": {
      "application/vnd.jupyter.widget-view+json": {
       "model_id": "70ceefc192274075a5776e5257ef7d78",
       "version_major": 2,
       "version_minor": 0
      },
      "text/plain": [
       "  0%|          | 0/2954 [00:00<?, ?it/s]"
      ]
     },
     "metadata": {},
     "output_type": "display_data"
    },
    {
     "name": "stderr",
     "output_type": "stream",
     "text": [
      "Truncation was not explicitly activated but `max_length` is provided a specific value, please use `truncation=True` to explicitly truncate examples to max length. Defaulting to 'longest_first' truncation strategy. If you encode pairs of sequences (GLUE-style) with the tokenizer you can select this strategy more precisely by providing a specific strategy to `truncation`.\n"
     ]
    },
    {
     "data": {
      "application/vnd.jupyter.widget-view+json": {
       "model_id": "73a4635120864b0f9d6dc772d77d89a7",
       "version_major": 2,
       "version_minor": 0
      },
      "text/plain": [
       "  0%|          | 0/739 [00:00<?, ?it/s]"
      ]
     },
     "metadata": {},
     "output_type": "display_data"
    }
   ],
   "source": [
    "def tokenize_sentences(sentences, tokenizer, max_seq_len = 1800):\n",
    "    tokenized_sentences = []\n",
    "\n",
    "    for sentence in tqdm(sentences):\n",
    "        tokenized_sentence = tokenizer.encode(\n",
    "                            sentence,                  # Sentence to encode.\n",
    "                            add_special_tokens = True, # Add '[CLS]' and '[SEP]'\n",
    "                            max_length = max_seq_len,  # Truncate all sentences.\n",
    "                    )\n",
    "        \n",
    "        tokenized_sentences.append(tokenized_sentence)\n",
    "        \n",
    "    return tokenized_sentences\n",
    "\n",
    "def create_attention_masks(tokenized_and_padded_sentences):\n",
    "    attention_masks = []\n",
    "\n",
    "    for sentence in tokenized_and_padded_sentences:\n",
    "        att_mask = [int(token_id > 0) for token_id in sentence]\n",
    "        attention_masks.append(att_mask)\n",
    "\n",
    "    return np.asarray(attention_masks)\n",
    "\n",
    "train_input_ids = tokenize_sentences(train_data['Sentence'], tokenizer, MAX_LEN)\n",
    "train_input_ids = pad_sequences(train_input_ids, maxlen=MAX_LEN, dtype=\"long\", value=0, truncating=\"post\", padding=\"post\")\n",
    "train_attention_masks = create_attention_masks(train_input_ids)\n",
    "\n",
    "test_input_ids = tokenize_sentences(test_data['Sentence'], tokenizer, MAX_LEN)\n",
    "test_input_ids = pad_sequences(test_input_ids, maxlen=MAX_LEN, dtype=\"long\", value=0, truncating=\"post\", padding=\"post\")\n",
    "test_attention_masks = create_attention_masks(test_input_ids)"
   ]
  },
  {
   "cell_type": "code",
   "execution_count": 79,
   "metadata": {},
   "outputs": [],
   "source": [
    "#tf.config.run_functions_eagerly(True)"
   ]
  },
  {
   "cell_type": "code",
   "execution_count": 80,
   "metadata": {},
   "outputs": [],
   "source": [
    "def create_model(): \n",
    "    input_word_ids = tf.keras.layers.Input(shape=(MAX_LEN,), dtype=tf.int32,\n",
    "                                           name=\"input_word_ids\")\n",
    "    bert_layer = transformers.TFBertModel.from_pretrained(\"bert-large-uncased\")\n",
    "    bert_outputs = bert_layer(input_word_ids)[0]\n",
    "    pred = tf.keras.layers.Dense(2, activation='softmax')(bert_outputs[:,0,:])\n",
    "    \n",
    "    model = tf.keras.models.Model(inputs=input_word_ids, outputs=pred)\n",
    "    loss = tf.keras.losses.SparseCategoricalCrossentropy(from_logits=True)\n",
    "    model.compile(loss='categorical_crossentropy', optimizer=tf.keras.optimizers.Adam(\n",
    "    learning_rate=0.00002), metrics=['accuracy', f1_m, precision_m, recall_m])\n",
    "    return model"
   ]
  },
  {
   "cell_type": "code",
   "execution_count": 81,
   "metadata": {},
   "outputs": [
    {
     "name": "stderr",
     "output_type": "stream",
     "text": [
      "Some layers from the model checkpoint at bert-large-uncased were not used when initializing TFBertModel: ['nsp___cls', 'mlm___cls']\n",
      "- This IS expected if you are initializing TFBertModel from the checkpoint of a model trained on another task or with another architecture (e.g. initializing a BertForSequenceClassification model from a BertForPreTraining model).\n",
      "- This IS NOT expected if you are initializing TFBertModel from the checkpoint of a model that you expect to be exactly identical (initializing a BertForSequenceClassification model from a BertForSequenceClassification model).\n",
      "All the layers of TFBertModel were initialized from the model checkpoint at bert-large-uncased.\n",
      "If your task is similar to the task the model of the checkpoint was trained on, you can already use TFBertModel for predictions without further training.\n"
     ]
    },
    {
     "name": "stdout",
     "output_type": "stream",
     "text": [
      "WARNING:tensorflow:The parameters `output_attentions`, `output_hidden_states` and `use_cache` cannot be updated when calling a model.They have to be set to True/False in the config object (i.e.: `config=XConfig.from_pretrained('name', output_attentions=True)`).\n",
      "WARNING:tensorflow:The parameter `return_dict` cannot be set in graph mode and will always be set to `True`.\n",
      "Model: \"model_1\"\n",
      "_________________________________________________________________\n",
      "Layer (type)                 Output Shape              Param #   \n",
      "=================================================================\n",
      "input_word_ids (InputLayer)  [(None, 128)]             0         \n",
      "_________________________________________________________________\n",
      "tf_bert_model_1 (TFBertModel TFBaseModelOutputWithPool 335141888 \n",
      "_________________________________________________________________\n",
      "tf.__operators__.getitem_1 ( (None, 1024)              0         \n",
      "_________________________________________________________________\n",
      "dense_7 (Dense)              (None, 2)                 2050      \n",
      "=================================================================\n",
      "Total params: 335,143,938\n",
      "Trainable params: 335,143,938\n",
      "Non-trainable params: 0\n",
      "_________________________________________________________________\n"
     ]
    }
   ],
   "source": [
    "model_lbert = create_model()\n",
    "    \n",
    "model_lbert.summary()"
   ]
  },
  {
   "cell_type": "code",
   "execution_count": 82,
   "metadata": {},
   "outputs": [],
   "source": [
    "types = np.unique(df.polarity.values)\n",
    "\n",
    "def get_type_index(string):\n",
    "    return list(types).index(string)"
   ]
  },
  {
   "cell_type": "code",
   "execution_count": 83,
   "metadata": {},
   "outputs": [
    {
     "data": {
      "text/html": [
       "<div>\n",
       "<style scoped>\n",
       "    .dataframe tbody tr th:only-of-type {\n",
       "        vertical-align: middle;\n",
       "    }\n",
       "\n",
       "    .dataframe tbody tr th {\n",
       "        vertical-align: top;\n",
       "    }\n",
       "\n",
       "    .dataframe thead th {\n",
       "        text-align: right;\n",
       "    }\n",
       "</style>\n",
       "<table border=\"1\" class=\"dataframe\">\n",
       "  <thead>\n",
       "    <tr style=\"text-align: right;\">\n",
       "      <th></th>\n",
       "      <th>Sentence</th>\n",
       "      <th>polarity</th>\n",
       "      <th>type_index</th>\n",
       "    </tr>\n",
       "  </thead>\n",
       "  <tbody>\n",
       "    <tr>\n",
       "      <th>1299</th>\n",
       "      <td>with so many good restaurants on the uws  i do...</td>\n",
       "      <td>0</td>\n",
       "      <td>0</td>\n",
       "    </tr>\n",
       "    <tr>\n",
       "      <th>2604</th>\n",
       "      <td>both times i was extremely dissappointed by th...</td>\n",
       "      <td>0</td>\n",
       "      <td>0</td>\n",
       "    </tr>\n",
       "    <tr>\n",
       "      <th>427</th>\n",
       "      <td>delivery is fast too</td>\n",
       "      <td>1</td>\n",
       "      <td>1</td>\n",
       "    </tr>\n",
       "    <tr>\n",
       "      <th>1042</th>\n",
       "      <td>barbecued codfish was gorgeously moist   as if...</td>\n",
       "      <td>0</td>\n",
       "      <td>0</td>\n",
       "    </tr>\n",
       "    <tr>\n",
       "      <th>1015</th>\n",
       "      <td>they bring service up a notch by offerng compl...</td>\n",
       "      <td>1</td>\n",
       "      <td>1</td>\n",
       "    </tr>\n",
       "    <tr>\n",
       "      <th>...</th>\n",
       "      <td>...</td>\n",
       "      <td>...</td>\n",
       "      <td>...</td>\n",
       "    </tr>\n",
       "    <tr>\n",
       "      <th>835</th>\n",
       "      <td>while this isn t classical restaurant fare  th...</td>\n",
       "      <td>1</td>\n",
       "      <td>1</td>\n",
       "    </tr>\n",
       "    <tr>\n",
       "      <th>3264</th>\n",
       "      <td>ive been here so many times the waiters know m...</td>\n",
       "      <td>1</td>\n",
       "      <td>1</td>\n",
       "    </tr>\n",
       "    <tr>\n",
       "      <th>1653</th>\n",
       "      <td>the menu is nothing like the one on the website</td>\n",
       "      <td>0</td>\n",
       "      <td>0</td>\n",
       "    </tr>\n",
       "    <tr>\n",
       "      <th>2607</th>\n",
       "      <td>the spicy tuna roll is huge and probably the b...</td>\n",
       "      <td>1</td>\n",
       "      <td>1</td>\n",
       "    </tr>\n",
       "    <tr>\n",
       "      <th>2732</th>\n",
       "      <td>and it all comes at a very reasonable price  c...</td>\n",
       "      <td>1</td>\n",
       "      <td>1</td>\n",
       "    </tr>\n",
       "  </tbody>\n",
       "</table>\n",
       "<p>2954 rows × 3 columns</p>\n",
       "</div>"
      ],
      "text/plain": [
       "                                               Sentence  polarity  type_index\n",
       "1299  with so many good restaurants on the uws  i do...         0           0\n",
       "2604  both times i was extremely dissappointed by th...         0           0\n",
       "427                               delivery is fast too          1           1\n",
       "1042  barbecued codfish was gorgeously moist   as if...         0           0\n",
       "1015  they bring service up a notch by offerng compl...         1           1\n",
       "...                                                 ...       ...         ...\n",
       "835   while this isn t classical restaurant fare  th...         1           1\n",
       "3264  ive been here so many times the waiters know m...         1           1\n",
       "1653   the menu is nothing like the one on the website          0           0\n",
       "2607  the spicy tuna roll is huge and probably the b...         1           1\n",
       "2732  and it all comes at a very reasonable price  c...         1           1\n",
       "\n",
       "[2954 rows x 3 columns]"
      ]
     },
     "execution_count": 83,
     "metadata": {},
     "output_type": "execute_result"
    }
   ],
   "source": [
    "train_data['type_index'] = df['polarity'].apply(get_type_index)\n",
    "train_data"
   ]
  },
  {
   "cell_type": "code",
   "execution_count": 84,
   "metadata": {},
   "outputs": [],
   "source": [
    "one_hot_labels = tf.keras.utils.to_categorical(train_data.type_index.values, num_classes=2)"
   ]
  },
  {
   "cell_type": "code",
   "execution_count": 85,
   "metadata": {},
   "outputs": [
    {
     "name": "stdout",
     "output_type": "stream",
     "text": [
      "Epoch 1/20\n",
      "WARNING:tensorflow:The parameters `output_attentions`, `output_hidden_states` and `use_cache` cannot be updated when calling a model.They have to be set to True/False in the config object (i.e.: `config=XConfig.from_pretrained('name', output_attentions=True)`).\n",
      "WARNING:tensorflow:The parameter `return_dict` cannot be set in graph mode and will always be set to `True`.\n",
      "WARNING:tensorflow:Gradients do not exist for variables ['tf_bert_model_1/bert/pooler/dense/kernel:0', 'tf_bert_model_1/bert/pooler/dense/bias:0'] when minimizing the loss.\n",
      "WARNING:tensorflow:The parameters `output_attentions`, `output_hidden_states` and `use_cache` cannot be updated when calling a model.They have to be set to True/False in the config object (i.e.: `config=XConfig.from_pretrained('name', output_attentions=True)`).\n",
      "WARNING:tensorflow:The parameter `return_dict` cannot be set in graph mode and will always be set to `True`.\n",
      "WARNING:tensorflow:Gradients do not exist for variables ['tf_bert_model_1/bert/pooler/dense/kernel:0', 'tf_bert_model_1/bert/pooler/dense/bias:0'] when minimizing the loss.\n",
      "70/70 [==============================] - ETA: 0s - loss: 0.5839 - accuracy: 0.7449 - f1_m: 0.7430 - precision_m: 0.7430 - recall_m: 0.7430WARNING:tensorflow:The parameters `output_attentions`, `output_hidden_states` and `use_cache` cannot be updated when calling a model.They have to be set to True/False in the config object (i.e.: `config=XConfig.from_pretrained('name', output_attentions=True)`).\n",
      "WARNING:tensorflow:The parameter `return_dict` cannot be set in graph mode and will always be set to `True`.\n",
      "70/70 [==============================] - 498s 7s/step - loss: 0.5839 - accuracy: 0.7449 - f1_m: 0.7430 - precision_m: 0.7430 - recall_m: 0.7430 - val_loss: 0.5563 - val_accuracy: 0.7442 - val_f1_m: 0.7413 - val_precision_m: 0.7413 - val_recall_m: 0.7413\n",
      "Epoch 2/20\n",
      "70/70 [==============================] - 477s 7s/step - loss: 0.5597 - accuracy: 0.7535 - f1_m: 0.7531 - precision_m: 0.7531 - recall_m: 0.7531 - val_loss: 0.5270 - val_accuracy: 0.7442 - val_f1_m: 0.7413 - val_precision_m: 0.7413 - val_recall_m: 0.7413\n",
      "Epoch 3/20\n",
      "70/70 [==============================] - 477s 7s/step - loss: 0.4527 - accuracy: 0.7901 - f1_m: 0.7908 - precision_m: 0.7908 - recall_m: 0.7908 - val_loss: 0.3831 - val_accuracy: 0.8092 - val_f1_m: 0.8038 - val_precision_m: 0.8038 - val_recall_m: 0.8038\n",
      "Epoch 4/20\n",
      "70/70 [==============================] - 478s 7s/step - loss: 0.3302 - accuracy: 0.8415 - f1_m: 0.8417 - precision_m: 0.8417 - recall_m: 0.8417 - val_loss: 0.3156 - val_accuracy: 0.8539 - val_f1_m: 0.8594 - val_precision_m: 0.8594 - val_recall_m: 0.8594\n",
      "Epoch 5/20\n",
      "70/70 [==============================] - 478s 7s/step - loss: 0.2535 - accuracy: 0.8826 - f1_m: 0.8823 - precision_m: 0.8823 - recall_m: 0.8823 - val_loss: 0.3256 - val_accuracy: 0.8430 - val_f1_m: 0.8490 - val_precision_m: 0.8490 - val_recall_m: 0.8490\n",
      "Epoch 6/20\n",
      "70/70 [==============================] - 478s 7s/step - loss: 0.2017 - accuracy: 0.9056 - f1_m: 0.9051 - precision_m: 0.9051 - recall_m: 0.9051 - val_loss: 0.3285 - val_accuracy: 0.8498 - val_f1_m: 0.8555 - val_precision_m: 0.8555 - val_recall_m: 0.8555\n",
      "Epoch 7/20\n",
      "70/70 [==============================] - 478s 7s/step - loss: 0.1703 - accuracy: 0.9165 - f1_m: 0.9174 - precision_m: 0.9174 - recall_m: 0.9174 - val_loss: 0.4544 - val_accuracy: 0.8376 - val_f1_m: 0.8437 - val_precision_m: 0.8438 - val_recall_m: 0.8438\n",
      "Epoch 8/20\n",
      "70/70 [==============================] - 479s 7s/step - loss: 0.1565 - accuracy: 0.9174 - f1_m: 0.9183 - precision_m: 0.9183 - recall_m: 0.9183 - val_loss: 0.5073 - val_accuracy: 0.8173 - val_f1_m: 0.8242 - val_precision_m: 0.8242 - val_recall_m: 0.8242\n",
      "Epoch 9/20\n",
      "70/70 [==============================] - 478s 7s/step - loss: 0.1461 - accuracy: 0.9305 - f1_m: 0.9312 - precision_m: 0.9312 - recall_m: 0.9312 - val_loss: 0.4402 - val_accuracy: 0.8376 - val_f1_m: 0.8437 - val_precision_m: 0.8438 - val_recall_m: 0.8438\n",
      "Epoch 10/20\n",
      "70/70 [==============================] - 479s 7s/step - loss: 0.1469 - accuracy: 0.9251 - f1_m: 0.9259 - precision_m: 0.9259 - recall_m: 0.9259 - val_loss: 0.5823 - val_accuracy: 0.8417 - val_f1_m: 0.8477 - val_precision_m: 0.8477 - val_recall_m: 0.8477\n",
      "Epoch 11/20\n",
      "70/70 [==============================] - 477s 7s/step - loss: 0.1375 - accuracy: 0.9251 - f1_m: 0.9243 - precision_m: 0.9243 - recall_m: 0.9243 - val_loss: 0.5352 - val_accuracy: 0.8457 - val_f1_m: 0.8516 - val_precision_m: 0.8516 - val_recall_m: 0.8516\n",
      "Epoch 12/20\n",
      "70/70 [==============================] - 477s 7s/step - loss: 0.1423 - accuracy: 0.9233 - f1_m: 0.9225 - precision_m: 0.9225 - recall_m: 0.9225 - val_loss: 0.7528 - val_accuracy: 0.8457 - val_f1_m: 0.8516 - val_precision_m: 0.8516 - val_recall_m: 0.8516\n",
      "Epoch 13/20\n",
      "70/70 [==============================] - 478s 7s/step - loss: 0.1154 - accuracy: 0.9345 - f1_m: 0.9337 - precision_m: 0.9337 - recall_m: 0.9337 - val_loss: 1.0273 - val_accuracy: 0.8471 - val_f1_m: 0.8529 - val_precision_m: 0.8529 - val_recall_m: 0.8529\n",
      "Epoch 14/20\n",
      "70/70 [==============================] - 477s 7s/step - loss: 0.1161 - accuracy: 0.9377 - f1_m: 0.9368 - precision_m: 0.9368 - recall_m: 0.9368 - val_loss: 0.8891 - val_accuracy: 0.8430 - val_f1_m: 0.8490 - val_precision_m: 0.8490 - val_recall_m: 0.8490\n",
      "Epoch 15/20\n",
      "70/70 [==============================] - 477s 7s/step - loss: 0.1036 - accuracy: 0.9454 - f1_m: 0.9460 - precision_m: 0.9460 - recall_m: 0.9460 - val_loss: 0.9384 - val_accuracy: 0.8363 - val_f1_m: 0.8424 - val_precision_m: 0.8424 - val_recall_m: 0.8424\n",
      "Epoch 16/20\n",
      "70/70 [==============================] - 477s 7s/step - loss: 0.1114 - accuracy: 0.9377 - f1_m: 0.9368 - precision_m: 0.9368 - recall_m: 0.9368 - val_loss: 0.7176 - val_accuracy: 0.8241 - val_f1_m: 0.8307 - val_precision_m: 0.8307 - val_recall_m: 0.8307\n",
      "Epoch 17/20\n",
      "70/70 [==============================] - 477s 7s/step - loss: 0.1160 - accuracy: 0.9282 - f1_m: 0.9290 - precision_m: 0.9290 - recall_m: 0.9290 - val_loss: 0.8362 - val_accuracy: 0.8336 - val_f1_m: 0.8398 - val_precision_m: 0.8398 - val_recall_m: 0.8398\n",
      "Epoch 18/20\n",
      "70/70 [==============================] - 477s 7s/step - loss: 0.1011 - accuracy: 0.9372 - f1_m: 0.9379 - precision_m: 0.9379 - recall_m: 0.9379 - val_loss: 1.1441 - val_accuracy: 0.8336 - val_f1_m: 0.8398 - val_precision_m: 0.8398 - val_recall_m: 0.8398\n",
      "Epoch 19/20\n",
      "70/70 [==============================] - 477s 7s/step - loss: 0.0981 - accuracy: 0.9391 - f1_m: 0.9397 - precision_m: 0.9397 - recall_m: 0.9397 - val_loss: 1.1412 - val_accuracy: 0.8336 - val_f1_m: 0.8398 - val_precision_m: 0.8398 - val_recall_m: 0.8398\n",
      "Epoch 20/20\n",
      "70/70 [==============================] - 477s 7s/step - loss: 0.1076 - accuracy: 0.9363 - f1_m: 0.9371 - precision_m: 0.9371 - recall_m: 0.9371 - val_loss: 0.9766 - val_accuracy: 0.8390 - val_f1_m: 0.8451 - val_precision_m: 0.8451 - val_recall_m: 0.8451\n"
     ]
    }
   ],
   "source": [
    "hist2 = model_lbert.fit(np.array(train_input_ids), one_hot_labels, verbose = 1, epochs = NR_EPOCHS, batch_size = BATCH_SIZE, validation_split=0.25)"
   ]
  },
  {
   "cell_type": "code",
   "execution_count": 86,
   "metadata": {},
   "outputs": [],
   "source": [
    "lbert_acc = hist2.history['val_accuracy'][19]\n",
    "lbert_prec = hist2.history['val_precision_m'][19]\n",
    "lbert_rec = hist2.history['val_recall_m'][19]\n",
    "lbert_f1 = hist2.history['val_f1_m'][19]"
   ]
  },
  {
   "cell_type": "code",
   "execution_count": 117,
   "metadata": {},
   "outputs": [],
   "source": [
    "storeResults('BERTlarge',lbert_acc,lbert_prec,lbert_rec,lbert_f1)"
   ]
  },
  {
   "cell_type": "code",
   "execution_count": 87,
   "metadata": {},
   "outputs": [
    {
     "data": {
      "image/png": "[encoded data removed]",
      "text/plain": [
       "<Figure size 432x288 with 1 Axes>"
      ]
     },
     "metadata": {
      "needs_background": "light"
     },
     "output_type": "display_data"
    }
   ],
   "source": [
    "plt.plot(hist2.history['accuracy'])\n",
    "plt.plot(hist2.history['val_accuracy'])\n",
    "plt.title('Accuracy Curves')\n",
    "plt.ylabel('Accuracy')\n",
    "plt.xlabel('Epoch')\n",
    "plt.legend(['Train', 'Test'], loc='upper left')\n",
    "plt.show()"
   ]
  },
  {
   "cell_type": "code",
   "execution_count": 88,
   "metadata": {},
   "outputs": [
    {
     "data": {
      "image/png": "[encoded data removed]",
      "text/plain": [
       "<Figure size 432x288 with 1 Axes>"
      ]
     },
     "metadata": {
      "needs_background": "light"
     },
     "output_type": "display_data"
    }
   ],
   "source": [
    "plt.plot(hist2.history['loss'])\n",
    "plt.plot(hist2.history['val_loss'])\n",
    "plt.title('Loss Curves')\n",
    "plt.ylabel('Loss')\n",
    "plt.xlabel('Epoch')\n",
    "plt.legend(['Train', 'Test'], loc='upper left')\n",
    "plt.show()"
   ]
  },
  {
   "cell_type": "markdown",
   "metadata": {},
   "source": [
    "# TopicBERT"
   ]
  },
  {
   "cell_type": "code",
   "execution_count": 89,
   "metadata": {},
   "outputs": [],
   "source": [
    "from transformers import AutoTokenizer, TFMobileBertModel"
   ]
  },
  {
   "cell_type": "code",
   "execution_count": 90,
   "metadata": {},
   "outputs": [],
   "source": [
    "tokenizer = AutoTokenizer.from_pretrained(\"google/mobilebert-uncased\")"
   ]
  },
  {
   "cell_type": "code",
   "execution_count": 91,
   "metadata": {},
   "outputs": [
    {
     "data": {
      "application/vnd.jupyter.widget-view+json": {
       "model_id": "11ac58b6883c46f7805f9c91c2adbf80",
       "version_major": 2,
       "version_minor": 0
      },
      "text/plain": [
       "  0%|          | 0/2954 [00:00<?, ?it/s]"
      ]
     },
     "metadata": {},
     "output_type": "display_data"
    },
    {
     "name": "stderr",
     "output_type": "stream",
     "text": [
      "Truncation was not explicitly activated but `max_length` is provided a specific value, please use `truncation=True` to explicitly truncate examples to max length. Defaulting to 'longest_first' truncation strategy. If you encode pairs of sequences (GLUE-style) with the tokenizer you can select this strategy more precisely by providing a specific strategy to `truncation`.\n"
     ]
    },
    {
     "data": {
      "application/vnd.jupyter.widget-view+json": {
       "model_id": "0bd3d4a2ae1c4a66877605cfedd8141e",
       "version_major": 2,
       "version_minor": 0
      },
      "text/plain": [
       "  0%|          | 0/739 [00:00<?, ?it/s]"
      ]
     },
     "metadata": {},
     "output_type": "display_data"
    }
   ],
   "source": [
    "def tokenize_sentences(sentences, tokenizer, max_seq_len = 1800):\n",
    "    tokenized_sentences = []\n",
    "\n",
    "    for sentence in tqdm(sentences):\n",
    "        tokenized_sentence = tokenizer.encode(\n",
    "                            sentence,                  # Sentence to encode.\n",
    "                            add_special_tokens = True, # Add '[CLS]' and '[SEP]'\n",
    "                            max_length = max_seq_len,  # Truncate all sentences.\n",
    "                    )\n",
    "        \n",
    "        tokenized_sentences.append(tokenized_sentence)\n",
    "        \n",
    "    return tokenized_sentences\n",
    "\n",
    "def create_attention_masks(tokenized_and_padded_sentences):\n",
    "    attention_masks = []\n",
    "\n",
    "    for sentence in tokenized_and_padded_sentences:\n",
    "        att_mask = [int(token_id > 0) for token_id in sentence]\n",
    "        attention_masks.append(att_mask)\n",
    "\n",
    "    return np.asarray(attention_masks)\n",
    "\n",
    "train_input_ids = tokenize_sentences(train_data['Sentence'], tokenizer, MAX_LEN)\n",
    "train_input_ids = pad_sequences(train_input_ids, maxlen=MAX_LEN, dtype=\"long\", value=0, truncating=\"post\", padding=\"post\")\n",
    "train_attention_masks = create_attention_masks(train_input_ids)\n",
    "\n",
    "test_input_ids = tokenize_sentences(test_data['Sentence'], tokenizer, MAX_LEN)\n",
    "test_input_ids = pad_sequences(test_input_ids, maxlen=MAX_LEN, dtype=\"long\", value=0, truncating=\"post\", padding=\"post\")\n",
    "test_attention_masks = create_attention_masks(test_input_ids)"
   ]
  },
  {
   "cell_type": "code",
   "execution_count": 92,
   "metadata": {},
   "outputs": [],
   "source": [
    "from transformers import AutoTokenizer,TFT5Model\n",
    "def create_model(): \n",
    "    input_word_ids = tf.keras.layers.Input(shape=(MAX_LEN,), dtype=tf.int32,\n",
    "                                           name=\"input_word_ids\")\n",
    "    bert_layer = TFMobileBertModel.from_pretrained(\"google/mobilebert-uncased\")\n",
    "    bert_outputs = bert_layer(input_word_ids)[0]\n",
    "    pred = tf.keras.layers.Dense(2, activation='softmax')(bert_outputs[:,0,:])\n",
    "    \n",
    "    model = tf.keras.models.Model(inputs=input_word_ids, outputs=pred)\n",
    "    loss = tf.keras.losses.SparseCategoricalCrossentropy(from_logits=True)\n",
    "    model.compile(loss='categorical_crossentropy', optimizer=tf.keras.optimizers.Adam(\n",
    "    learning_rate=0.00002), metrics=['accuracy', f1_m, precision_m, recall_m])\n",
    "    return model"
   ]
  },
  {
   "cell_type": "code",
   "execution_count": 93,
   "metadata": {},
   "outputs": [
    {
     "name": "stderr",
     "output_type": "stream",
     "text": [
      "Some layers from the model checkpoint at google/mobilebert-uncased were not used when initializing TFMobileBertModel: ['seq_relationship___cls', 'predictions___cls']\n",
      "- This IS expected if you are initializing TFMobileBertModel from the checkpoint of a model trained on another task or with another architecture (e.g. initializing a BertForSequenceClassification model from a BertForPreTraining model).\n",
      "- This IS NOT expected if you are initializing TFMobileBertModel from the checkpoint of a model that you expect to be exactly identical (initializing a BertForSequenceClassification model from a BertForSequenceClassification model).\n",
      "All the layers of TFMobileBertModel were initialized from the model checkpoint at google/mobilebert-uncased.\n",
      "If your task is similar to the task the model of the checkpoint was trained on, you can already use TFMobileBertModel for predictions without further training.\n"
     ]
    },
    {
     "name": "stdout",
     "output_type": "stream",
     "text": [
      "WARNING:tensorflow:The parameters `output_attentions`, `output_hidden_states` and `use_cache` cannot be updated when calling a model.They have to be set to True/False in the config object (i.e.: `config=XConfig.from_pretrained('name', output_attentions=True)`).\n",
      "WARNING:tensorflow:The parameter `return_dict` cannot be set in graph mode and will always be set to `True`.\n",
      "Model: \"model_2\"\n",
      "_________________________________________________________________\n",
      "Layer (type)                 Output Shape              Param #   \n",
      "=================================================================\n",
      "input_word_ids (InputLayer)  [(None, 128)]             0         \n",
      "_________________________________________________________________\n",
      "tf_mobile_bert_model (TFMobi TFBaseModelOutputWithPool 24581888  \n",
      "_________________________________________________________________\n",
      "tf.__operators__.getitem_2 ( (None, 512)               0         \n",
      "_________________________________________________________________\n",
      "dense_8 (Dense)              (None, 2)                 1026      \n",
      "=================================================================\n",
      "Total params: 24,582,914\n",
      "Trainable params: 24,582,914\n",
      "Non-trainable params: 0\n",
      "_________________________________________________________________\n"
     ]
    }
   ],
   "source": [
    "model_topic = create_model()\n",
    "    \n",
    "model_topic.summary()"
   ]
  },
  {
   "cell_type": "code",
   "execution_count": 94,
   "metadata": {},
   "outputs": [],
   "source": [
    "types = np.unique(df.polarity.values)\n",
    "\n",
    "def get_type_index(string):\n",
    "    return list(types).index(string)"
   ]
  },
  {
   "cell_type": "code",
   "execution_count": 95,
   "metadata": {},
   "outputs": [],
   "source": [
    "train_data['type_index'] = df['polarity'].apply(get_type_index)"
   ]
  },
  {
   "cell_type": "code",
   "execution_count": 96,
   "metadata": {},
   "outputs": [],
   "source": [
    "one_hot_labels = tf.keras.utils.to_categorical(train_data.type_index.values, num_classes=2)"
   ]
  },
  {
   "cell_type": "code",
   "execution_count": 97,
   "metadata": {},
   "outputs": [
    {
     "name": "stdout",
     "output_type": "stream",
     "text": [
      "Epoch 1/20\n",
      "WARNING:tensorflow:The parameters `output_attentions`, `output_hidden_states` and `use_cache` cannot be updated when calling a model.They have to be set to True/False in the config object (i.e.: `config=XConfig.from_pretrained('name', output_attentions=True)`).\n",
      "WARNING:tensorflow:The parameter `return_dict` cannot be set in graph mode and will always be set to `True`.\n",
      "WARNING:tensorflow:The parameters `output_attentions`, `output_hidden_states` and `use_cache` cannot be updated when calling a model.They have to be set to True/False in the config object (i.e.: `config=XConfig.from_pretrained('name', output_attentions=True)`).\n",
      "WARNING:tensorflow:The parameter `return_dict` cannot be set in graph mode and will always be set to `True`.\n",
      "70/70 [==============================] - ETA: 0s - loss: 466777.5625 - accuracy: 0.7585 - f1_m: 0.7596 - precision_m: 0.7596 - recall_m: 0.7596WARNING:tensorflow:The parameters `output_attentions`, `output_hidden_states` and `use_cache` cannot be updated when calling a model.They have to be set to True/False in the config object (i.e.: `config=XConfig.from_pretrained('name', output_attentions=True)`).\n",
      "WARNING:tensorflow:The parameter `return_dict` cannot be set in graph mode and will always be set to `True`.\n",
      "70/70 [==============================] - 37s 316ms/step - loss: 466777.5625 - accuracy: 0.7585 - f1_m: 0.7596 - precision_m: 0.7596 - recall_m: 0.7596 - val_loss: 0.9735 - val_accuracy: 0.7442 - val_f1_m: 0.7413 - val_precision_m: 0.7413 - val_recall_m: 0.7413\n",
      "Epoch 2/20\n",
      "70/70 [==============================] - 18s 260ms/step - loss: 1.0065 - accuracy: 0.7571 - f1_m: 0.7518 - precision_m: 0.7518 - recall_m: 0.7518 - val_loss: 0.6831 - val_accuracy: 0.6617 - val_f1_m: 0.6745 - val_precision_m: 0.6745 - val_recall_m: 0.6745\n",
      "Epoch 3/20\n",
      "70/70 [==============================] - 18s 262ms/step - loss: 16.1795 - accuracy: 0.7318 - f1_m: 0.7300 - precision_m: 0.7300 - recall_m: 0.7300 - val_loss: 0.8995 - val_accuracy: 0.4249 - val_f1_m: 0.4340 - val_precision_m: 0.4340 - val_recall_m: 0.4340\n",
      "Epoch 4/20\n",
      "70/70 [==============================] - 19s 264ms/step - loss: 10.5016 - accuracy: 0.7088 - f1_m: 0.7089 - precision_m: 0.7089 - recall_m: 0.7089 - val_loss: 0.8736 - val_accuracy: 0.4330 - val_f1_m: 0.4544 - val_precision_m: 0.4544 - val_recall_m: 0.4544\n",
      "Epoch 5/20\n",
      "70/70 [==============================] - 18s 260ms/step - loss: 12.2693 - accuracy: 0.7002 - f1_m: 0.7036 - precision_m: 0.7036 - recall_m: 0.7036 - val_loss: 0.8428 - val_accuracy: 0.4520 - val_f1_m: 0.4727 - val_precision_m: 0.4727 - val_recall_m: 0.4727\n",
      "Epoch 6/20\n",
      "70/70 [==============================] - 18s 263ms/step - loss: 6.9289 - accuracy: 0.7029 - f1_m: 0.7047 - precision_m: 0.7047 - recall_m: 0.7047 - val_loss: 0.8355 - val_accuracy: 0.4520 - val_f1_m: 0.4727 - val_precision_m: 0.4727 - val_recall_m: 0.4727\n",
      "Epoch 7/20\n",
      "70/70 [==============================] - 18s 262ms/step - loss: 1.4424 - accuracy: 0.7011 - f1_m: 0.7029 - precision_m: 0.7029 - recall_m: 0.7029 - val_loss: 0.8123 - val_accuracy: 0.4628 - val_f1_m: 0.4831 - val_precision_m: 0.4831 - val_recall_m: 0.4831\n",
      "Epoch 8/20\n",
      "70/70 [==============================] - 18s 263ms/step - loss: 1.7964 - accuracy: 0.7097 - f1_m: 0.7129 - precision_m: 0.7129 - recall_m: 0.7129 - val_loss: 0.7689 - val_accuracy: 0.4966 - val_f1_m: 0.5156 - val_precision_m: 0.5156 - val_recall_m: 0.5156\n",
      "Epoch 9/20\n",
      "70/70 [==============================] - 18s 262ms/step - loss: 0.6579 - accuracy: 0.7192 - f1_m: 0.7191 - precision_m: 0.7191 - recall_m: 0.7191 - val_loss: 0.7410 - val_accuracy: 0.5223 - val_f1_m: 0.5404 - val_precision_m: 0.5404 - val_recall_m: 0.5404\n",
      "Epoch 10/20\n",
      "70/70 [==============================] - 19s 264ms/step - loss: 0.6565 - accuracy: 0.7165 - f1_m: 0.7149 - precision_m: 0.7149 - recall_m: 0.7149 - val_loss: 0.7192 - val_accuracy: 0.5386 - val_f1_m: 0.5560 - val_precision_m: 0.5560 - val_recall_m: 0.5560\n",
      "Epoch 11/20\n",
      "70/70 [==============================] - 18s 262ms/step - loss: 30.4684 - accuracy: 0.7192 - f1_m: 0.7175 - precision_m: 0.7175 - recall_m: 0.7175 - val_loss: 0.6641 - val_accuracy: 0.6022 - val_f1_m: 0.6046 - val_precision_m: 0.6046 - val_recall_m: 0.6046\n",
      "Epoch 12/20\n",
      "70/70 [==============================] - 18s 261ms/step - loss: 0.6475 - accuracy: 0.7151 - f1_m: 0.7151 - precision_m: 0.7151 - recall_m: 0.7151 - val_loss: 0.6645 - val_accuracy: 0.6022 - val_f1_m: 0.6046 - val_precision_m: 0.6046 - val_recall_m: 0.6046\n",
      "Epoch 13/20\n",
      "70/70 [==============================] - 18s 261ms/step - loss: 0.6351 - accuracy: 0.7156 - f1_m: 0.7156 - precision_m: 0.7156 - recall_m: 0.7156 - val_loss: 0.6765 - val_accuracy: 0.5900 - val_f1_m: 0.5929 - val_precision_m: 0.5929 - val_recall_m: 0.5929\n",
      "Epoch 14/20\n",
      "70/70 [==============================] - 18s 263ms/step - loss: 0.7274 - accuracy: 0.7223 - f1_m: 0.7239 - precision_m: 0.7239 - recall_m: 0.7239 - val_loss: 0.6489 - val_accuracy: 0.6198 - val_f1_m: 0.6215 - val_precision_m: 0.6215 - val_recall_m: 0.6215\n",
      "Epoch 15/20\n",
      "70/70 [==============================] - 18s 263ms/step - loss: 0.6223 - accuracy: 0.7142 - f1_m: 0.7174 - precision_m: 0.7174 - recall_m: 0.7174 - val_loss: 0.6542 - val_accuracy: 0.6198 - val_f1_m: 0.6215 - val_precision_m: 0.6215 - val_recall_m: 0.6215\n",
      "Epoch 16/20\n",
      "70/70 [==============================] - 18s 263ms/step - loss: 0.6351 - accuracy: 0.7106 - f1_m: 0.7107 - precision_m: 0.7107 - recall_m: 0.7107 - val_loss: 0.6496 - val_accuracy: 0.6198 - val_f1_m: 0.6215 - val_precision_m: 0.6215 - val_recall_m: 0.6215\n",
      "Epoch 17/20\n",
      "70/70 [==============================] - 18s 261ms/step - loss: 0.6110 - accuracy: 0.7242 - f1_m: 0.7256 - precision_m: 0.7256 - recall_m: 0.7256 - val_loss: 0.6394 - val_accuracy: 0.6428 - val_f1_m: 0.6437 - val_precision_m: 0.6437 - val_recall_m: 0.6437\n",
      "Epoch 18/20\n",
      "70/70 [==============================] - 18s 261ms/step - loss: 0.6039 - accuracy: 0.7251 - f1_m: 0.7249 - precision_m: 0.7249 - recall_m: 0.7249 - val_loss: 0.6506 - val_accuracy: 0.6198 - val_f1_m: 0.6215 - val_precision_m: 0.6215 - val_recall_m: 0.6215\n",
      "Epoch 19/20\n",
      "70/70 [==============================] - 18s 262ms/step - loss: 0.6179 - accuracy: 0.7192 - f1_m: 0.7191 - precision_m: 0.7191 - recall_m: 0.7191 - val_loss: 0.6548 - val_accuracy: 0.6130 - val_f1_m: 0.6150 - val_precision_m: 0.6150 - val_recall_m: 0.6150\n",
      "Epoch 20/20\n",
      "70/70 [==============================] - 18s 263ms/step - loss: 0.6227 - accuracy: 0.7260 - f1_m: 0.7226 - precision_m: 0.7226 - recall_m: 0.7226 - val_loss: 0.6495 - val_accuracy: 0.6184 - val_f1_m: 0.6202 - val_precision_m: 0.6202 - val_recall_m: 0.6202\n"
     ]
    }
   ],
   "source": [
    "hist4 = model_topic.fit(np.array(train_input_ids), one_hot_labels, verbose = 1, epochs = NR_EPOCHS, batch_size = BATCH_SIZE, validation_split=0.25)"
   ]
  },
  {
   "cell_type": "code",
   "execution_count": 104,
   "metadata": {},
   "outputs": [],
   "source": [
    "ele_acc = hist4.history['val_accuracy'][19]\n",
    "ele_prec = hist4.history['val_precision_m'][19]\n",
    "ele_rec = hist4.history['val_recall_m'][19]\n",
    "ele_f1 = hist4.history['val_f1_m'][19]"
   ]
  },
  {
   "cell_type": "code",
   "execution_count": 114,
   "metadata": {},
   "outputs": [],
   "source": [
    "storeResults('TopicBERT',ele_acc,ele_prec,ele_rec,ele_f1)"
   ]
  },
  {
   "cell_type": "code",
   "execution_count": 106,
   "metadata": {},
   "outputs": [
    {
     "data": {
      "image/png": "[encoded data removed]",
      "text/plain": [
       "<Figure size 432x288 with 1 Axes>"
      ]
     },
     "metadata": {
      "needs_background": "light"
     },
     "output_type": "display_data"
    }
   ],
   "source": [
    "plt.plot(hist4.history['accuracy'])\n",
    "plt.plot(hist4.history['val_accuracy'])\n",
    "plt.title('Accuracy Curves')\n",
    "plt.ylabel('Accuracy')\n",
    "plt.xlabel('Epoch')\n",
    "plt.legend(['Train', 'Test'], loc='upper left')\n",
    "plt.show()"
   ]
  },
  {
   "cell_type": "code",
   "execution_count": 107,
   "metadata": {},
   "outputs": [
    {
     "data": {
      "image/png": "[encoded data removed]",
      "text/plain": [
       "<Figure size 432x288 with 1 Axes>"
      ]
     },
     "metadata": {
      "needs_background": "light"
     },
     "output_type": "display_data"
    }
   ],
   "source": [
    "plt.plot(hist4.history['loss'])\n",
    "plt.plot(hist4.history['val_loss'])\n",
    "plt.title('Loss Curves')\n",
    "plt.ylabel('Loss')\n",
    "plt.xlabel('Epoch')\n",
    "plt.legend(['Train', 'Test'], loc='upper left')\n",
    "plt.show()"
   ]
  },
  {
   "cell_type": "markdown",
   "metadata": {},
   "source": [
    "# Comparison"
   ]
  },
  {
   "cell_type": "code",
   "execution_count": 118,
   "metadata": {},
   "outputs": [],
   "source": [
    "#creating dataframe\n",
    "result = pd.DataFrame({ 'ML Model' : ML_Model,\n",
    "                        'Accuracy' : accuracy,\n",
    "                       'Precision': precision,\n",
    "                       'Recall'   : recall,\n",
    "                        'f1_score' : f1score,\n",
    "                      })"
   ]
  },
  {
   "cell_type": "code",
   "execution_count": 119,
   "metadata": {},
   "outputs": [
    {
     "data": {
      "text/html": [
       "<div>\n",
       "<style scoped>\n",
       "    .dataframe tbody tr th:only-of-type {\n",
       "        vertical-align: middle;\n",
       "    }\n",
       "\n",
       "    .dataframe tbody tr th {\n",
       "        vertical-align: top;\n",
       "    }\n",
       "\n",
       "    .dataframe thead th {\n",
       "        text-align: right;\n",
       "    }\n",
       "</style>\n",
       "<table border=\"1\" class=\"dataframe\">\n",
       "  <thead>\n",
       "    <tr style=\"text-align: right;\">\n",
       "      <th></th>\n",
       "      <th>ML Model</th>\n",
       "      <th>Accuracy</th>\n",
       "      <th>Precision</th>\n",
       "      <th>Recall</th>\n",
       "      <th>f1_score</th>\n",
       "    </tr>\n",
       "  </thead>\n",
       "  <tbody>\n",
       "    <tr>\n",
       "      <th>0</th>\n",
       "      <td>LSTM</td>\n",
       "      <td>0.934</td>\n",
       "      <td>0.934</td>\n",
       "      <td>0.934</td>\n",
       "      <td>0.934</td>\n",
       "    </tr>\n",
       "    <tr>\n",
       "      <th>1</th>\n",
       "      <td>LSTM+GRU Ensemble Model</td>\n",
       "      <td>0.923</td>\n",
       "      <td>0.924</td>\n",
       "      <td>0.925</td>\n",
       "      <td>0.924</td>\n",
       "    </tr>\n",
       "    <tr>\n",
       "      <th>2</th>\n",
       "      <td>BERTsmall</td>\n",
       "      <td>0.839</td>\n",
       "      <td>0.845</td>\n",
       "      <td>0.845</td>\n",
       "      <td>0.845</td>\n",
       "    </tr>\n",
       "    <tr>\n",
       "      <th>3</th>\n",
       "      <td>TopicBERT</td>\n",
       "      <td>0.618</td>\n",
       "      <td>0.620</td>\n",
       "      <td>0.620</td>\n",
       "      <td>0.620</td>\n",
       "    </tr>\n",
       "    <tr>\n",
       "      <th>4</th>\n",
       "      <td>BERTlarge</td>\n",
       "      <td>0.839</td>\n",
       "      <td>0.845</td>\n",
       "      <td>0.845</td>\n",
       "      <td>0.845</td>\n",
       "    </tr>\n",
       "  </tbody>\n",
       "</table>\n",
       "</div>"
      ],
      "text/plain": [
       "                  ML Model  Accuracy  Precision  Recall  f1_score\n",
       "0                     LSTM     0.934      0.934   0.934     0.934\n",
       "1  LSTM+GRU Ensemble Model     0.923      0.924   0.925     0.924\n",
       "2                BERTsmall     0.839      0.845   0.845     0.845\n",
       "3                TopicBERT     0.618      0.620   0.620     0.620\n",
       "4                BERTlarge     0.839      0.845   0.845     0.845"
      ]
     },
     "execution_count": 119,
     "metadata": {},
     "output_type": "execute_result"
    }
   ],
   "source": [
    "result"
   ]
  },
  {
   "cell_type": "markdown",
   "metadata": {},
   "source": [
    "# Modelling"
   ]
  },
  {
   "cell_type": "code",
   "execution_count": 120,
   "metadata": {},
   "outputs": [],
   "source": [
    "model_hy.save('model.h5')"
   ]
  },
  {
   "cell_type": "markdown",
   "metadata": {},
   "source": [
    "# Graph"
   ]
  },
  {
   "cell_type": "code",
   "execution_count": 121,
   "metadata": {},
   "outputs": [],
   "source": [
    "classifier = ML_Model\n",
    "y_pos = np.arange(len(classifier))"
   ]
  },
  {
   "cell_type": "markdown",
   "metadata": {},
   "source": [
    "# Accuracy"
   ]
  },
  {
   "cell_type": "code",
   "execution_count": 122,
   "metadata": {},
   "outputs": [
    {
     "data": {
      "image/png": "[encoded data removed]",
      "text/plain": [
       "<Figure size 432x288 with 1 Axes>"
      ]
     },
     "metadata": {
      "needs_background": "light"
     },
     "output_type": "display_data"
    }
   ],
   "source": [
    "import matplotlib.pyplot as plt2\n",
    "plt2.barh(y_pos, accuracy, align='center', alpha=0.5,color='blue')\n",
    "plt2.yticks(y_pos, classifier)\n",
    "plt2.xlabel('Accuracy Score')\n",
    "plt2.title('Classification Performance')\n",
    "plt2.show()"
   ]
  },
  {
   "cell_type": "markdown",
   "metadata": {},
   "source": [
    "# Precision"
   ]
  },
  {
   "cell_type": "code",
   "execution_count": 123,
   "metadata": {},
   "outputs": [
    {
     "data": {
      "image/png": "[encoded data removed]",
      "text/plain": [
       "<Figure size 432x288 with 1 Axes>"
      ]
     },
     "metadata": {
      "needs_background": "light"
     },
     "output_type": "display_data"
    }
   ],
   "source": [
    "import matplotlib.pyplot as plt2\n",
    "plt2.barh(y_pos, precision, align='center', alpha=0.5,color='red')\n",
    "plt2.yticks(y_pos, classifier)\n",
    "plt2.xlabel('Precision Score')\n",
    "plt2.title('Classification Performance')\n",
    "plt2.show()"
   ]
  },
  {
   "cell_type": "markdown",
   "metadata": {},
   "source": [
    "# Recall"
   ]
  },
  {
   "cell_type": "code",
   "execution_count": 124,
   "metadata": {},
   "outputs": [
    {
     "data": {
      "image/png": "[encoded data removed]",
      "text/plain": [
       "<Figure size 432x288 with 1 Axes>"
      ]
     },
     "metadata": {
      "needs_background": "light"
     },
     "output_type": "display_data"
    }
   ],
   "source": [
    "import matplotlib.pyplot as plt2\n",
    "plt2.barh(y_pos, recall, align='center', alpha=0.5,color='yellow')\n",
    "plt2.yticks(y_pos, classifier)\n",
    "plt2.xlabel('Recall Score')\n",
    "plt2.title('Classification Performance')\n",
    "plt2.show()"
   ]
  },
  {
   "cell_type": "markdown",
   "metadata": {},
   "source": [
    "# F1 Score"
   ]
  },
  {
   "cell_type": "code",
   "execution_count": 125,
   "metadata": {},
   "outputs": [
    {
     "data": {
      "image/png": "[encoded data removed]",
      "text/plain": [
       "<Figure size 432x288 with 1 Axes>"
      ]
     },
     "metadata": {
      "needs_background": "light"
     },
     "output_type": "display_data"
    }
   ],
   "source": [
    "import matplotlib.pyplot as plt2\n",
    "plt2.barh(y_pos, f1score, align='center', alpha=0.5,color='green')\n",
    "plt2.yticks(y_pos, classifier)\n",
    "plt2.xlabel('F1 Score')\n",
    "plt2.title('Classification Performance')\n",
    "plt2.show()"
   ]
  },
  {
   "cell_type": "code",
   "execution_count": null,
   "metadata": {},
   "outputs": [],
   "source": []
  }
 ],
 "metadata": {
  "kernelspec": {
   "display_name": "Python 3",
   "language": "python",
   "name": "python3"
  },
  "language_info": {
   "codemirror_mode": {
    "name": "ipython",
    "version": 3
   },
   "file_extension": ".py",
   "mimetype": "text/x-python",
   "name": "python",
   "nbconvert_exporter": "python",
   "pygments_lexer": "ipython3",
   "version": "3.7.4"
  }
 },
 "nbformat": 4,
 "nbformat_minor": 2
}
